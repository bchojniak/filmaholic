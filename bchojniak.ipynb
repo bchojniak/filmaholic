{
 "cells": [
  {
   "cell_type": "code",
   "execution_count": 7,
   "metadata": {},
   "outputs": [],
   "source": [
    "from google.cloud import bigquery\n",
    "import pandas as pd\n",
    "import numpy as np\n",
    "from pathlib import Path"
   ]
  },
  {
   "cell_type": "code",
   "execution_count": 8,
   "metadata": {},
   "outputs": [],
   "source": [
    "PROJECT = \"filmaholic-398017\"\n",
    "DATASET = \"filmaholic\"\n",
    "cache_path = Path(\"./raw_data\")"
   ]
  },
  {
   "cell_type": "code",
   "execution_count": 9,
   "metadata": {},
   "outputs": [],
   "source": [
    "tables_to_query = ['links', 'movies', 'tags', 'ratings']\n",
    "dfs = {}"
   ]
  },
  {
   "cell_type": "code",
   "execution_count": 10,
   "metadata": {},
   "outputs": [
    {
     "name": "stdout",
     "output_type": "stream",
     "text": [
      "Table links loaded from cache\n",
      "Table movies loaded from cache\n",
      "Table tags loaded from cache\n",
      "Table ratings loaded from cache\n"
     ]
    }
   ],
   "source": [
    "for table in tables_to_query:\n",
    "    \n",
    "    file_cache_path = cache_path.joinpath(f\"raw-{table}.csv\")\n",
    "    \n",
    "    if file_cache_path.is_file():\n",
    "        dfs[table] = pd.read_csv(file_cache_path, dtype='str')\n",
    "        \n",
    "        print(f\"Table {table} loaded from cache\")\n",
    "    \n",
    "    else:\n",
    "        query = f\"\"\"\n",
    "        SELECT * FROM `{PROJECT}.{DATASET}.raw-{table}`\n",
    "        \"\"\"\n",
    "    \n",
    "        client = bigquery.Client(project=PROJECT)\n",
    "        query_job = client.query(query)\n",
    "        result = query_job.result()\n",
    "        dfs[table] = result.to_dataframe()\n",
    "        \n",
    "        print(f\"Table {table} loaded from bigquery\")\n",
    "        \n",
    "        if dfs[table].shape[0] > 1:\n",
    "            dfs[table].to_csv(file_cache_path, index=False)\n",
    "            \n",
    "            print(f\"Table {table} cached\")"
   ]
  },
  {
   "cell_type": "markdown",
   "metadata": {},
   "source": [
    "# Simple correlation"
   ]
  },
  {
   "cell_type": "code",
   "execution_count": 11,
   "metadata": {},
   "outputs": [
    {
     "data": {
      "text/html": [
       "<div>\n",
       "<style scoped>\n",
       "    .dataframe tbody tr th:only-of-type {\n",
       "        vertical-align: middle;\n",
       "    }\n",
       "\n",
       "    .dataframe tbody tr th {\n",
       "        vertical-align: top;\n",
       "    }\n",
       "\n",
       "    .dataframe thead th {\n",
       "        text-align: right;\n",
       "    }\n",
       "</style>\n",
       "<table border=\"1\" class=\"dataframe\">\n",
       "  <thead>\n",
       "    <tr style=\"text-align: right;\">\n",
       "      <th></th>\n",
       "      <th>movieId</th>\n",
       "      <th>title</th>\n",
       "      <th>genres</th>\n",
       "    </tr>\n",
       "  </thead>\n",
       "  <tbody>\n",
       "    <tr>\n",
       "      <th>0</th>\n",
       "      <td>777</td>\n",
       "      <td>Pharaoh's Army (1995)</td>\n",
       "      <td>War</td>\n",
       "    </tr>\n",
       "    <tr>\n",
       "      <th>1</th>\n",
       "      <td>1450</td>\n",
       "      <td>Prisoner of the Mountains (Kavkazsky plennik) ...</td>\n",
       "      <td>War</td>\n",
       "    </tr>\n",
       "    <tr>\n",
       "      <th>2</th>\n",
       "      <td>2669</td>\n",
       "      <td>Pork Chop Hill (1959)</td>\n",
       "      <td>War</td>\n",
       "    </tr>\n",
       "    <tr>\n",
       "      <th>3</th>\n",
       "      <td>2670</td>\n",
       "      <td>Run Silent Run Deep (1958)</td>\n",
       "      <td>War</td>\n",
       "    </tr>\n",
       "    <tr>\n",
       "      <th>4</th>\n",
       "      <td>3339</td>\n",
       "      <td>Cross of Iron (1977)</td>\n",
       "      <td>War</td>\n",
       "    </tr>\n",
       "    <tr>\n",
       "      <th>...</th>\n",
       "      <td>...</td>\n",
       "      <td>...</td>\n",
       "      <td>...</td>\n",
       "    </tr>\n",
       "    <tr>\n",
       "      <th>62418</th>\n",
       "      <td>1907</td>\n",
       "      <td>Mulan (1998)</td>\n",
       "      <td>Adventure|Animation|Children|Comedy|Drama|Musi...</td>\n",
       "    </tr>\n",
       "    <tr>\n",
       "      <th>62419</th>\n",
       "      <td>56152</td>\n",
       "      <td>Enchanted (2007)</td>\n",
       "      <td>Adventure|Animation|Children|Comedy|Fantasy|Mu...</td>\n",
       "    </tr>\n",
       "    <tr>\n",
       "      <th>62420</th>\n",
       "      <td>5018</td>\n",
       "      <td>Motorama (1991)</td>\n",
       "      <td>Adventure|Comedy|Crime|Drama|Fantasy|Mystery|S...</td>\n",
       "    </tr>\n",
       "    <tr>\n",
       "      <th>62421</th>\n",
       "      <td>26093</td>\n",
       "      <td>Wonderful World of the Brothers Grimm, The (1962)</td>\n",
       "      <td>Adventure|Animation|Children|Comedy|Drama|Fant...</td>\n",
       "    </tr>\n",
       "    <tr>\n",
       "      <th>62422</th>\n",
       "      <td>81132</td>\n",
       "      <td>Rubber (2010)</td>\n",
       "      <td>Action|Adventure|Comedy|Crime|Drama|Film-Noir|...</td>\n",
       "    </tr>\n",
       "  </tbody>\n",
       "</table>\n",
       "<p>62423 rows × 3 columns</p>\n",
       "</div>"
      ],
      "text/plain": [
       "       movieId                                              title  \\\n",
       "0          777                              Pharaoh's Army (1995)   \n",
       "1         1450  Prisoner of the Mountains (Kavkazsky plennik) ...   \n",
       "2         2669                              Pork Chop Hill (1959)   \n",
       "3         2670                         Run Silent Run Deep (1958)   \n",
       "4         3339                               Cross of Iron (1977)   \n",
       "...        ...                                                ...   \n",
       "62418     1907                                       Mulan (1998)   \n",
       "62419    56152                                   Enchanted (2007)   \n",
       "62420     5018                                    Motorama (1991)   \n",
       "62421    26093  Wonderful World of the Brothers Grimm, The (1962)   \n",
       "62422    81132                                      Rubber (2010)   \n",
       "\n",
       "                                                  genres  \n",
       "0                                                    War  \n",
       "1                                                    War  \n",
       "2                                                    War  \n",
       "3                                                    War  \n",
       "4                                                    War  \n",
       "...                                                  ...  \n",
       "62418  Adventure|Animation|Children|Comedy|Drama|Musi...  \n",
       "62419  Adventure|Animation|Children|Comedy|Fantasy|Mu...  \n",
       "62420  Adventure|Comedy|Crime|Drama|Fantasy|Mystery|S...  \n",
       "62421  Adventure|Animation|Children|Comedy|Drama|Fant...  \n",
       "62422  Action|Adventure|Comedy|Crime|Drama|Film-Noir|...  \n",
       "\n",
       "[62423 rows x 3 columns]"
      ]
     },
     "execution_count": 11,
     "metadata": {},
     "output_type": "execute_result"
    }
   ],
   "source": [
    "dfs['movies']"
   ]
  },
  {
   "cell_type": "code",
   "execution_count": 12,
   "metadata": {},
   "outputs": [],
   "source": [
    "merged = dfs['ratings'].merge(dfs['movies'], on='movieId', how='left')"
   ]
  },
  {
   "cell_type": "code",
   "execution_count": 13,
   "metadata": {},
   "outputs": [
    {
     "name": "stderr",
     "output_type": "stream",
     "text": [
      "/tmp/ipykernel_530230/627713098.py:1: PerformanceWarning: The following operation may generate 9583092278 cells in the resulting pandas object.\n",
      "  pivoted = merged.pivot_table(index='userId', columns='title', values='rating')\n"
     ]
    },
    {
     "ename": "",
     "evalue": "",
     "output_type": "error",
     "traceback": [
      "\u001b[1;31mCannot execute code, session has been disposed. Please try restarting the Kernel."
     ]
    },
    {
     "ename": "",
     "evalue": "",
     "output_type": "error",
     "traceback": [
      "\u001b[1;31mThe Kernel crashed while executing code in the the current cell or a previous cell. Please review the code in the cell(s) to identify a possible cause of the failure. Click <a href='https://aka.ms/vscodeJupyterKernelCrash'>here</a> for more info. View Jupyter <a href='command:jupyter.viewOutput'>log</a> for further details."
     ]
    }
   ],
   "source": [
    "pivoted = merged.pivot_table(index='userId', columns='title', values='rating')"
   ]
  }
 ],
 "metadata": {
  "kernelspec": {
   "display_name": "filmaholic",
   "language": "python",
   "name": "python3"
  },
  "language_info": {
   "codemirror_mode": {
    "name": "ipython",
    "version": 3
   },
   "file_extension": ".py",
   "mimetype": "text/x-python",
   "name": "python",
   "nbconvert_exporter": "python",
   "pygments_lexer": "ipython3",
   "version": "3.10.6"
  },
  "orig_nbformat": 4
 },
 "nbformat": 4,
 "nbformat_minor": 2
}
