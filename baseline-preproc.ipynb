{
 "cells": [
  {
   "cell_type": "code",
   "execution_count": 1,
   "metadata": {
    "executionInfo": {
     "elapsed": 3069,
     "status": "ok",
     "timestamp": 1694561321123,
     "user": {
      "displayName": "Bruno Chojniak",
      "userId": "05709488863196059024"
     },
     "user_tz": 180
    },
    "id": "vkVN_cBsVJVE"
   },
   "outputs": [
    {
     "name": "stderr",
     "output_type": "stream",
     "text": [
      "2023-09-15 12:09:21.213878: I tensorflow/core/platform/cpu_feature_guard.cc:182] This TensorFlow binary is optimized to use available CPU instructions in performance-critical operations.\n",
      "To enable the following instructions: AVX2 FMA, in other operations, rebuild TensorFlow with the appropriate compiler flags.\n"
     ]
    }
   ],
   "source": [
    "import re, os, math, datetime, pickle, joblib\n",
    "\n",
    "import pandas as pd\n",
    "import numpy as np\n",
    "\n",
    "from pathlib import Path\n",
    "from google.cloud import bigquery\n",
    "\n",
    "from tensorflow import keras\n",
    "from sklearn.svm import SVR\n",
    "from sklearn.model_selection import train_test_split, GridSearchCV\n",
    "from sklearn.preprocessing import StandardScaler\n",
    "from sklearn.pipeline import Pipeline\n",
    "from sklearn.ensemble import RandomForestRegressor\n",
    "from sklearn.metrics import classification_report\n",
    "from sklearn.utils import shuffle\n",
    "from sklearn.linear_model import LinearRegression"
   ]
  },
  {
   "cell_type": "code",
   "execution_count": 2,
   "metadata": {},
   "outputs": [],
   "source": [
    "from filmaholic.ml_logic.data import upload_to_bigquery, upload_to_cloud_platform, get_data_bigquery\n",
    "from filmaholic.params import *"
   ]
  },
  {
   "cell_type": "code",
   "execution_count": 3,
   "metadata": {},
   "outputs": [],
   "source": [
    "from multiprocessing import Pool"
   ]
  },
  {
   "cell_type": "code",
   "execution_count": 4,
   "metadata": {},
   "outputs": [
    {
     "data": {
      "text/plain": [
       "'filmaholic-398017'"
      ]
     },
     "execution_count": 4,
     "metadata": {},
     "output_type": "execute_result"
    }
   ],
   "source": [
    "GCP_PROJECT"
   ]
  },
  {
   "cell_type": "markdown",
   "metadata": {
    "id": "5p5bvZWN2JM2"
   },
   "source": [
    "# Loading the data"
   ]
  },
  {
   "cell_type": "code",
   "execution_count": 5,
   "metadata": {
    "colab": {
     "base_uri": "https://localhost:8080/"
    },
    "executionInfo": {
     "elapsed": 26680,
     "status": "ok",
     "timestamp": 1694541406271,
     "user": {
      "displayName": "Bruno Chojniak",
      "userId": "05709488863196059024"
     },
     "user_tz": 180
    },
    "id": "i4T1HLhRVJVH",
    "outputId": "bf6f3023-72d0-4579-94f2-6cb3d78175bf"
   },
   "outputs": [
    {
     "name": "stdout",
     "output_type": "stream",
     "text": [
      "Table movies loaded from bigquery\n",
      "Table tags loaded from bigquery\n",
      "Table ratings loaded from bigquery\n"
     ]
    }
   ],
   "source": [
    "PROJECT = \"filmaholic-398017\"\n",
    "DATASET = \"filmaholic\"\n",
    "\n",
    "tables_to_query = ['movies', 'tags', 'ratings']\n",
    "dfs = {}\n",
    "\n",
    "for table in tables_to_query:\n",
    "        query = f\"\"\"\n",
    "        SELECT * FROM `{PROJECT}.{DATASET}.raw-{table}`\n",
    "        \"\"\"\n",
    "\n",
    "        client = bigquery.Client(project=PROJECT)\n",
    "        query_job = client.query(query)\n",
    "        result = query_job.result()\n",
    "        dfs[table] = result.to_dataframe()\n",
    "\n",
    "        print(f\"Table {table} loaded from bigquery\")"
   ]
  },
  {
   "cell_type": "markdown",
   "metadata": {
    "id": "7g1D20M3JHAA"
   },
   "source": [
    "# Subsetting the data"
   ]
  },
  {
   "cell_type": "markdown",
   "metadata": {
    "id": "CHBF2_FYVJVJ"
   },
   "source": [
    "### Merging ratings & movies dfs"
   ]
  },
  {
   "cell_type": "code",
   "execution_count": 7,
   "metadata": {
    "executionInfo": {
     "elapsed": 10484,
     "status": "ok",
     "timestamp": 1694541420694,
     "user": {
      "displayName": "Bruno Chojniak",
      "userId": "05709488863196059024"
     },
     "user_tz": 180
    },
    "id": "hDVW9aSHVJVL"
   },
   "outputs": [],
   "source": [
    "merged = dfs['ratings'].merge(dfs['movies'], on='movieId', how='left')"
   ]
  },
  {
   "cell_type": "markdown",
   "metadata": {
    "id": "66ZSkT_71lLN",
    "jp-MarkdownHeadingCollapsed": true,
    "tags": []
   },
   "source": [
    "### Popular titles & active users (not being used)"
   ]
  },
  {
   "cell_type": "code",
   "execution_count": 9,
   "metadata": {
    "executionInfo": {
     "elapsed": 11,
     "status": "ok",
     "timestamp": 1694463696731,
     "user": {
      "displayName": "Bruno Chojniak",
      "userId": "05709488863196059024"
     },
     "user_tz": 180
    },
    "id": "iZWYivVfoXKP"
   },
   "outputs": [],
   "source": [
    "# avg_ratings_per_movie = pd.DataFrame(merged.groupby('title')['rating'].mean())\n",
    "# avg_ratings_per_movie['total_ratings'] = pd.DataFrame(merged.groupby('title')['rating'].count())\n",
    "# avg_ratings_per_movie = avg_ratings_per_movie.sort_values('total_ratings',ascending=False)"
   ]
  },
  {
   "cell_type": "code",
   "execution_count": 10,
   "metadata": {
    "executionInfo": {
     "elapsed": 9,
     "status": "ok",
     "timestamp": 1694463696731,
     "user": {
      "displayName": "Bruno Chojniak",
      "userId": "05709488863196059024"
     },
     "user_tz": 180
    },
    "id": "oVginEDnw_vC"
   },
   "outputs": [],
   "source": [
    "# popular_titles = avg_ratings_per_movie[avg_ratings_per_movie.total_ratings>10000].index\n",
    "# popular_titles = list(popular_titles)"
   ]
  },
  {
   "cell_type": "code",
   "execution_count": 11,
   "metadata": {
    "executionInfo": {
     "elapsed": 10,
     "status": "ok",
     "timestamp": 1694463696732,
     "user": {
      "displayName": "Bruno Chojniak",
      "userId": "05709488863196059024"
     },
     "user_tz": 180
    },
    "id": "ZpKrC_aSzLAR"
   },
   "outputs": [],
   "source": [
    "# len(popular_titles)"
   ]
  },
  {
   "cell_type": "code",
   "execution_count": 12,
   "metadata": {
    "executionInfo": {
     "elapsed": 9,
     "status": "ok",
     "timestamp": 1694463696732,
     "user": {
      "displayName": "Bruno Chojniak",
      "userId": "05709488863196059024"
     },
     "user_tz": 180
    },
    "id": "0W3bebWpxnD1"
   },
   "outputs": [],
   "source": [
    "# merged_reduced_per_movies = merged[merged.title.isin(popular_titles)]"
   ]
  },
  {
   "cell_type": "code",
   "execution_count": 13,
   "metadata": {
    "executionInfo": {
     "elapsed": 8,
     "status": "ok",
     "timestamp": 1694463696732,
     "user": {
      "displayName": "Bruno Chojniak",
      "userId": "05709488863196059024"
     },
     "user_tz": 180
    },
    "id": "htdNvlJt1-8W"
   },
   "outputs": [],
   "source": [
    "# avg_ratings_per_user = pd.DataFrame(merged.groupby('userId')['rating'].mean())\n",
    "# avg_ratings_per_user['total_ratings'] = pd.DataFrame(merged.groupby('userId')['rating'].count())\n",
    "# avg_ratings_per_user = avg_ratings_per_user.sort_values('total_ratings',ascending=False)\n",
    "# avg_ratings_per_user"
   ]
  },
  {
   "cell_type": "code",
   "execution_count": 14,
   "metadata": {
    "executionInfo": {
     "elapsed": 7,
     "status": "ok",
     "timestamp": 1694463696732,
     "user": {
      "displayName": "Bruno Chojniak",
      "userId": "05709488863196059024"
     },
     "user_tz": 180
    },
    "id": "RDcYQFC21-6P"
   },
   "outputs": [],
   "source": [
    "# active_users = avg_ratings_per_user[avg_ratings_per_user.total_ratings>700].index\n",
    "# active_users = list(active_users)"
   ]
  },
  {
   "cell_type": "code",
   "execution_count": 15,
   "metadata": {
    "executionInfo": {
     "elapsed": 8,
     "status": "ok",
     "timestamp": 1694463696733,
     "user": {
      "displayName": "Bruno Chojniak",
      "userId": "05709488863196059024"
     },
     "user_tz": 180
    },
    "id": "1PiCaO011-zh"
   },
   "outputs": [],
   "source": [
    "# len(active_users)"
   ]
  },
  {
   "cell_type": "code",
   "execution_count": 16,
   "metadata": {
    "executionInfo": {
     "elapsed": 8,
     "status": "ok",
     "timestamp": 1694463696733,
     "user": {
      "displayName": "Bruno Chojniak",
      "userId": "05709488863196059024"
     },
     "user_tz": 180
    },
    "id": "L90QJ6Wl1-xZ"
   },
   "outputs": [],
   "source": [
    "# merged_reduced_per_active_users = merged[merged.userId.isin(active_users)]"
   ]
  },
  {
   "cell_type": "markdown",
   "metadata": {
    "id": "0WmZ7m-7oy9b",
    "jp-MarkdownHeadingCollapsed": true,
    "tags": []
   },
   "source": [
    "### Random user sample (not being used)"
   ]
  },
  {
   "cell_type": "code",
   "execution_count": 17,
   "metadata": {
    "executionInfo": {
     "elapsed": 7,
     "status": "ok",
     "timestamp": 1694463696733,
     "user": {
      "displayName": "Bruno Chojniak",
      "userId": "05709488863196059024"
     },
     "user_tz": 180
    },
    "id": "MR21TbNCBhKe"
   },
   "outputs": [],
   "source": [
    "# unique_users = merged.userId.drop_duplicates().reset_index()\n",
    "# unique_users.drop('index', axis=1, inplace=True)\n",
    "# random_users = list(unique_users.sample(frac=0.05, random_state=0).userId)"
   ]
  },
  {
   "cell_type": "code",
   "execution_count": 18,
   "metadata": {
    "executionInfo": {
     "elapsed": 7,
     "status": "ok",
     "timestamp": 1694463696733,
     "user": {
      "displayName": "Bruno Chojniak",
      "userId": "05709488863196059024"
     },
     "user_tz": 180
    },
    "id": "kIRKOWePkq1w"
   },
   "outputs": [],
   "source": [
    "# merged.userId = merged.userId.astype('string')\n",
    "# random_users_movies = list(merged[merged.userId.isin(random_users)].movieId)"
   ]
  },
  {
   "cell_type": "markdown",
   "metadata": {
    "id": "yFmOHEjDnWI9"
   },
   "source": [
    "### Baseline"
   ]
  },
  {
   "cell_type": "code",
   "execution_count": 6,
   "metadata": {
    "executionInfo": {
     "elapsed": 4262,
     "status": "ok",
     "timestamp": 1694541433660,
     "user": {
      "displayName": "Bruno Chojniak",
      "userId": "05709488863196059024"
     },
     "user_tz": 180
    },
    "id": "WI8eRT2bKX0s"
   },
   "outputs": [],
   "source": [
    "# avg_ratings_per_user = pd.DataFrame(merged.groupby('userId')['rating'].count())\n",
    "# avg_ratings_per_user = avg_ratings_per_user.sort_values('rating',ascending=False)\n",
    "# subset_users = avg_ratings_per_user[:5000]\n",
    "# subset_users = list(subset_users.index)\n",
    "\n",
    "# subset_movies = merged[merged.userId.isin(subset_users)]\n",
    "\n",
    "# avg_ratings_per_movie = pd.DataFrame(subset_movies.groupby('movieId')['rating'].count())\n",
    "# avg_ratings_per_movie = avg_ratings_per_movie.sort_values('rating',ascending=False)\n",
    "\n",
    "# subset_movies_popular = avg_ratings_per_movie[:500]\n",
    "\n",
    "# user_list = list(set(subset_movies.userId))\n",
    "# movies_list = list(set(subset_movies_popular.index))"
   ]
  },
  {
   "cell_type": "markdown",
   "metadata": {},
   "source": [
    "### Final"
   ]
  },
  {
   "cell_type": "code",
   "execution_count": 8,
   "metadata": {},
   "outputs": [],
   "source": [
    "avg_ratings_per_user = pd.DataFrame(merged.groupby('userId')['rating'].count())\n",
    "avg_ratings_per_user = avg_ratings_per_user.sort_values('rating',ascending=False)\n",
    "subset_users = avg_ratings_per_user[:20000]\n",
    "subset_users = list(subset_users.index)\n",
    "\n",
    "subset_movies = merged[merged.userId.isin(subset_users)]\n",
    "\n",
    "avg_ratings_per_movie = pd.DataFrame(subset_movies.groupby('movieId')['rating'].count())\n",
    "avg_ratings_per_movie = avg_ratings_per_movie.sort_values('rating',ascending=False)\n",
    "\n",
    "subset_movies_popular = avg_ratings_per_movie[:20000]\n",
    "\n",
    "user_list = list(set(subset_movies.userId))\n",
    "movies_list = list(set(subset_movies_popular.index))"
   ]
  },
  {
   "cell_type": "code",
   "execution_count": 9,
   "metadata": {},
   "outputs": [
    {
     "data": {
      "text/plain": [
       "20000"
      ]
     },
     "execution_count": 9,
     "metadata": {},
     "output_type": "execute_result"
    }
   ],
   "source": [
    "len(user_list)"
   ]
  },
  {
   "cell_type": "code",
   "execution_count": 10,
   "metadata": {},
   "outputs": [
    {
     "data": {
      "text/plain": [
       "20000"
      ]
     },
     "execution_count": 10,
     "metadata": {},
     "output_type": "execute_result"
    }
   ],
   "source": [
    "len(movies_list)"
   ]
  },
  {
   "cell_type": "markdown",
   "metadata": {
    "id": "Kz3B1HUAnuVT"
   },
   "source": [
    "### Saving dataframe subsets"
   ]
  },
  {
   "cell_type": "code",
   "execution_count": 11,
   "metadata": {
    "executionInfo": {
     "elapsed": 408,
     "status": "ok",
     "timestamp": 1694541443147,
     "user": {
      "displayName": "Bruno Chojniak",
      "userId": "05709488863196059024"
     },
     "user_tz": 180
    },
    "id": "edksmEwu477w"
   },
   "outputs": [],
   "source": [
    "tags = dfs['tags'].copy()\n",
    "tags = tags[tags.userId.isin(user_list)]\n",
    "tags = tags[tags.movieId.isin(movies_list)]\n",
    "tags = tags.drop('timestamp', axis=1)"
   ]
  },
  {
   "cell_type": "code",
   "execution_count": 12,
   "metadata": {
    "executionInfo": {
     "elapsed": 2,
     "status": "ok",
     "timestamp": 1694541443148,
     "user": {
      "displayName": "Bruno Chojniak",
      "userId": "05709488863196059024"
     },
     "user_tz": 180
    },
    "id": "_RGh3kzViDaY"
   },
   "outputs": [],
   "source": [
    "movies = dfs['movies'].copy()\n",
    "movies = movies[movies.movieId.isin(movies_list)]"
   ]
  },
  {
   "cell_type": "code",
   "execution_count": 13,
   "metadata": {
    "executionInfo": {
     "elapsed": 3179,
     "status": "ok",
     "timestamp": 1694541449995,
     "user": {
      "displayName": "Bruno Chojniak",
      "userId": "05709488863196059024"
     },
     "user_tz": 180
    },
    "id": "fVr6Lt7dfXFL"
   },
   "outputs": [],
   "source": [
    "ratings = dfs['ratings'].copy()\n",
    "ratings.rating = ratings.rating.astype('float')\n",
    "ratings = ratings[ratings.userId.isin(user_list)]\n",
    "ratings = ratings[ratings.movieId.isin(movies_list)]"
   ]
  },
  {
   "cell_type": "code",
   "execution_count": 13,
   "metadata": {
    "id": "byxLl5Zj9p-u"
   },
   "outputs": [],
   "source": [
    "tags.to_csv('data_/tags_subset.csv', index=False)\n",
    "movies.to_csv('data_/movies_subset.csv', index=False)\n",
    "ratings.to_csv('data_/ratings_subset.csv', index=False)"
   ]
  },
  {
   "cell_type": "code",
   "execution_count": 10,
   "metadata": {},
   "outputs": [],
   "source": [
    "# upload_to_bigquery(GCP_PROJECT, BQ_DATASET, 'subset-tags', tags)\n",
    "# upload_to_bigquery(GCP_PROJECT, BQ_DATASET, 'subset-movies', movies)\n",
    "# upload_to_bigquery(GCP_PROJECT, BQ_DATASET, 'subset-ratings', ratings)"
   ]
  },
  {
   "cell_type": "markdown",
   "metadata": {
    "id": "-zI6EJVP18aA",
    "jp-MarkdownHeadingCollapsed": true,
    "tags": []
   },
   "source": [
    "# Correlation (not going to be used)"
   ]
  },
  {
   "cell_type": "code",
   "execution_count": 29,
   "metadata": {
    "executionInfo": {
     "elapsed": 7,
     "status": "ok",
     "timestamp": 1694463703546,
     "user": {
      "displayName": "Bruno Chojniak",
      "userId": "05709488863196059024"
     },
     "user_tz": 180
    },
    "id": "0No0ssW2bfYZ"
   },
   "outputs": [],
   "source": [
    "# n_chunks = 25\n",
    "# arange = np.arange(n_chunks+1)\n",
    "# chunk_size = 162541//n_chunks\n",
    "# arange = arange*(chunk_size)\n",
    "\n",
    "# pivoted = pd.DataFrame()\n",
    "\n",
    "# for i in arange:\n",
    "#   chunk = merged[(merged.userId>i)|(merged.userId<=i+chunk_size)]\n",
    "#   chunk = chunk.pivot_table(index='userId', columns='movieId', values='rating')\n",
    "\n",
    "#   print(\"Iteration\")\n",
    "\n",
    "#   pivoted.append(chunk, axis=1)"
   ]
  },
  {
   "cell_type": "code",
   "execution_count": 30,
   "metadata": {
    "executionInfo": {
     "elapsed": 6,
     "status": "ok",
     "timestamp": 1694463703546,
     "user": {
      "displayName": "Bruno Chojniak",
      "userId": "05709488863196059024"
     },
     "user_tz": 180
    },
    "id": "tsVK1FB5VJVM"
   },
   "outputs": [],
   "source": [
    "# pivoted = merged_reduced.pivot_table(index='userId', columns='title', values='rating')"
   ]
  },
  {
   "cell_type": "code",
   "execution_count": 31,
   "metadata": {
    "executionInfo": {
     "elapsed": 7,
     "status": "ok",
     "timestamp": 1694463703547,
     "user": {
      "displayName": "Bruno Chojniak",
      "userId": "05709488863196059024"
     },
     "user_tz": 180
    },
    "id": "NP9kf-nqXNV9"
   },
   "outputs": [],
   "source": [
    "# toy_story = pivoted.corrwith(pivoted['Toy Story (1995)'])\n",
    "# toy_story.head()"
   ]
  },
  {
   "cell_type": "code",
   "execution_count": 32,
   "metadata": {
    "executionInfo": {
     "elapsed": 7,
     "status": "ok",
     "timestamp": 1694463703547,
     "user": {
      "displayName": "Bruno Chojniak",
      "userId": "05709488863196059024"
     },
     "user_tz": 180
    },
    "id": "kJrxJq_zkAmr"
   },
   "outputs": [],
   "source": [
    "# toy_story_recomm = pd.DataFrame(toy_story,columns=['Correlation'])\n",
    "# toy_story_recomm.dropna(inplace=True)\n",
    "# toy_story_recomm = toy_story_recomm.sort_values('Correlation',ascending=False)"
   ]
  },
  {
   "cell_type": "code",
   "execution_count": 33,
   "metadata": {
    "executionInfo": {
     "elapsed": 7,
     "status": "ok",
     "timestamp": 1694463703548,
     "user": {
      "displayName": "Bruno Chojniak",
      "userId": "05709488863196059024"
     },
     "user_tz": 180
    },
    "id": "vBXGg5lKrcZf"
   },
   "outputs": [],
   "source": [
    "# toy_story_recomm = toy_story_recomm.join(avg_ratings['total_ratings'])\n",
    "# toy_story_recomm = toy_story_recomm[toy_story_recomm['total_ratings']>30]"
   ]
  },
  {
   "cell_type": "code",
   "execution_count": 34,
   "metadata": {
    "executionInfo": {
     "elapsed": 7,
     "status": "ok",
     "timestamp": 1694463703548,
     "user": {
      "displayName": "Bruno Chojniak",
      "userId": "05709488863196059024"
     },
     "user_tz": 180
    },
    "id": "Nl9UkybVk0yo"
   },
   "outputs": [],
   "source": [
    "# toy_story_recomm.movieId = toy_story_recomm.movieId.astype('int32')\n",
    "# toy_story_recomm.join(merged, on='movieId', how='left')"
   ]
  },
  {
   "cell_type": "markdown",
   "metadata": {
    "id": "PV-wQ_cs45iG"
   },
   "source": [
    "# Baseline model"
   ]
  },
  {
   "cell_type": "code",
   "execution_count": 13,
   "metadata": {},
   "outputs": [
    {
     "name": "stdout",
     "output_type": "stream",
     "text": [
      "[2, 20]\n"
     ]
    }
   ],
   "source": [
    "def f(args):\n",
    "    return args[0]*args[1]\n",
    "\n",
    "if __name__ == '__main__':\n",
    "    with Pool(5) as p:\n",
    "        print(p.map(f, [[1, 2], [4, 5]]))"
   ]
  },
  {
   "cell_type": "code",
   "execution_count": 31,
   "metadata": {},
   "outputs": [],
   "source": [
    "cached_movies = []\n",
    "for movie in movies_list:\n",
    "    if os.path.isfile(f'data_/movies_tags/{movie}.csv'):\n",
    "        cached_movies.append(movie)"
   ]
  },
  {
   "cell_type": "code",
   "execution_count": 16,
   "metadata": {
    "executionInfo": {
     "elapsed": 15,
     "status": "ok",
     "timestamp": 1694466197246,
     "user": {
      "displayName": "Bruno Chojniak",
      "userId": "05709488863196059024"
     },
     "user_tz": 180
    },
    "id": "4t3TA660_gn-"
   },
   "outputs": [],
   "source": [
    "# here, we are counting the most used tags PER MOVIE\n",
    "# a new csv file is created for each movieId, with each tag and its count\n",
    "\n",
    "def func_1(args):\n",
    "    \n",
    "    if os.path.isfile(f'data_/movies_tags/{args[1]}.csv'):\n",
    "        return\n",
    "    \n",
    "    else:\n",
    "        args[0].movieId = args[0].movieId.astype('string')\n",
    "        tags_movie = args[0][args[0].movieId == args[1]].copy().drop('movieId', axis=1)\n",
    "        tags_movie['COUNT'] = 1\n",
    "        tags_movies_counts = tags_movie.groupby(['tag']).count()\n",
    "        tags_movies_counts = tags_movies_counts.sort_values(by=['COUNT'], ascending= False).reset_index()\n",
    "\n",
    "        # upload_to_bigquery(GCP_PROJECT, BQ_DATASET_MOVIES_TAGS, f'{args[1]}', tags_movies_counts)\n",
    "\n",
    "        tags_movies_counts.to_csv(f'data_/movies_tags/{args[1]}.csv', index = False)\n",
    "        print(f'{args[2]}')"
   ]
  },
  {
   "cell_type": "code",
   "execution_count": 15,
   "metadata": {},
   "outputs": [],
   "source": [
    "args_list = []\n",
    "\n",
    "for row in range(len(movies_list)):\n",
    "    args_list.append([tags, movies_list[row], row])"
   ]
  },
  {
   "cell_type": "code",
   "execution_count": null,
   "metadata": {},
   "outputs": [],
   "source": [
    "print('over')"
   ]
  },
  {
   "cell_type": "code",
   "execution_count": null,
   "metadata": {},
   "outputs": [],
   "source": [
    "with Pool(10) as p:\n",
    "    p.map(func_1, args_list)"
   ]
  },
  {
   "cell_type": "code",
   "execution_count": 42,
   "metadata": {
    "executionInfo": {
     "elapsed": 15,
     "status": "ok",
     "timestamp": 1694466197246,
     "user": {
      "displayName": "Bruno Chojniak",
      "userId": "05709488863196059024"
     },
     "user_tz": 180
    },
    "id": "3JgFXfjUfXP4"
   },
   "outputs": [],
   "source": [
    "# (ENDED UP NOT BEING NECESSARY)\n",
    "# here, we are counting the most used tags PER USER\n",
    "# a new csv file is created for each userId, with each tag and its count\n",
    "\n",
    "# for i, userId in enumerate(user_list):\n",
    "#     tags.userId = tags.userId.astype('string')\n",
    "#     tags_user = tags[tags.userId == userId].copy().drop('userId', axis= 1)\n",
    "#     tags_user['COUNT'] = 1\n",
    "#     tags_user_counts = tags_user.groupby(['tag']).count()\n",
    "#     tags_user_counts = tags_user_counts.sort_values(by=['COUNT'], ascending= False).reset_index()\n",
    "#     tags_user_counts.to_csv('data_/users_tags/' + str(userId) + '.csv', index = False)\n",
    "#     print(f'csv {i} created')"
   ]
  },
  {
   "cell_type": "code",
   "execution_count": 39,
   "metadata": {
    "executionInfo": {
     "elapsed": 501,
     "status": "ok",
     "timestamp": 1694527638256,
     "user": {
      "displayName": "Bruno Chojniak",
      "userId": "05709488863196059024"
     },
     "user_tz": 180
    },
    "id": "JCtLH7vsvF3Q"
   },
   "outputs": [
    {
     "name": "stdout",
     "output_type": "stream",
     "text": [
      "1\n",
      "2\n",
      "3\n",
      "4\n",
      "5\n",
      "6\n",
      "7\n",
      "8\n",
      "9\n",
      "10\n",
      "11\n",
      "12\n",
      "13\n",
      "14\n",
      "15\n",
      "16\n",
      "17\n",
      "18\n",
      "19\n",
      "20\n",
      "21\n",
      "22\n",
      "23\n",
      "24\n",
      "25\n",
      "26\n",
      "27\n",
      "28\n",
      "29\n",
      "30\n",
      "31\n",
      "32\n",
      "33\n",
      "34\n",
      "35\n",
      "36\n",
      "37\n",
      "38\n",
      "39\n"
     ]
    }
   ],
   "source": [
    "# 11\n",
    "# here, we are preprocessing the movies dataframe:\n",
    "# 1) moving years to a separated column, and removing movies without year information\n",
    "# 2) separating genres in separated columns, one for each genre\n",
    "# 3) addin avg user rating and std (NOT DOING THIS STEP, TOO TIME CONSUMING)\n",
    "\n",
    "movies = pd.read_csv('data_/movies_subset.csv')\n",
    "\n",
    "\n",
    "movies['YEAR'] = 0\n",
    "# movies['UPPER_STD'] = 0\n",
    "# movies['LOWER_STD'] = 0\n",
    "# movies['AVG_RATING'] = 0\n",
    "# movies['VIEW_COUNT'] = 0\n",
    "\n",
    "genres_list = []\n",
    "for index, row in movies.iterrows():\n",
    "    try:\n",
    "        genres = row.genres.split('|')\n",
    "        genres_list.extend(genres)\n",
    "    except:\n",
    "        genres_list.append(row.genres)\n",
    "\n",
    "genres_list = list(set(genres_list))\n",
    "genres_list.remove('IMAX')\n",
    "\n",
    "# Replace '(no genres listed)' with 'None'\n",
    "try:\n",
    "  genres_list.remove('(no genres listed)')\n",
    "  genres_list.append('None')\n",
    "except:\n",
    "  genres_list.append('None')\n",
    "\n",
    "for genre in genres_list:\n",
    "    \n",
    "    if genre == 'Sci-Fi':\n",
    "        genre = 'SciFi'\n",
    "    \n",
    "    if genre == 'Film-Noir':\n",
    "        genre = 'FilmNoir'\n",
    "    \n",
    "    movies[genre] = 0\n",
    "\n",
    "exceptions = 0\n",
    "for index, row in movies.iterrows():\n",
    "    movieId = row.movieId\n",
    "    title = row.title\n",
    "\n",
    "    try:\n",
    "        genres = row.genres.split('|')\n",
    "    except Exception:\n",
    "        genres = list(row.genres)\n",
    "\n",
    "    try:\n",
    "        matcher = re.compile('\\(\\d{4}\\)')\n",
    "        parenthesis_year = matcher.search(title).group(0)\n",
    "        matcher = re.compile('\\d{4}')\n",
    "        year = matcher.search(parenthesis_year).group(0)\n",
    "\n",
    "        movies.loc[index, 'YEAR'] = int(year)\n",
    "\n",
    "    except Exception:\n",
    "        exceptions += 1\n",
    "        print(exceptions)\n",
    "        pass\n",
    "\n",
    "    # try:\n",
    "        # movie_ratings = ratings[ratings.movieId == movieId]\n",
    "        # std = np.std(movie_ratings.rating)\n",
    "        # average_rating = np.mean(movie_ratings.rating)\n",
    "\n",
    "        # upper_std = average_rating + std\n",
    "\n",
    "        # if upper_std > 5:\n",
    "        #     upper_std = 5\n",
    "\n",
    "        # lower_std = average_rating - std\n",
    "\n",
    "        # if lower_std < 0.5:\n",
    "        #     lower_std = 0.5\n",
    "\n",
    "        # view_count = len(movie_ratings)\n",
    "\n",
    "        # movies.loc[index, 'UPPER_STD'] = upper_std\n",
    "        # movies.loc[index, 'LOWER_STD'] = lower_std\n",
    "        # movies.loc[index, 'AVG_RATING'] = average_rating\n",
    "        # movies.loc[index, 'VIEW_COUNT'] = view_count\n",
    "\n",
    "    # except Exception:\n",
    "    #     pass\n",
    "\n",
    "    if 'IMAX' in genres:\n",
    "        genres.remove('IMAX')\n",
    "\n",
    "    if '(no genres listed)' in genres:\n",
    "        genres.remove('(no genres listed)')\n",
    "        genres.append('None')\n",
    "\n",
    "    for genre in genres:\n",
    "        if genre == 'Sci-Fi':\n",
    "            genre = 'SciFi'\n",
    "    \n",
    "        if genre == 'Film-Noir':\n",
    "            genre = 'FilmNoir'\n",
    "            \n",
    "        movies.loc[index, genre] = 1\n",
    "\n",
    "movies_mod = movies[movies.YEAR != 0]\n",
    "\n",
    "movies_mod.to_csv('data_/movies_mod.csv', index = False)"
   ]
  },
  {
   "cell_type": "code",
   "execution_count": 111,
   "metadata": {},
   "outputs": [],
   "source": [
    "movies_mod = pd.read_csv('data_/movies_mod.csv')\n",
    "ratings = pd.read_csv('data_/ratings_subset.csv')"
   ]
  },
  {
   "cell_type": "code",
   "execution_count": 112,
   "metadata": {},
   "outputs": [],
   "source": [
    "ratings_movies = ratings.merge(movies_mod, how= 'left', on= 'movieId').dropna()\n",
    "avg_ratings_per_movie = pd.DataFrame(ratings_movies.groupby('movieId')['rating'].count().reset_index())\n",
    "avg_ratings_per_movie.columns = ['movieId', 'count']\n",
    "ratings_movies = ratings_movies.merge(avg_ratings_per_movie, how='left', on='movieId').dropna()\n",
    "ratings_movies = ratings_movies.drop_duplicates('title')"
   ]
  },
  {
   "cell_type": "code",
   "execution_count": 113,
   "metadata": {},
   "outputs": [],
   "source": [
    "b_1990 = ratings_movies[ratings_movies.YEAR < 1990]\n",
    "b_1990 = b_1990.sort_values('count',ascending=False)\n",
    "\n",
    "a_1990_b_2000 = ratings_movies[(ratings_movies.YEAR > 1990)&(ratings_movies.YEAR <= 2000)]\n",
    "a_1990_b_2000 = a_1990_b_2000.sort_values('count',ascending=False)\n",
    "\n",
    "a_2000_b_2010 = ratings_movies[(ratings_movies.YEAR > 2000)&(ratings_movies.YEAR <= 2010)]\n",
    "a_2000_b_2010 = a_2000_b_2010.sort_values('count',ascending=False)\n",
    "\n",
    "a_2010_b_2015 = ratings_movies[(ratings_movies.YEAR > 2010)&(ratings_movies.YEAR <= 2015)]\n",
    "a_2010_b_2015 = a_2010_b_2015.sort_values('count',ascending=False)\n",
    "\n",
    "a_2015 = ratings_movies[ratings_movies.YEAR > 2015]\n",
    "a_2015 = a_2015.sort_values('count',ascending=False)"
   ]
  },
  {
   "cell_type": "code",
   "execution_count": 133,
   "metadata": {},
   "outputs": [],
   "source": [
    "chosen_movies_list = list(b_1990.movieId)[:50] + list(a_1990_b_2000.movieId)[:70] + list(a_2000_b_2010.movieId)[:100] + list(a_2010_b_2015.movieId)[:150] + list(a_2015.movieId)[:150]"
   ]
  },
  {
   "cell_type": "code",
   "execution_count": 134,
   "metadata": {},
   "outputs": [
    {
     "data": {
      "text/plain": [
       "520"
      ]
     },
     "execution_count": 134,
     "metadata": {},
     "output_type": "execute_result"
    }
   ],
   "source": [
    "len(chosen_movies_list)"
   ]
  },
  {
   "cell_type": "code",
   "execution_count": 43,
   "metadata": {
    "executionInfo": {
     "elapsed": 376,
     "status": "ok",
     "timestamp": 1694541916535,
     "user": {
      "displayName": "Bruno Chojniak",
      "userId": "05709488863196059024"
     },
     "user_tz": 180
    },
    "id": "12Kw0iMuxwvZ"
   },
   "outputs": [
    {
     "name": "stdout",
     "output_type": "stream",
     "text": [
      "2.0 %\n",
      "4.0 %\n",
      "6.0 %\n",
      "8.0 %\n",
      "10.0 %\n",
      "12.005 %\n",
      "14.000000000000002 %\n",
      "16.0 %\n",
      "18.0 %\n",
      "20.0 %\n",
      "22.0 %\n",
      "24.0 %\n",
      "26.0 %\n",
      "28.000000000000004 %\n",
      "30.0 %\n",
      "32.0 %\n",
      "34.0 %\n",
      "36.004999999999995 %\n",
      "38.005 %\n",
      "40.005 %\n",
      "42.004999999999995 %\n",
      "44.005 %\n",
      "46.005 %\n",
      "48.004999999999995 %\n",
      "50.005 %\n",
      "52.005 %\n",
      "54.005 %\n",
      "56.005 %\n",
      "58.004999999999995 %\n",
      "60.004999999999995 %\n",
      "62.004999999999995 %\n",
      "64.005 %\n",
      "66.005 %\n",
      "68.00500000000001 %\n",
      "70.005 %\n",
      "72.005 %\n",
      "74.005 %\n",
      "76.005 %\n",
      "78.005 %\n",
      "80.00500000000001 %\n",
      "82.005 %\n",
      "84.005 %\n",
      "86.005 %\n",
      "88.005 %\n",
      "90.005 %\n",
      "92.00500000000001 %\n",
      "94.00500000000001 %\n",
      "96.005 %\n",
      "98.005 %\n"
     ]
    }
   ],
   "source": [
    "# 12\n",
    "# here, we are creating two new dataframes: one with each user's most liked genres, and one with each user's most disliked genres\n",
    "# the dataframe will have userId as rows, and genres as columns, and values will represent a percentage (liked count for that genre / liked count for all genre)\n",
    "\n",
    "movies_mod = pd.read_csv('data_/movies_mod.csv')\n",
    "ratings = pd.read_csv('data_/ratings_subset.csv')\n",
    "ratings_movies = ratings.merge(movies_mod, how= 'left', on= 'movieId').dropna()\n",
    "\n",
    "userId_list = list(set(ratings_movies.userId))\n",
    "\n",
    "total_user_like = pd.DataFrame()\n",
    "total_user_dislike = pd.DataFrame()\n",
    "\n",
    "counter_1 = 0\n",
    "counter_2 = .02\n",
    "\n",
    "for userId in userId_list:\n",
    "    temp = ratings_movies[ratings_movies.userId == userId]\n",
    "    temp_like = temp[temp.rating >= 4].iloc[:, 7:]\n",
    "    temp_dislike = temp[temp.rating < 4].iloc[:, 7:]\n",
    "\n",
    "    liked_total_counts = 0\n",
    "    liked_dict = {'userId': userId,'War': 0, 'Animation': 0, 'Horror': 0, 'SciFi': 0, 'Fantasy': 0, 'Thriller': 0, 'Crime': 0, 'Mystery': 0,\n",
    "                  'Documentary': 0, 'Children': 0, 'Action': 0, 'Adventure': 0, 'Musical': 0,'FilmNoir': 0, 'Drama': 0,\n",
    "                  'Romance': 0, 'Comedy': 0, 'Western': 0, 'None': 0}\n",
    "\n",
    "    disliked_total_counts = 0\n",
    "    disliked_dict = {'userId': userId,'War': 0, 'Animation': 0, 'Horror': 0, 'SciFi': 0, 'Fantasy': 0, 'Thriller': 0, 'Crime': 0, 'Mystery': 0,\n",
    "                  'Documentary': 0, 'Children': 0, 'Action': 0, 'Adventure': 0, 'Musical': 0,'FilmNoir': 0, 'Drama': 0,\n",
    "                  'Romance': 0, 'Comedy': 0, 'Western': 0, 'None': 0}\n",
    "\n",
    "    counter_1 += 1\n",
    "\n",
    "    if counter_1 / len(userId_list) >= counter_2:\n",
    "        print(counter_1 / len(userId_list) * 100, '%')\n",
    "        counter_2 += .02\n",
    "\n",
    "    for genre in list(temp_like.columns):\n",
    "        if len(temp_like) == 0:\n",
    "            pass\n",
    "        else:\n",
    "            liked_total_counts += sum(temp_like[genre])\n",
    "\n",
    "        if len(temp_dislike) == 0:\n",
    "            pass\n",
    "        else:\n",
    "            disliked_total_counts += sum(temp_dislike[genre])\n",
    "\n",
    "    for genre in list(temp_like.columns):\n",
    "        if liked_total_counts == 0:\n",
    "            pass\n",
    "        else:\n",
    "            liked_genre_total_counts = sum(temp_like[genre])\n",
    "            liked_dict[genre] = liked_genre_total_counts/liked_total_counts\n",
    "\n",
    "        if disliked_total_counts == 0:\n",
    "            pass\n",
    "        else:\n",
    "            disliked_genre_total_counts = sum(temp_dislike[genre])\n",
    "            disliked_dict[genre] = disliked_genre_total_counts/disliked_total_counts\n",
    "\n",
    "    user_like_df = pd.DataFrame(liked_dict, index=[0])\n",
    "    user_dislike_df = pd.DataFrame(disliked_dict, index=[0])\n",
    "\n",
    "    if len(total_user_like) == 0:\n",
    "        total_user_like = user_like_df\n",
    "    else:\n",
    "        total_user_like = pd.concat([total_user_like, user_like_df], ignore_index= True)\n",
    "\n",
    "    if len(total_user_dislike) == 0:\n",
    "        total_user_dislike = user_dislike_df\n",
    "    else:\n",
    "        total_user_dislike = pd.concat([total_user_dislike, user_dislike_df], ignore_index= True)\n",
    "\n",
    "total_user_like.to_csv('data_/final/like_genres.csv', index = False)\n",
    "total_user_dislike.to_csv('data_/final/dislike_genres.csv', index = False)"
   ]
  },
  {
   "cell_type": "code",
   "execution_count": 36,
   "metadata": {
    "id": "EqjO_2onkkps"
   },
   "outputs": [],
   "source": [
    "# here, we select a subset of the tag most common tags that we want used in our model\n",
    "\n",
    "common_tags_df = tags.groupby(['tag']).count().sort_values('userId', ascending= False).copy().drop('movieId', axis= 1).reset_index()\n",
    "common_tags_df = common_tags_df[common_tags_df.userId >= 35]\n",
    "\n",
    "tags_to_remove = ['BD-R', 'DVD-Video']\n",
    "common_tags_df = common_tags_df[~common_tags_df.tag.isin(tags_to_remove)]\n",
    "                                    \n",
    "common_tags_df.to_csv('data_/common_tags.csv', index = False)"
   ]
  },
  {
   "cell_type": "code",
   "execution_count": 37,
   "metadata": {
    "executionInfo": {
     "elapsed": 397,
     "status": "ok",
     "timestamp": 1694531839323,
     "user": {
      "displayName": "Bruno Chojniak",
      "userId": "05709488863196059024"
     },
     "user_tz": 180
    },
    "id": "NhKp99EqOTog"
   },
   "outputs": [],
   "source": [
    "common_tags = pd.read_csv('data_/common_tags.csv', index_col= False)\n",
    "\n",
    "common_tags_list = list(set(common_tags.tag))\n",
    "vector_counter = 0\n",
    "vectorized_dict = {}\n",
    "\n",
    "for tag in common_tags_list:\n",
    "    vectorized_dict[tag] = vector_counter\n",
    "    vector_counter += 1\n",
    "\n",
    "with open('data_/final/vectorized_dict.pkl', 'wb') as writer:\n",
    "    joblib.dump(vectorized_dict, writer)"
   ]
  },
  {
   "cell_type": "code",
   "execution_count": 13,
   "metadata": {},
   "outputs": [],
   "source": [
    "tags_unique_users = list(tags.drop_duplicates('userId').userId)\n",
    "\n",
    "with open('data_/final/vectorized_dict.pkl', 'rb') as reader:\n",
    "    vectorized_dict = joblib.load(reader)"
   ]
  },
  {
   "cell_type": "code",
   "execution_count": 50,
   "metadata": {},
   "outputs": [],
   "source": [
    "# args_list = []\n",
    "\n",
    "# for row in range(len(tags_unique_users)):\n",
    "#     args_list.append([ratings, tags_unique_users[row]])"
   ]
  },
  {
   "cell_type": "code",
   "execution_count": 61,
   "metadata": {
    "executionInfo": {
     "elapsed": 311,
     "status": "ok",
     "timestamp": 1694541909573,
     "user": {
      "displayName": "Bruno Chojniak",
      "userId": "05709488863196059024"
     },
     "user_tz": 180
    },
    "id": "j9fO9W_W4Zyq"
   },
   "outputs": [],
   "source": [
    "# #13\n",
    "# # here, we create the a \"tag profile\" for each user -> 20 tags most often related to movies he likes, and 20 tags most often related to movies he dislikes\n",
    "\n",
    "# like_dislike_tags = pd.DataFrame()\n",
    "# index_counter = 0\n",
    "\n",
    "# def func_2(args):\n",
    "\n",
    "#     temp_ratings_df = args[0][args[0].userId == args[1]]\n",
    "#     like_tags_df = pd.DataFrame()\n",
    "#     dislike_tags_df = pd.DataFrame()\n",
    "    \n",
    "#     print(f's:{args[1]}')\n",
    "\n",
    "#     for index, row in temp_ratings_df.iterrows():\n",
    "#         try:\n",
    "#             if row.rating >= 4:\n",
    "#                 # temp_movie_df = get_data_bigquery(GCP_PROJECT, BQ_DATASET_MOVIES_TAGS, f'{str(int(row.movieId))}')\n",
    "#                 temp_movie_df = pd.read_csv('data_/movies_tags/{}.csv'.format(str(int(row.movieId))))\n",
    "\n",
    "#                 if len(like_tags_df) == 0:\n",
    "#                     like_tags_df = temp_movie_df\n",
    "\n",
    "#                 else:\n",
    "#                     like_tags_df = pd.concat([like_tags_df, temp_movie_df], ignore_index= True)\n",
    "\n",
    "#             else:\n",
    "#                 # temp_movie_df = get_data_bigquery(GCP_PROJECT, BQ_DATASET_MOVIES_TAGS, f'{str(int(row.movieId))}')\n",
    "#                 temp_movie_df = pd.read_csv('data_/movies_tags/{}.csv'.format(str(int(row.movieId))))\n",
    "\n",
    "#                 if len(dislike_tags_df) == 0:\n",
    "#                     dislike_tags_df = temp_movie_df\n",
    "\n",
    "#                 else:\n",
    "#                     dislike_tags_df = pd.concat([dislike_tags_df, temp_movie_df], ignore_index= True)\n",
    "#         except Exception:\n",
    "#             print('exception 1')\n",
    "#             pass\n",
    "\n",
    "#     try:\n",
    "#         like_tags_list = list(like_tags_df.tag)\n",
    "#         dislike_tags_list = list(dislike_tags_df.tag)\n",
    "#     except Exception:\n",
    "#         print('exception 2')\n",
    "#         return\n",
    "\n",
    "#     like_dict = {}\n",
    "#     dislike_dict = {}\n",
    "\n",
    "#     for tag in like_tags_list:\n",
    "#         like_dict[tag] = like_tags_list.count(tag) * -1\n",
    "\n",
    "#     for tag in dislike_tags_list:\n",
    "#         dislike_dict[tag] = dislike_tags_list.count(tag) * -1\n",
    "\n",
    "#     like_tags_counted = sorted(like_dict, key= lambda tag: like_dict[tag])\n",
    "#     dislike_tags_counted = sorted(dislike_dict, key= lambda tag: dislike_dict[tag])\n",
    "\n",
    "#     like_tags_vectorized = []\n",
    "#     dislike_tags_vectorized = []\n",
    "\n",
    "#     if len(like_tags_counted) < 50:\n",
    "#         num_like_tags = len(like_tags_counted)\n",
    "#     else:\n",
    "#         num_like_tags = 50\n",
    "\n",
    "#     if len(dislike_tags_counted) < 50:\n",
    "#         num_dislike_tags = len(like_tags_counted)\n",
    "#     else:\n",
    "#         num_dislike_tags = 50\n",
    "\n",
    "#     for tag in like_tags_counted[:num_like_tags]:\n",
    "#         try:\n",
    "#             tag_vector = vectorized_dict[tag]\n",
    "#             like_tags_vectorized.append(tag_vector)\n",
    "#         except Exception:\n",
    "#             print('exception3')\n",
    "#             pass\n",
    "\n",
    "#     for tag in dislike_tags_counted[:num_dislike_tags]:\n",
    "#         try:\n",
    "#             tag_vector = vectorized_dict[tag]\n",
    "#             dislike_tags_vectorized.append(tag_vector)\n",
    "#         except Exception:\n",
    "#             print('exception4')\n",
    "#             pass\n",
    "\n",
    "#     if len(like_tags_vectorized) < 20 or len(dislike_tags_vectorized) < 20:\n",
    "#         return\n",
    "\n",
    "#     like_dislike_dict = {}\n",
    "\n",
    "#     like_dislike_dict['userId'] = user\n",
    "\n",
    "#     for x in range(20):\n",
    "#         like_dislike_dict['LIKE_' + str(x)] = like_tags_vectorized[x]\n",
    "#         like_dislike_dict['DISLIKE_' + str(x)] = dislike_tags_vectorized[x]\n",
    "\n",
    "#     concat_df = pd.DataFrame(like_dislike_dict, index=[0])\n",
    "\n",
    "#     if len(like_dislike_tags) == 0:\n",
    "#         like_dislike_tags = concat_df\n",
    "\n",
    "#     like_dislike_tags = pd.concat([like_dislike_tags, concat_df], ignore_index= True)\n",
    "#     print(f'f:{args[1]}')\n",
    "        \n",
    "# like_dislike_tags_int = like_dislike_tags.astype('int64')\n",
    "# like_dislike_tags_int.to_csv('data_/final/like_dislike_tags.csv', index = False)"
   ]
  },
  {
   "cell_type": "code",
   "execution_count": 16,
   "metadata": {},
   "outputs": [],
   "source": [
    "len(tags_unique_users)\n",
    "\n",
    "boundaries = [0, 450, 900, 1350, 1800, 2250, 2700, 3150, 3600, 4050, 4593]\n",
    "\n",
    "args_list = []\n",
    "\n",
    "for row in range(10):\n",
    "    args_list.append([ratings, tags_unique_users[boundaries[row]:boundaries[row+1]]])"
   ]
  },
  {
   "cell_type": "code",
   "execution_count": 18,
   "metadata": {},
   "outputs": [],
   "source": [
    "def func_3(args):\n",
    "    \n",
    "    print('start')\n",
    "    \n",
    "    ratings_tags = args[0]\n",
    "    tags_unique_users = args[1]\n",
    "    \n",
    "    like_dislike_tags = pd.DataFrame()\n",
    "    index_counter = 0\n",
    "\n",
    "    progress_counter = 0\n",
    "\n",
    "    with open('data_/final/vectorized_dict.pkl', 'rb') as reader:\n",
    "        vectorized_dict = joblib.load(reader)\n",
    "    \n",
    "    for user in tags_unique_users:\n",
    "        progress_counter += 1\n",
    "        print(progress_counter)\n",
    "\n",
    "        temp_ratings_df = ratings_tags[ratings_tags.userId == user]\n",
    "        like_tags_df = pd.DataFrame()\n",
    "        dislike_tags_df = pd.DataFrame()\n",
    "\n",
    "        for index, row in temp_ratings_df.iterrows():\n",
    "            try:\n",
    "                if row.rating >= 4:\n",
    "                    temp_movie_df = pd.read_csv('data_/movies_tags/{}.csv'.format(str(int(row.movieId))))\n",
    "\n",
    "                    if len(like_tags_df) == 0:\n",
    "                        like_tags_df = temp_movie_df\n",
    "\n",
    "                    else:\n",
    "                        like_tags_df = pd.concat([like_tags_df, temp_movie_df], ignore_index= True)\n",
    "\n",
    "                else:\n",
    "                    temp_movie_df = pd.read_csv('data_/movies_tags/{}.csv'.format(str(int(row.movieId))))\n",
    "\n",
    "                    if len(dislike_tags_df) == 0:\n",
    "                        dislike_tags_df = temp_movie_df\n",
    "\n",
    "                    else:\n",
    "                        dislike_tags_df = pd.concat([dislike_tags_df, temp_movie_df], ignore_index= True)\n",
    "            except Exception:\n",
    "                print('exception 1')\n",
    "                pass\n",
    "\n",
    "        try:\n",
    "            like_tags_list = list(like_tags_df.tag)\n",
    "            dislike_tags_list = list(dislike_tags_df.tag)\n",
    "        except Exception:\n",
    "            print('exception 2')\n",
    "            continue\n",
    "\n",
    "        like_dict = {}\n",
    "        dislike_dict = {}\n",
    "\n",
    "        for tag in like_tags_list:\n",
    "            like_dict[tag] = like_tags_list.count(tag) * -1\n",
    "\n",
    "        for tag in dislike_tags_list:\n",
    "            dislike_dict[tag] = dislike_tags_list.count(tag) * -1\n",
    "\n",
    "        like_tags_counted = sorted(like_dict, key= lambda tag: like_dict[tag])\n",
    "        dislike_tags_counted = sorted(dislike_dict, key= lambda tag: dislike_dict[tag])\n",
    "\n",
    "        like_tags_vectorized = []\n",
    "        dislike_tags_vectorized = []\n",
    "\n",
    "        if len(like_tags_counted) < 50:\n",
    "            num_like_tags = len(like_tags_counted)\n",
    "        else:\n",
    "            num_like_tags = 50\n",
    "\n",
    "        if len(dislike_tags_counted) < 50:\n",
    "            num_dislike_tags = len(like_tags_counted)\n",
    "        else:\n",
    "            num_dislike_tags = 50\n",
    "\n",
    "        for tag in like_tags_counted[:num_like_tags]:\n",
    "            try:\n",
    "                tag_vector = vectorized_dict[tag]\n",
    "                like_tags_vectorized.append(tag_vector)\n",
    "            except Exception:\n",
    "                pass\n",
    "\n",
    "        for tag in dislike_tags_counted[:num_dislike_tags]:\n",
    "            try:\n",
    "                tag_vector = vectorized_dict[tag]\n",
    "                dislike_tags_vectorized.append(tag_vector)\n",
    "            except Exception:\n",
    "                pass\n",
    "\n",
    "        if len(like_tags_vectorized) < 20 or len(dislike_tags_vectorized) < 20:\n",
    "            continue\n",
    "\n",
    "        like_dislike_dict = {}\n",
    "\n",
    "        like_dislike_dict['userId'] = user\n",
    "\n",
    "        for x in range(20):\n",
    "            like_dislike_dict['LIKE_' + str(x)] = like_tags_vectorized[x]\n",
    "            like_dislike_dict['DISLIKE_' + str(x)] = dislike_tags_vectorized[x]\n",
    "\n",
    "        concat_df = pd.DataFrame(like_dislike_dict, index=[0])\n",
    "\n",
    "        if len(like_dislike_tags) == 0:\n",
    "            like_dislike_tags = concat_df\n",
    "\n",
    "        else:\n",
    "            print('concat')\n",
    "            like_dislike_tags = pd.concat([like_dislike_tags, concat_df], ignore_index= True)\n",
    "\n",
    "    like_dislike_tags_int = like_dislike_tags.astype('int64')\n",
    "    like_dislike_tags_int.to_csv(f'data_/final/like_dislike_tags_{tags_unique_users[0]}.csv', index = False)"
   ]
  },
  {
   "cell_type": "code",
   "execution_count": null,
   "metadata": {},
   "outputs": [],
   "source": [
    "if __name__ == '__main__':\n",
    "    with Pool(10) as p:\n",
    "        p.map(func_3, args_list)"
   ]
  },
  {
   "cell_type": "code",
   "execution_count": 21,
   "metadata": {},
   "outputs": [],
   "source": [
    "like_dislike_tags = pd.DataFrame()\n",
    "for argu in args_list:\n",
    "    concat_df = pd.read_csv(f'data_/final/like_dislike_tags_{argu[1][0]}.csv')\n",
    "    if len(like_dislike_tags) == 0:\n",
    "        like_dislike_tags = concat_df\n",
    "    else:\n",
    "        like_dislike_tags = pd.concat([like_dislike_tags, concat_df], ignore_index= True)\n",
    "        \n",
    "like_dislike_tags_int = like_dislike_tags.astype('int64')\n",
    "like_dislike_tags_int.to_csv('data_/final/like_dislike_tags.csv', index = False)"
   ]
  },
  {
   "cell_type": "code",
   "execution_count": 24,
   "metadata": {},
   "outputs": [
    {
     "data": {
      "text/plain": [
       "19961"
      ]
     },
     "execution_count": 24,
     "metadata": {},
     "output_type": "execute_result"
    }
   ],
   "source": [
    "movies_mod = pd.read_csv('data_/movies_mod.csv')\n",
    "movieId_list = list(movies_mod.movieId)\n",
    "del movies_mod\n",
    "len(movieId_list)"
   ]
  },
  {
   "cell_type": "code",
   "execution_count": null,
   "metadata": {
    "colab": {
     "base_uri": "https://localhost:8080/",
     "height": 140
    },
    "executionInfo": {
     "elapsed": 480,
     "status": "error",
     "timestamp": 1694565558446,
     "user": {
      "displayName": "Bruno Chojniak",
      "userId": "05709488863196059024"
     },
     "user_tz": 180
    },
    "id": "-vAMfXTuTbpb",
    "outputId": "3567250b-ddbd-454c-f3e3-5b886ab6ff3f"
   },
   "outputs": [],
   "source": [
    "# 14\n",
    "# here, we create the a \"tag profile\" for each movie -> 5 tags most often related that movie\n",
    "\n",
    "movie_tags_df = pd.DataFrame()\n",
    "index_counter = 0\n",
    "\n",
    "progress_counter = 0\n",
    "\n",
    "with open('data_/final/vectorized_dict.pkl', 'rb') as reader:\n",
    "    vectorized_dict = joblib.load(reader)\n",
    "\n",
    "for movie in movieId_list:\n",
    "    progress_counter += 1\n",
    "\n",
    "    try:\n",
    "      temp_df = pd.read_csv('data_/movies_tags/{}.csv'.format(movie))\n",
    "\n",
    "      if len(temp_df) < 5:\n",
    "        continue\n",
    "\n",
    "      vectorized_tag = []\n",
    "      movie_tags = list(temp_df.tag)\n",
    "\n",
    "      for tag in movie_tags:\n",
    "          try:\n",
    "              tag_vector = vectorized_dict[tag]\n",
    "              vectorized_tag.append(tag_vector)\n",
    "          except Exception:\n",
    "            print('exception 1')\n",
    "            pass\n",
    "\n",
    "      if len(vectorized_tag) < 5:\n",
    "          continue\n",
    "\n",
    "      movie_tags_df.loc[index_counter, 'movieId'] = movie\n",
    "\n",
    "      for x in range(5):\n",
    "          movie_tags_df.loc[index_counter, 'TAG_' + str(x)] = vectorized_tag[x]\n",
    "\n",
    "      index_counter += 1\n",
    "\n",
    "    except Exception:\n",
    "      print('exception 2')\n",
    "      pass\n",
    "\n",
    "movie_tags_df_int = movie_tags_df.astype('int64')\n",
    "movie_tags_df_int.to_csv('data_/final/movie_tags_df.csv', index = False)"
   ]
  },
  {
   "cell_type": "code",
   "execution_count": 86,
   "metadata": {
    "executionInfo": {
     "elapsed": 575,
     "status": "ok",
     "timestamp": 1694566312629,
     "user": {
      "displayName": "Bruno Chojniak",
      "userId": "05709488863196059024"
     },
     "user_tz": 180
    },
    "id": "34oC_GcwkgC4"
   },
   "outputs": [],
   "source": [
    "# 15\n",
    "\n",
    "def stats(predictions, actual, flex_range=0.5):\n",
    "\n",
    "    predictions_list = []\n",
    "    round_list = np.arange(0.5, 5.5, 0.5)\n",
    "\n",
    "    for value in predictions:\n",
    "        value_original = value\n",
    "        compare_diff = 99999\n",
    "        value_round = 0\n",
    "\n",
    "        for rating in round_list:\n",
    "            compare_value = abs(value_original - rating)\n",
    "\n",
    "            if compare_value < compare_diff:\n",
    "                compare_diff = compare_value\n",
    "                value_round = rating\n",
    "\n",
    "        predictions_list.append(value_round)\n",
    "\n",
    "    prediction_dict = {'PREDICTION': predictions_list, 'TRUE': list(actual)}\n",
    "\n",
    "    prediction_compare_df = pd.DataFrame(prediction_dict)\n",
    "\n",
    "    rating_accuracy = 0\n",
    "    like_dislike_tp = 0\n",
    "    like_dislike_tn = 0\n",
    "    like_dislike_fp = 0\n",
    "    like_dislike_fn = 0\n",
    "    prediction_length = len(prediction_compare_df)\n",
    "\n",
    "    rating_accuracy_flex = 0\n",
    "    like_dislike_tp_flex = 0\n",
    "    like_dislike_tn_flex = 0\n",
    "    like_dislike_fp_flex = 0\n",
    "    like_dislike_fn_flex = 0\n",
    "\n",
    "    for index, row in prediction_compare_df.iterrows():\n",
    "        predict_like = 0\n",
    "        true_like = 0\n",
    "\n",
    "        if row.PREDICTION >= 4:\n",
    "            predict_like = 1\n",
    "\n",
    "        if row.TRUE >= 4:\n",
    "            true_like = 1\n",
    "\n",
    "        if row.PREDICTION == row.TRUE:\n",
    "            rating_accuracy += 1\n",
    "\n",
    "        if predict_like == true_like:\n",
    "            if predict_like == 1:\n",
    "                like_dislike_tp += 1\n",
    "\n",
    "            else:\n",
    "                like_dislike_tn += 1\n",
    "\n",
    "        else:\n",
    "            if predict_like == 1:\n",
    "                like_dislike_fp += 1\n",
    "\n",
    "            else:\n",
    "                like_dislike_fn += 1\n",
    "\n",
    "\n",
    "        predict_like_flex = 0\n",
    "        true_like_flex = 0\n",
    "\n",
    "        if row.PREDICTION >= 3.5:\n",
    "            predict_like_flex = 1\n",
    "\n",
    "        if row.TRUE >= 3.5:\n",
    "            true_like_flex = 1\n",
    "\n",
    "        if row.PREDICTION >= (row.TRUE - flex_range) and row.PREDICTION <= (row.TRUE + flex_range):\n",
    "            rating_accuracy_flex += 1\n",
    "\n",
    "        if predict_like_flex == true_like_flex:\n",
    "            if predict_like_flex == 1:\n",
    "                like_dislike_tp_flex += 1\n",
    "\n",
    "            else:\n",
    "                like_dislike_tn_flex += 1\n",
    "\n",
    "        else:\n",
    "            if predict_like_flex == 1:\n",
    "                like_dislike_fp_flex += 1\n",
    "\n",
    "            else:\n",
    "                like_dislike_fn_flex += 1\n",
    "\n",
    "    rating_accuracy = rating_accuracy / prediction_length\n",
    "    like_dislike_accuracy = (like_dislike_tp + like_dislike_tn) / prediction_length\n",
    "\n",
    "    rating_accuracy_flex = rating_accuracy_flex / prediction_length\n",
    "    like_dislike_accuracy_flex = (like_dislike_tp_flex + like_dislike_tn_flex) / prediction_length\n",
    "\n",
    "    print('True Positive: {}, True Negative: {}, False Positive {}, False Negative {}'.format(like_dislike_tp, like_dislike_tn, like_dislike_fp, like_dislike_fn))\n",
    "    print('Rating Accuracy: {}, Binary Accuracy (Like/Dislike) {}'.format(rating_accuracy, like_dislike_accuracy))\n",
    "    print('FLEX: True Positive: {}, True Negative: {}, False Positive {}, False Negative {}'.format(like_dislike_tp_flex, like_dislike_tn_flex, like_dislike_fp_flex, like_dislike_fn_flex))\n",
    "    print('FLEX: Rating Accuracy: {}, Binary Accuracy (Like/Dislike) {}'.format(rating_accuracy_flex, like_dislike_accuracy_flex))\n",
    "    return"
   ]
  },
  {
   "cell_type": "code",
   "execution_count": 87,
   "metadata": {
    "executionInfo": {
     "elapsed": 395,
     "status": "ok",
     "timestamp": 1694565643417,
     "user": {
      "displayName": "Bruno Chojniak",
      "userId": "05709488863196059024"
     },
     "user_tz": 180
    },
    "id": "SpCPcIqqwHEf"
   },
   "outputs": [],
   "source": [
    "def merge_shuffle_split(split=1.0):\n",
    "\n",
    "    movies_mod = pd.read_csv('data_/movies_mod.csv')\n",
    "    ratings = pd.read_csv('data_/ratings_subset.csv')\n",
    "\n",
    "    ratings = shuffle(ratings)\n",
    "\n",
    "    selection_range = int(len(ratings) * (split))\n",
    "    ratings = ratings.iloc[: selection_range, :]\n",
    "\n",
    "    ratings_movies = ratings.merge(movies_mod, how= 'left', on= 'movieId').dropna()\n",
    "    del movies_mod\n",
    "\n",
    "    like_genres = pd.read_csv('data_/final/like_genres.csv')\n",
    "\n",
    "    like_columns = list(like_genres.columns)\n",
    "    like_columns_modified = []\n",
    "\n",
    "    for column in like_columns:\n",
    "        if column == 'userId':\n",
    "            like_columns_modified.append('userId')\n",
    "        else:\n",
    "            modify_column = 'user_like_' + column\n",
    "            like_columns_modified.append(modify_column)\n",
    "\n",
    "    like_genres.columns = like_columns_modified\n",
    "\n",
    "    ratings_movies = ratings_movies.merge(like_genres, how= 'left', on= 'userId').dropna()\n",
    "    del like_genres\n",
    "\n",
    "\n",
    "    dislike_genres = pd.read_csv('data_/final/dislike_genres.csv')\n",
    "\n",
    "    dislike_columns = list(dislike_genres.columns)\n",
    "    dislike_columns_modified = []\n",
    "\n",
    "    for column in dislike_columns:\n",
    "        if column == 'userId':\n",
    "            dislike_columns_modified.append('userId')\n",
    "        else:\n",
    "            modify_column = 'user_dislike_' + column\n",
    "            dislike_columns_modified.append(modify_column)\n",
    "\n",
    "    dislike_genres.columns = dislike_columns_modified\n",
    "\n",
    "    ratings_movies = ratings_movies.merge(dislike_genres, how= 'left', on= 'userId').dropna()\n",
    "\n",
    "    del dislike_genres\n",
    "\n",
    "    movie_tags_df = pd.read_csv('data_/final/movie_tags_df.csv')\n",
    "    ratings_movies = ratings_movies.merge(movie_tags_df, how= 'left', on= 'movieId').dropna()\n",
    "    del movie_tags_df\n",
    "\n",
    "    like_dislike_tags = (pd.read_csv('data_/final/like_dislike_tags.csv')).astype('int64')\n",
    "    ratings_movies = ratings_movies.merge(like_dislike_tags, how= 'left', on= 'userId').dropna()\n",
    "    del like_dislike_tags\n",
    "\n",
    "    like_columns_modified.remove('userId')\n",
    "    dislike_columns_modified.remove('userId')\n",
    "    like_columns.remove('userId')\n",
    "\n",
    "    genres_like = ratings_movies.loc[:, like_columns_modified]\n",
    "    genres_dislike = ratings_movies.loc[:, dislike_columns_modified]\n",
    "    genres_movie = ratings_movies.loc[:, like_columns]\n",
    "\n",
    "    rf_columns = []\n",
    "    for x in range(20):\n",
    "        rf_columns.append('LIKE_' + str(x))\n",
    "        rf_columns.append('DISLIKE_' + str(x))\n",
    "    for x in range(5):\n",
    "        rf_columns.append('TAG_' + str(x))\n",
    "\n",
    "    rf_input = ratings_movies.loc[:, rf_columns]\n",
    "\n",
    "    ratings = list(ratings_movies.rating)\n",
    "\n",
    "    del ratings_movies\n",
    "\n",
    "    return genres_like, genres_dislike, genres_movie, rf_input, ratings"
   ]
  },
  {
   "cell_type": "code",
   "execution_count": 82,
   "metadata": {
    "executionInfo": {
     "elapsed": 455,
     "status": "ok",
     "timestamp": 1694566502922,
     "user": {
      "displayName": "Bruno Chojniak",
      "userId": "05709488863196059024"
     },
     "user_tz": 180
    },
    "id": "rknCqa9TwN-v"
   },
   "outputs": [],
   "source": [
    "# creating neural network model (genres)\n",
    "\n",
    "user_liked_genres = keras.Input(shape= (19,))\n",
    "user_disliked_genres = keras.Input(shape= (19,))\n",
    "movie_genres = keras.Input(shape= (19,))\n",
    "\n",
    "# liked genres input\n",
    "liked_input = keras.layers.Dense(19, activation= 'relu')(user_liked_genres)\n",
    "liked_hidden_1 = keras.layers.Dense(50, activation= 'relu')(liked_input)\n",
    "liked_hidden_2 = keras.layers.Dense(20, activation= 'relu')(liked_hidden_1)\n",
    "\n",
    "# disliked genres input\n",
    "disliked_input = keras.layers.Dense(19, activation= 'relu')(user_disliked_genres)\n",
    "disliked_hidden_1 = keras.layers.Dense(50, activation= 'relu')(disliked_input)\n",
    "disliked_hidden_2 = keras.layers.Dense(20, activation= 'relu')(disliked_hidden_1)\n",
    "\n",
    "# movie genres input\n",
    "movie_input = keras.layers.Dense(19, activation= 'relu')(movie_genres)\n",
    "movie_hidden_1 = keras.layers.Dense(50, activation= 'relu')(movie_input)\n",
    "movie_hidden_2 = keras.layers.Dense(20, activation= 'relu')(movie_hidden_1)\n",
    "\n",
    "# merging\n",
    "merged_model = keras.layers.concatenate([liked_hidden_2, disliked_hidden_2, movie_hidden_2])\n",
    "merged_model_hidden_1 = keras.layers.Dense(150, activation= 'relu')(merged_model)\n",
    "merged_model_hidden_2 = keras.layers.Dense(75, activation= 'relu')(merged_model_hidden_1)\n",
    "merged_model_hidden_3 = keras.layers.Dense(50, activation= 'relu')(merged_model_hidden_2)\n",
    "\n",
    "# output layer\n",
    "output_rating = keras.layers.Dense(1, activation= 'sigmoid')(merged_model_hidden_3)\n",
    "\n",
    "# creating model\n",
    "genres_model = keras.Model(inputs= [user_liked_genres, user_disliked_genres, movie_genres], outputs= output_rating)\n",
    "genres_model.compile(optimizer= keras.optimizers.Adam(learning_rate=0.001), loss= 'mean_squared_error')"
   ]
  },
  {
   "cell_type": "code",
   "execution_count": 83,
   "metadata": {
    "executionInfo": {
     "elapsed": 447,
     "status": "ok",
     "timestamp": 1694566507429,
     "user": {
      "displayName": "Bruno Chojniak",
      "userId": "05709488863196059024"
     },
     "user_tz": 180
    },
    "id": "XvXzXxZ_7SM5"
   },
   "outputs": [],
   "source": [
    "# creating random forest model (tags)\n",
    "random_forest = RandomForestRegressor(n_estimators=100, max_features='sqrt', verbose=2, random_state=True, n_jobs= -1, max_depth=15)"
   ]
  },
  {
   "cell_type": "code",
   "execution_count": 88,
   "metadata": {},
   "outputs": [],
   "source": [
    "# creating input datasets (calling merge_shuffle_split)\n",
    "genres_like, genres_dislike, genres_movie, rf_input, ratings = merge_shuffle_split()"
   ]
  },
  {
   "cell_type": "code",
   "execution_count": 89,
   "metadata": {},
   "outputs": [],
   "source": [
    "# train test splitting\n",
    "train_split = 0.95\n",
    "split_index = int(len(ratings) * train_split)\n",
    "# neural network\n",
    "genres_like_train = genres_like.iloc[: split_index, :]\n",
    "genres_like_test = genres_like.iloc[split_index :, :]\n",
    "del genres_like\n",
    "genres_dislike_train = genres_dislike.iloc[: split_index, :]\n",
    "genres_dislike_test = genres_dislike.iloc[split_index :, :]\n",
    "del genres_dislike\n",
    "genres_movie_train = genres_movie.iloc[: split_index, :]\n",
    "genres_movie_test = genres_movie.iloc[split_index :, :]\n",
    "del genres_movie\n",
    "ratings_scaled = np.array(ratings)/5\n",
    "ratings_scaled_train = ratings_scaled[: split_index]\n",
    "ratings_scaled_test = ratings_scaled[split_index :]\n",
    "# random forest\n",
    "rf_input_train = rf_input.iloc[: split_index, :]\n",
    "rf_input_test = rf_input.iloc[split_index :, :]\n",
    "ratings_train = ratings[: split_index]\n",
    "ratings_test = ratings[split_index :]"
   ]
  },
  {
   "cell_type": "code",
   "execution_count": 90,
   "metadata": {},
   "outputs": [
    {
     "name": "stderr",
     "output_type": "stream",
     "text": [
      "/opt/conda/lib/python3.10/site-packages/keras/src/engine/training.py:3000: UserWarning: You are saving your model as an HDF5 file via `model.save()`. This file format is considered legacy. We recommend using instead the native Keras format, e.g. `model.save('my_model.keras')`.\n",
      "  saving_api.save_model(\n"
     ]
    }
   ],
   "source": [
    "# fitting neural network\n",
    "batch_size = 500\n",
    "epochs = 10\n",
    "\n",
    "# def scheduler(epoch):\n",
    "#     if epoch < 5:\n",
    "#         return 0.001\n",
    "#     else:\n",
    "#         return 0.001 * math.exp(0.1 * (5 - epoch))\n",
    "# Learning_Rate_Callback = keras.callbacks.LearningRateScheduler(scheduler)\n",
    "\n",
    "# class Save_Progress_Callback(keras.callbacks.Callback):\n",
    "#     def on_epoch_end(self, epoch, logs=None): ## Saving and printing after each epoch\n",
    "#         lr = float(keras.backend.get_value(self.model.optimizer.learning_rate))\n",
    "#         print(\"Epoch {}; Loss {:7.3f}; Val loss {:7.3f}; Learning rate {}.\".format(epoch, logs[\"loss\"], logs[\"val_loss\"], lr))\n",
    "\n",
    "# callbacks=[Learning_Rate_Callback, Save_Progress_Callback()]\n",
    "\n",
    "genres_model.fit(x=[genres_like_train, genres_dislike_train, genres_movie_train],\n",
    "                 y=ratings_scaled_train,\n",
    "                 epochs=epochs,\n",
    "                 verbose=0,\n",
    "                 batch_size=batch_size,\n",
    "                 validation_split=0.2,\n",
    "                 shuffle= True)\n",
    "\n",
    "genres_model.save('models_/genres_model.h5', overwrite=True, include_optimizer=True)"
   ]
  },
  {
   "cell_type": "code",
   "execution_count": 91,
   "metadata": {
    "colab": {
     "base_uri": "https://localhost:8080/"
    },
    "executionInfo": {
     "elapsed": 328068,
     "status": "ok",
     "timestamp": 1694566956878,
     "user": {
      "displayName": "Bruno Chojniak",
      "userId": "05709488863196059024"
     },
     "user_tz": 180
    },
    "id": "EVWqQyldwmyy",
    "outputId": "bb45c2ee-dd10-4e0d-99e3-a509dce6637f"
   },
   "outputs": [
    {
     "name": "stderr",
     "output_type": "stream",
     "text": [
      "[Parallel(n_jobs=-1)]: Using backend ThreadingBackend with 16 concurrent workers.\n"
     ]
    },
    {
     "name": "stdout",
     "output_type": "stream",
     "text": [
      "building tree 1 of 100\n",
      "building tree 2 of 100\n",
      "building tree 3 of 100\n",
      "building tree 4 of 100\n",
      "building tree 5 of 100\n",
      "building tree 6 of 100\n",
      "building tree 7 of 100\n",
      "building tree 8 of 100\n",
      "building tree 9 of 100\n",
      "building tree 10 of 100\n",
      "building tree 11 of 100\n",
      "building tree 12 of 100\n",
      "building tree 13 of 100\n",
      "building tree 14 of 100\n",
      "building tree 15 of 100\n",
      "building tree 16 of 100\n",
      "building tree 17 of 100\n",
      "building tree 18 of 100\n",
      "building tree 19 of 100\n",
      "building tree 20 of 100\n",
      "building tree 21 of 100\n",
      "building tree 22 of 100\n",
      "building tree 23 of 100\n",
      "building tree 24 of 100\n",
      "building tree 25 of 100\n",
      "building tree 26 of 100\n"
     ]
    },
    {
     "name": "stderr",
     "output_type": "stream",
     "text": [
      "[Parallel(n_jobs=-1)]: Done   9 tasks      | elapsed:   24.1s\n"
     ]
    },
    {
     "name": "stdout",
     "output_type": "stream",
     "text": [
      "building tree 27 of 100\n",
      "building tree 28 of 100\n",
      "building tree 29 of 100\n",
      "building tree 30 of 100\n",
      "building tree 31 of 100\n",
      "building tree 32 of 100\n",
      "building tree 33 of 100\n",
      "building tree 34 of 100\n",
      "building tree 35 of 100\n",
      "building tree 36 of 100\n",
      "building tree 37 of 100\n",
      "building tree 38 of 100\n",
      "building tree 39 of 100\n",
      "building tree 40 of 100\n",
      "building tree 41 of 100\n",
      "building tree 42 of 100\n",
      "building tree 43 of 100\n",
      "building tree 44 of 100\n",
      "building tree 45 of 100\n",
      "building tree 46 of 100\n",
      "building tree 47 of 100\n",
      "building tree 48 of 100\n",
      "building tree 49 of 100\n",
      "building tree 50 of 100\n",
      "building tree 51 of 100\n",
      "building tree 52 of 100\n",
      "building tree 53 of 100\n",
      "building tree 54 of 100\n",
      "building tree 55 of 100\n",
      "building tree 56 of 100\n",
      "building tree 57 of 100\n",
      "building tree 58 of 100\n",
      "building tree 59 of 100\n",
      "building tree 60 of 100\n",
      "building tree 61 of 100\n",
      "building tree 62 of 100\n",
      "building tree 63 of 100\n",
      "building tree 64 of 100\n",
      "building tree 65 of 100\n",
      "building tree 66 of 100\n",
      "building tree 67 of 100\n",
      "building tree 68 of 100\n",
      "building tree 69 of 100\n",
      "building tree 70 of 100\n",
      "building tree 71 of 100\n",
      "building tree 72 of 100\n",
      "building tree 73 of 100\n",
      "building tree 74 of 100\n",
      "building tree 75 of 100\n",
      "building tree 76 of 100\n",
      "building tree 77 of 100\n",
      "building tree 78 of 100\n",
      "building tree 79 of 100\n",
      "building tree 80 of 100\n",
      "building tree 81 of 100\n",
      "building tree 82 of 100\n",
      "building tree 83 of 100\n",
      "building tree 84 of 100\n",
      "building tree 85 of 100\n",
      "building tree 86 of 100\n",
      "building tree 87 of 100\n",
      "building tree 88 of 100\n",
      "building tree 89 of 100\n",
      "building tree 90 of 100\n",
      "building tree 91 of 100\n",
      "building tree 92 of 100\n",
      "building tree 93 of 100\n",
      "building tree 94 of 100\n",
      "building tree 95 of 100\n",
      "building tree 96 of 100\n",
      "building tree 97 of 100\n",
      "building tree 98 of 100\n",
      "building tree 99 of 100\n",
      "building tree 100 of 100\n"
     ]
    },
    {
     "name": "stderr",
     "output_type": "stream",
     "text": [
      "[Parallel(n_jobs=-1)]: Done 100 out of 100 | elapsed:  2.7min finished\n",
      "[Parallel(n_jobs=16)]: Using backend ThreadingBackend with 16 concurrent workers.\n",
      "[Parallel(n_jobs=16)]: Done   9 tasks      | elapsed:    0.1s\n",
      "[Parallel(n_jobs=16)]: Done 100 out of 100 | elapsed:    0.3s finished\n"
     ]
    },
    {
     "name": "stdout",
     "output_type": "stream",
     "text": [
      "0.14123288429358993\n"
     ]
    }
   ],
   "source": [
    "# fitting random_forest\n",
    "random_forest.fit(rf_input_train, ratings_train)\n",
    "print(random_forest.score(rf_input_test, ratings_test))\n",
    "\n",
    "joblib.dump(random_forest, open('models_/tags_model.sav', 'wb'), compress=7)"
   ]
  },
  {
   "cell_type": "code",
   "execution_count": 92,
   "metadata": {},
   "outputs": [
    {
     "name": "stdout",
     "output_type": "stream",
     "text": [
      "5256/5256 [==============================] - 8s 2ms/step\n"
     ]
    },
    {
     "name": "stderr",
     "output_type": "stream",
     "text": [
      "[Parallel(n_jobs=16)]: Using backend ThreadingBackend with 16 concurrent workers.\n",
      "[Parallel(n_jobs=16)]: Done   9 tasks      | elapsed:    0.1s\n",
      "[Parallel(n_jobs=16)]: Done 100 out of 100 | elapsed:    0.3s finished\n"
     ]
    }
   ],
   "source": [
    "genres_model_predictions = (genres_model.predict(x= [genres_like_test, genres_dislike_test, genres_movie_test])) * 5 # Rescale back to original values\n",
    "random_forest_predict = random_forest.predict(rf_input_test)"
   ]
  },
  {
   "cell_type": "code",
   "execution_count": 93,
   "metadata": {},
   "outputs": [],
   "source": [
    "# creating input for the combined model (linear regression)\n",
    "genres_model_predictions_list = []\n",
    "for prediction in genres_model_predictions:\n",
    "    genres_model_predictions_list.append(prediction[0])\n",
    "\n",
    "merged_predictions = pd.DataFrame({'genres_model': genres_model_predictions_list,\n",
    "                                   'tag_model': list(random_forest_predict),\n",
    "                                   'genres_true': list(np.array(list(ratings_scaled_test)) * 5),\n",
    "                                   'tag_true': ratings_test},\n",
    "                                  index= list(range(len(ratings_test))))\n",
    "\n",
    "X = merged_predictions.loc[:, ['genres_model', 'tag_model']]\n",
    "y = np.array(merged_predictions.loc[:, 'genres_true'])\n",
    "X_train, X_test, y_train, y_test = train_test_split(X, y, test_size=0.25)\n",
    "\n",
    "# fitting combined model\n",
    "line_reg = LinearRegression(n_jobs=-1).fit(X_train, y_train)\n",
    "\n",
    "line_reg_predictions = line_reg.predict(X_test)\n",
    "\n",
    "joblib.dump(line_reg, open('models_/combine_model.sav', 'wb'), compress=7)\n",
    "\n",
    "# rounding predictions that are out of bounds\n",
    "line_reg_predictions_rounded = []\n",
    "\n",
    "for prediction in line_reg_predictions:\n",
    "    rounded = prediction\n",
    "    if rounded > 5:\n",
    "        rounded = 5\n",
    "    elif rounded < 0.5:\n",
    "        rounded = 0.5\n",
    "\n",
    "    line_reg_predictions_rounded.append(rounded)"
   ]
  },
  {
   "cell_type": "code",
   "execution_count": 94,
   "metadata": {
    "colab": {
     "base_uri": "https://localhost:8080/"
    },
    "executionInfo": {
     "elapsed": 32499,
     "status": "ok",
     "timestamp": 1694567033539,
     "user": {
      "displayName": "Bruno Chojniak",
      "userId": "05709488863196059024"
     },
     "user_tz": 180
    },
    "id": "nvPO6f7v8PHt",
    "outputId": "96a81eb6-c5f5-44a6-f37c-ceb11a02b3e2"
   },
   "outputs": [
    {
     "name": "stdout",
     "output_type": "stream",
     "text": [
      "Genres model stats:\n",
      "True Positive: 23252, True Negative: 89943, False Positive 9090, False Negative 45886\n",
      "Rating Accuracy: 0.2464872064743624, Binary Accuracy (Like/Dislike) 0.6730946477097716\n",
      "FLEX: True Positive: 76416, True Negative: 39485, False Positive 26967, False Negative 25303\n",
      "FLEX: Rating Accuracy: 0.6444036129891598, Binary Accuracy (Like/Dislike) 0.6891854124670722\n",
      "\n",
      "Tags model stats:\n",
      "True Positive: 4541, True Negative: 97929, False Positive 1104, False Negative 64597\n",
      "Rating Accuracy: 0.21187957495644313, Binary Accuracy (Like/Dislike) 0.6093202751960802\n",
      "FLEX: True Positive: 91206, True Negative: 21049, False Positive 45403, False Negative 10513\n",
      "FLEX: Rating Accuracy: 0.626130545694561, Binary Accuracy (Like/Dislike) 0.6675050989766369\n",
      "\n",
      "Combined model stats:\n",
      "Linear Regression R2: 0.25059299520547607\n",
      "Linear Regression coefficients -  genres_model: 0.8004878000499859 tag_model: 0.5893900881623934\n",
      "True Positive: 6743, True Negative: 21997, False Positive 2636, False Negative 10667\n",
      "Rating Accuracy: 0.2578550531598601, Binary Accuracy (Like/Dislike) 0.6835858525795019\n",
      "FLEX: True Positive: 20411, True Negative: 9109, False Positive 7376, False Negative 5147\n",
      "FLEX: Rating Accuracy: 0.6558999119948624, Binary Accuracy (Like/Dislike) 0.7021382869918893\n"
     ]
    }
   ],
   "source": [
    "print('Genres model stats:')\n",
    "stats(genres_model_predictions, ratings_scaled_test*5)\n",
    "print('')\n",
    "\n",
    "print('Tags model stats:')\n",
    "stats(random_forest_predict, ratings_test)\n",
    "print('')\n",
    "\n",
    "print('Combined model stats:')\n",
    "print('Linear Regression R2:', line_reg.score(X_test, y_test))\n",
    "print('Linear Regression coefficients - ', f'{line_reg.feature_names_in_[0]}: {line_reg.coef_[0]}', f'{line_reg.feature_names_in_[1]}: {line_reg.coef_[1]}')\n",
    "stats(line_reg_predictions_rounded, y_test)"
   ]
  },
  {
   "cell_type": "code",
   "execution_count": 125,
   "metadata": {
    "executionInfo": {
     "elapsed": 1295,
     "status": "ok",
     "timestamp": 1694567472882,
     "user": {
      "displayName": "Bruno Chojniak",
      "userId": "05709488863196059024"
     },
     "user_tz": 180
    },
    "id": "R2QHMq840kQW"
   },
   "outputs": [],
   "source": [
    "def top_10_recommendations(userId, movie_list):\n",
    "    movies_mod = pd.read_csv('data_/movies_mod.csv')\n",
    "    ratings = pd.read_csv('data_/ratings_subset.csv')\n",
    "\n",
    "    # identifying not watched movies\n",
    "    not_watched = movie_list.copy()\n",
    "    ratings = ratings[ratings.userId == userId]\n",
    "\n",
    "    if len(ratings) ==  0:\n",
    "        return print('User {} does not have enough information. 1'.format(userId))\n",
    "\n",
    "    ratings_movies = ratings.merge(movies_mod, how= 'left', on= 'movieId').dropna()\n",
    "\n",
    "    watched = list(ratings_movies.movieId)\n",
    "    del ratings_movies\n",
    "\n",
    "    for movie in watched:\n",
    "        if movie in not_watched:\n",
    "            not_watched.remove(movie)\n",
    "\n",
    "    # genres\n",
    "    like_genres = pd.read_csv('data_/final/like_genres.csv')\n",
    "    dislike_genres = pd.read_csv('data_/final/dislike_genres.csv')\n",
    "\n",
    "    like_genres = like_genres[like_genres.userId == userId]\n",
    "    if len(like_genres) ==  0:\n",
    "        return print('User {} does not have enough information. 3'.format(userId))\n",
    "\n",
    "    dislike_genres = dislike_genres[dislike_genres.userId == userId]\n",
    "    if len(dislike_genres) ==  0:\n",
    "        return print('User {} does not have enough information. 4'.format(userId))\n",
    "\n",
    "    # changing column names to differenciate liked genres and disliked genres, and movie genres\n",
    "    like_columns = list(like_genres.columns)\n",
    "    like_columns_modified = []\n",
    "    for column in like_columns:\n",
    "        if column == 'userId':\n",
    "            like_columns_modified.append('userId')\n",
    "        else:\n",
    "            modify_column = 'user_like_' + column\n",
    "            like_columns_modified.append(modify_column)\n",
    "    like_genres.columns = like_columns_modified\n",
    "\n",
    "    dislike_columns = list(dislike_genres.columns)\n",
    "    dislike_columns_modified = []\n",
    "    for column in dislike_columns:\n",
    "        if column == 'userId':\n",
    "            dislike_columns_modified.append('userId')\n",
    "        else:\n",
    "            modify_column = 'user_dislike_' + column\n",
    "            dislike_columns_modified.append(modify_column)\n",
    "\n",
    "    dislike_genres.columns = dislike_columns_modified\n",
    "\n",
    "    # tags\n",
    "    movie_tags_df = pd.read_csv('data_/final/movie_tags_df.csv')\n",
    "    like_dislike_tags = (pd.read_csv('data_/final/like_dislike_tags.csv')).astype('int64')\n",
    "\n",
    "    # adding a column with all not watched movies, then merging movie information (genres and tags profiles of movies)\n",
    "    template_df = pd.DataFrame({'movieId': not_watched}, index= list(range(len(not_watched))))\n",
    "    template_df = template_df.merge(movies_mod, how= 'left', on= 'movieId').dropna()\n",
    "    template_df = template_df.merge(movie_tags_df, how= 'left', on= 'movieId').dropna()\n",
    "    del movie_tags_df\n",
    "\n",
    "    # selecting the users tags\n",
    "    like_dislike_tags = like_dislike_tags[like_dislike_tags.userId == userId]\n",
    "    if len(like_dislike_tags) ==  0:\n",
    "        return print('User {} does not have enough information. 5'.format(userId))\n",
    "\n",
    "    # adding a column with the userId on all rows, then merging user information (genres and tags profiles of users)\n",
    "    template_df['userId'] = userId\n",
    "    template_df = template_df.merge(like_genres, how= 'left', on= 'userId').dropna()\n",
    "    del like_genres\n",
    "    template_df = template_df.merge(dislike_genres, how= 'left', on= 'userId').dropna()\n",
    "    del dislike_genres\n",
    "    template_df = template_df.merge(like_dislike_tags, how= 'left', on= 'userId').dropna()\n",
    "    del like_dislike_tags\n",
    "\n",
    "    like_columns_modified.remove('userId')\n",
    "    dislike_columns_modified.remove('userId')\n",
    "    like_columns.remove('userId')\n",
    "\n",
    "    # generating the columns for the random forest input\n",
    "    rf_columns = []\n",
    "    for x in range(20):\n",
    "        rf_columns.append('LIKE_' + str(x))\n",
    "        rf_columns.append('DISLIKE_' + str(x))\n",
    "    for x in range(5):\n",
    "        rf_columns.append('TAG_' + str(x))\n",
    "\n",
    "    # separating the 3 inputs for the neural network\n",
    "    genres_like_input = template_df.loc[:, like_columns_modified]\n",
    "    genres_dislike_input = template_df.loc[:, dislike_columns_modified]\n",
    "    genres_movie_input = template_df.loc[:, like_columns]\n",
    "\n",
    "    # separating the input for the random forest\n",
    "    tags_input = template_df.loc[:, rf_columns]\n",
    "\n",
    "    # saving a list with the not-watched movieIds\n",
    "    movieId_list = list(template_df.movieId)\n",
    "\n",
    "    del template_df\n",
    "\n",
    "    # loading models\n",
    "    genres_model = keras.models.load_model('models_/genres_model.h5', compile=True)\n",
    "    tags_model = joblib.load(open('models_/tags_model.sav', 'rb'))\n",
    "    combine_model = joblib.load(open('models_/combine_model.sav', 'rb'))\n",
    "\n",
    "    # predicting with the genres and tags models\n",
    "    genres_model_predictions = (genres_model.predict(x= [genres_like_input, genres_dislike_input, genres_movie_input])) * 5 ## Rescaling up; predicts a scaled and bound (sigmoid, 0-1) values\n",
    "    tags_model_predictions = tags_model.predict(tags_input)\n",
    "\n",
    "    # transforming the neural network prediction into a list\n",
    "    genres_model_predictions_list = []\n",
    "    for prediction in genres_model_predictions:\n",
    "        genres_model_predictions_list.append(prediction[0])\n",
    "\n",
    "    # using both predictions to predict with the combined model\n",
    "    combine_input = pd.DataFrame({'genres_model': genres_model_predictions_list,\n",
    "                                  'tag_model': tags_model_predictions},\n",
    "                                 index= list(range(len(genres_model_predictions))))\n",
    "    combine_model_predictions = combine_model.predict(combine_input)\n",
    "\n",
    "    # rounding predictions that end up out of bounds\n",
    "    combine_model_predictions_rounded = []\n",
    "    for prediction in combine_model_predictions:\n",
    "        rounded = prediction\n",
    "        if rounded > 5:\n",
    "            rounded = 5\n",
    "        elif rounded < 0.5:\n",
    "            rounded = 0.5\n",
    "        combine_model_predictions_rounded.append(rounded)\n",
    "\n",
    "    # creating dataframe with predictions\n",
    "    # predictions_df = pd.DataFrame({'movieId': movieId_list,\n",
    "    #                                'genres_predictions': genres_model_predictions_list,\n",
    "    #                               'tags_predictions': tags_model_predictions,\n",
    "    #                               'combine_predictions': combine_model_predictions_rounded},\n",
    "    #                              index= list(range(len(movieId_list))))\n",
    "    predictions_df = pd.DataFrame({'movieId': movieId_list,\n",
    "                              'prediction': combine_model_predictions_rounded},\n",
    "                              index= list(range(len(movieId_list))))\n",
    "\n",
    "    # getting top and bottom predictions\n",
    "    best_movies_df = predictions_df.sort_values(by=['prediction'], ascending=False).iloc[:20, :]\n",
    "    worst_movies_df = predictions_df.sort_values(by=['prediction'], ascending=True).iloc[:20, :]\n",
    "\n",
    "    # adding rest of information about the movie\n",
    "    best_movies_df = best_movies_df.merge(movies_mod, how= 'left', on= 'movieId').dropna()\n",
    "    worst_movies_df = worst_movies_df.merge(movies_mod, how= 'left', on= 'movieId').dropna()\n",
    "    del movies_mod\n",
    "\n",
    "    return predictions_df, best_movies_df, worst_movies_df"
   ]
  },
  {
   "cell_type": "code",
   "execution_count": 154,
   "metadata": {},
   "outputs": [
    {
     "name": "stdout",
     "output_type": "stream",
     "text": [
      "[260, 1270, 1196, 1198, 1210, 1240, 1291, 1036, 858, 2716, 1214, 1097, 1136, 541, 1258, 1200, 592, 1197, 2115, 1193, 1206, 924, 2011, 1961, 2918, 1387, 1222, 1221, 919, 1208, 1246, 1968, 2174, 2987, 111, 2797, 1073, 1101, 2000, 1259, 750, 2791, 1080, 1219, 1220, 1307, 912, 1954, 1079, 3527, 2571, 356, 296, 593, 318, 480, 1580, 2762, 1, 2858, 2959, 589, 1265, 3578, 780, 110, 47, 2028, 50, 1682, 608, 1721, 527, 1527, 1704, 32, 2628, 4226, 3793, 377, 364, 1089, 457, 648, 150, 1732, 367, 588, 2997, 3147, 3996, 1923, 380, 293, 4022, 500, 1517, 733, 1617, 2683, 344, 3114, 4027, 2706, 778, 1917, 2329, 1573, 1653, 231, 1584, 1784, 3948, 4011, 595, 2617, 1393, 736, 165, 2, 4993, 4306, 5952, 7153, 6539, 5349, 4963, 5445, 6377, 6874, 4886, 4995, 5418, 5989, 4896, 33794, 7438, 8961, 6365, 7361, 5378, 4973, 4878, 58559, 8636, 5816, 6333, 44191, 32587, 6711, 8360, 8368, 33493, 6934, 79132, 8665, 5218, 59315, 8874, 48516, 8644, 5459, 60069, 49272, 7147, 5502, 6373, 48780, 72998, 4370, 4979, 6502, 6863, 68157, 51662, 45722, 5618, 40815, 4308, 46578, 48394, 55820, 4246, 7143, 68954, 50872, 54286, 4720, 7254, 5679, 5010, 56367, 35836, 6378, 70286, 48774, 5669, 6537, 69122, 56174, 33679, 30793, 4447, 30707, 4816, 4848, 5481, 48385, 5956, 63082, 34048, 5299, 74458, 51255, 4270, 68358, 5995, 4975, 4643, 4776, 91529, 99114, 89745, 109487, 112852, 91500, 134130, 104841, 106782, 122882, 88125, 87232, 96610, 122886, 98809, 109374, 111759, 96079, 86332, 115713, 88129, 85414, 112556, 134853, 116797, 88140, 84152, 106487, 94864, 106920, 102125, 111362, 91542, 97921, 88744, 110102, 106489, 119145, 97304, 102445, 97938, 91658, 122892, 112183, 94959, 112552, 115617, 106696, 91630, 93840, 95510, 115569, 97913, 103249, 115149, 108932, 139385, 122900, 102903, 92259, 89492, 86882, 93510, 95441, 103228, 117529, 116823, 86880, 95167, 148626, 94777, 103253, 106072, 128360, 97752, 87306, 103042, 118696, 101864, 106100, 87869, 84954, 88163, 90405, 107406, 112623, 105844, 106916, 90866, 86911, 111360, 105504, 88810, 104879, 96821, 89864, 102407, 142488, 86833, 139644, 103335, 84944, 103141, 96737, 112175, 103341, 114180, 103772, 111781, 106002, 106918, 117176, 84772, 104374, 135133, 114662, 115210, 98961, 108190, 112138, 136020, 91535, 112290, 97306, 102123, 114935, 143385, 104913, 99112, 87430, 104211, 96588, 87520, 111659, 90746, 95875, 87222, 138036, 97923, 91077, 83613, 140174, 86190, 92420, 110553, 89904, 98154, 89470, 111364, 103688, 122904, 164179, 152081, 166528, 122922, 122920, 122918, 168252, 176371, 168250, 122916, 122912, 143355, 135143, 152077, 179819, 174055, 171763, 158238, 122926, 135536, 122906, 164909, 122924, 177593, 135569, 187593, 166461, 136864, 166635, 157296, 168248, 177765, 166534, 180031, 166643, 159093, 137857, 163645, 161582, 162606, 185029, 175303, 122914, 187541, 182715, 195159, 160438, 165549, 177615, 158966, 168612, 188301, 162578, 160980, 176101, 169984, 192803, 179401, 168366, 187595, 122896, 122890, 135436, 183897, 152970, 160080, 158872, 175569, 143859, 189333, 168254, 162600, 149406, 173145, 183611, 122898, 168326, 194448, 162350, 135567, 169864, 161131, 167746, 173291, 165551, 161634, 159415, 122910, 163134, 166946, 173941, 189713, 178061, 183869, 159858, 176419, 175661, 177763, 158783, 157699, 192389, 162082, 160271, 189203, 180297, 162602, 182823, 192385, 143347, 179817, 168492, 180497, 193944, 187031, 156387, 174909, 160718, 162598, 171011, 201773, 176751, 161922, 152079, 170875, 180045, 158813, 165347, 167370, 189363, 135426, 194951, 135141, 167036, 152017, 184471, 165101, 170827, 177689, 181315, 168344, 180985, 138210, 177651, 160563, 160954, 193065, 196997, 197711, 156609]\n"
     ]
    }
   ],
   "source": [
    "print(chosen_movies_list)"
   ]
  },
  {
   "cell_type": "code",
   "execution_count": 148,
   "metadata": {},
   "outputs": [
    {
     "data": {
      "text/plain": [
       "'56618'"
      ]
     },
     "execution_count": 148,
     "metadata": {},
     "output_type": "execute_result"
    }
   ],
   "source": [
    "user_list[15]"
   ]
  },
  {
   "cell_type": "code",
   "execution_count": 149,
   "metadata": {
    "colab": {
     "base_uri": "https://localhost:8080/"
    },
    "executionInfo": {
     "elapsed": 11040,
     "status": "ok",
     "timestamp": 1694567489604,
     "user": {
      "displayName": "Bruno Chojniak",
      "userId": "05709488863196059024"
     },
     "user_tz": 180
    },
    "id": "cQS93DMB3IMf",
    "outputId": "5c34d387-a4c0-40a9-8fad-7fc7eff6108b"
   },
   "outputs": [
    {
     "name": "stdout",
     "output_type": "stream",
     "text": [
      "11/11 [==============================] - 0s 2ms/step\n"
     ]
    },
    {
     "name": "stderr",
     "output_type": "stream",
     "text": [
      "[Parallel(n_jobs=16)]: Using backend ThreadingBackend with 16 concurrent workers.\n",
      "[Parallel(n_jobs=16)]: Done   9 tasks      | elapsed:    0.0s\n",
      "[Parallel(n_jobs=16)]: Done 100 out of 100 | elapsed:    0.0s finished\n"
     ]
    }
   ],
   "source": [
    "predictions_df, best_movies_df, worst_movies_df = top_10_recommendations(56618, chosen_movies_list)"
   ]
  },
  {
   "cell_type": "code",
   "execution_count": 150,
   "metadata": {
    "colab": {
     "base_uri": "https://localhost:8080/",
     "height": 706
    },
    "executionInfo": {
     "elapsed": 535,
     "status": "ok",
     "timestamp": 1694567494493,
     "user": {
      "displayName": "Bruno Chojniak",
      "userId": "05709488863196059024"
     },
     "user_tz": 180
    },
    "id": "n77ARBxdjvq-",
    "outputId": "130684be-fd06-4ff2-b747-b45ba8d5ef75"
   },
   "outputs": [
    {
     "data": {
      "text/plain": [
       "349"
      ]
     },
     "execution_count": 150,
     "metadata": {},
     "output_type": "execute_result"
    }
   ],
   "source": [
    "len(predictions_df)"
   ]
  },
  {
   "cell_type": "code",
   "execution_count": 151,
   "metadata": {
    "colab": {
     "base_uri": "https://localhost:8080/",
     "height": 706
    },
    "executionInfo": {
     "elapsed": 710,
     "status": "ok",
     "timestamp": 1694541785219,
     "user": {
      "displayName": "Bruno Chojniak",
      "userId": "05709488863196059024"
     },
     "user_tz": 180
    },
    "id": "Tbmx8shyj2ve",
    "outputId": "e96cc474-775a-4026-b72b-2f0729ddc629"
   },
   "outputs": [
    {
     "data": {
      "text/html": [
       "<div>\n",
       "<style scoped>\n",
       "    .dataframe tbody tr th:only-of-type {\n",
       "        vertical-align: middle;\n",
       "    }\n",
       "\n",
       "    .dataframe tbody tr th {\n",
       "        vertical-align: top;\n",
       "    }\n",
       "\n",
       "    .dataframe thead th {\n",
       "        text-align: right;\n",
       "    }\n",
       "</style>\n",
       "<table border=\"1\" class=\"dataframe\">\n",
       "  <thead>\n",
       "    <tr style=\"text-align: right;\">\n",
       "      <th></th>\n",
       "      <th>movieId</th>\n",
       "      <th>prediction</th>\n",
       "      <th>title</th>\n",
       "      <th>genres</th>\n",
       "      <th>YEAR</th>\n",
       "      <th>Thriller</th>\n",
       "      <th>Horror</th>\n",
       "      <th>Action</th>\n",
       "      <th>Romance</th>\n",
       "      <th>Comedy</th>\n",
       "      <th>...</th>\n",
       "      <th>Adventure</th>\n",
       "      <th>FilmNoir</th>\n",
       "      <th>Crime</th>\n",
       "      <th>Western</th>\n",
       "      <th>Animation</th>\n",
       "      <th>Drama</th>\n",
       "      <th>War</th>\n",
       "      <th>Musical</th>\n",
       "      <th>Documentary</th>\n",
       "      <th>None</th>\n",
       "    </tr>\n",
       "  </thead>\n",
       "  <tbody>\n",
       "    <tr>\n",
       "      <th>0</th>\n",
       "      <td>60069</td>\n",
       "      <td>4.122113</td>\n",
       "      <td>WALL·E (2008)</td>\n",
       "      <td>Adventure|Animation|Children|Romance|Sci-Fi</td>\n",
       "      <td>2008</td>\n",
       "      <td>0</td>\n",
       "      <td>0</td>\n",
       "      <td>0</td>\n",
       "      <td>1</td>\n",
       "      <td>0</td>\n",
       "      <td>...</td>\n",
       "      <td>1</td>\n",
       "      <td>0</td>\n",
       "      <td>0</td>\n",
       "      <td>0</td>\n",
       "      <td>1</td>\n",
       "      <td>0</td>\n",
       "      <td>0</td>\n",
       "      <td>0</td>\n",
       "      <td>0</td>\n",
       "      <td>0</td>\n",
       "    </tr>\n",
       "    <tr>\n",
       "      <th>1</th>\n",
       "      <td>134853</td>\n",
       "      <td>4.066248</td>\n",
       "      <td>Inside Out (2015)</td>\n",
       "      <td>Adventure|Animation|Children|Comedy|Drama|Fantasy</td>\n",
       "      <td>2015</td>\n",
       "      <td>0</td>\n",
       "      <td>0</td>\n",
       "      <td>0</td>\n",
       "      <td>0</td>\n",
       "      <td>1</td>\n",
       "      <td>...</td>\n",
       "      <td>1</td>\n",
       "      <td>0</td>\n",
       "      <td>0</td>\n",
       "      <td>0</td>\n",
       "      <td>1</td>\n",
       "      <td>1</td>\n",
       "      <td>0</td>\n",
       "      <td>0</td>\n",
       "      <td>0</td>\n",
       "      <td>0</td>\n",
       "    </tr>\n",
       "    <tr>\n",
       "      <th>2</th>\n",
       "      <td>163134</td>\n",
       "      <td>4.010514</td>\n",
       "      <td>Your Name. (2016)</td>\n",
       "      <td>Animation|Drama|Fantasy|Romance</td>\n",
       "      <td>2016</td>\n",
       "      <td>0</td>\n",
       "      <td>0</td>\n",
       "      <td>0</td>\n",
       "      <td>1</td>\n",
       "      <td>0</td>\n",
       "      <td>...</td>\n",
       "      <td>0</td>\n",
       "      <td>0</td>\n",
       "      <td>0</td>\n",
       "      <td>0</td>\n",
       "      <td>1</td>\n",
       "      <td>1</td>\n",
       "      <td>0</td>\n",
       "      <td>0</td>\n",
       "      <td>0</td>\n",
       "      <td>0</td>\n",
       "    </tr>\n",
       "    <tr>\n",
       "      <th>3</th>\n",
       "      <td>68954</td>\n",
       "      <td>3.974511</td>\n",
       "      <td>Up (2009)</td>\n",
       "      <td>Adventure|Animation|Children|Drama</td>\n",
       "      <td>2009</td>\n",
       "      <td>0</td>\n",
       "      <td>0</td>\n",
       "      <td>0</td>\n",
       "      <td>0</td>\n",
       "      <td>0</td>\n",
       "      <td>...</td>\n",
       "      <td>1</td>\n",
       "      <td>0</td>\n",
       "      <td>0</td>\n",
       "      <td>0</td>\n",
       "      <td>1</td>\n",
       "      <td>1</td>\n",
       "      <td>0</td>\n",
       "      <td>0</td>\n",
       "      <td>0</td>\n",
       "      <td>0</td>\n",
       "    </tr>\n",
       "    <tr>\n",
       "      <th>4</th>\n",
       "      <td>87222</td>\n",
       "      <td>3.960470</td>\n",
       "      <td>Kung Fu Panda 2 (2011)</td>\n",
       "      <td>Action|Adventure|Animation|Children|Comedy|IMAX</td>\n",
       "      <td>2011</td>\n",
       "      <td>0</td>\n",
       "      <td>0</td>\n",
       "      <td>1</td>\n",
       "      <td>0</td>\n",
       "      <td>1</td>\n",
       "      <td>...</td>\n",
       "      <td>1</td>\n",
       "      <td>0</td>\n",
       "      <td>0</td>\n",
       "      <td>0</td>\n",
       "      <td>1</td>\n",
       "      <td>0</td>\n",
       "      <td>0</td>\n",
       "      <td>0</td>\n",
       "      <td>0</td>\n",
       "      <td>0</td>\n",
       "    </tr>\n",
       "    <tr>\n",
       "      <th>5</th>\n",
       "      <td>152081</td>\n",
       "      <td>3.949249</td>\n",
       "      <td>Zootopia (2016)</td>\n",
       "      <td>Action|Adventure|Animation|Children|Comedy</td>\n",
       "      <td>2016</td>\n",
       "      <td>0</td>\n",
       "      <td>0</td>\n",
       "      <td>1</td>\n",
       "      <td>0</td>\n",
       "      <td>1</td>\n",
       "      <td>...</td>\n",
       "      <td>1</td>\n",
       "      <td>0</td>\n",
       "      <td>0</td>\n",
       "      <td>0</td>\n",
       "      <td>1</td>\n",
       "      <td>0</td>\n",
       "      <td>0</td>\n",
       "      <td>0</td>\n",
       "      <td>0</td>\n",
       "      <td>0</td>\n",
       "    </tr>\n",
       "    <tr>\n",
       "      <th>6</th>\n",
       "      <td>108932</td>\n",
       "      <td>3.941809</td>\n",
       "      <td>The Lego Movie (2014)</td>\n",
       "      <td>Action|Adventure|Animation|Children|Comedy|Fan...</td>\n",
       "      <td>2014</td>\n",
       "      <td>0</td>\n",
       "      <td>0</td>\n",
       "      <td>1</td>\n",
       "      <td>0</td>\n",
       "      <td>1</td>\n",
       "      <td>...</td>\n",
       "      <td>1</td>\n",
       "      <td>0</td>\n",
       "      <td>0</td>\n",
       "      <td>0</td>\n",
       "      <td>1</td>\n",
       "      <td>0</td>\n",
       "      <td>0</td>\n",
       "      <td>0</td>\n",
       "      <td>0</td>\n",
       "      <td>0</td>\n",
       "    </tr>\n",
       "    <tr>\n",
       "      <th>7</th>\n",
       "      <td>166461</td>\n",
       "      <td>3.928918</td>\n",
       "      <td>Moana (2016)</td>\n",
       "      <td>Adventure|Animation|Children|Comedy|Fantasy</td>\n",
       "      <td>2016</td>\n",
       "      <td>0</td>\n",
       "      <td>0</td>\n",
       "      <td>0</td>\n",
       "      <td>0</td>\n",
       "      <td>1</td>\n",
       "      <td>...</td>\n",
       "      <td>1</td>\n",
       "      <td>0</td>\n",
       "      <td>0</td>\n",
       "      <td>0</td>\n",
       "      <td>1</td>\n",
       "      <td>0</td>\n",
       "      <td>0</td>\n",
       "      <td>0</td>\n",
       "      <td>0</td>\n",
       "      <td>0</td>\n",
       "    </tr>\n",
       "    <tr>\n",
       "      <th>8</th>\n",
       "      <td>99114</td>\n",
       "      <td>3.893880</td>\n",
       "      <td>Django Unchained (2012)</td>\n",
       "      <td>Action|Drama|Western</td>\n",
       "      <td>2012</td>\n",
       "      <td>0</td>\n",
       "      <td>0</td>\n",
       "      <td>1</td>\n",
       "      <td>0</td>\n",
       "      <td>0</td>\n",
       "      <td>...</td>\n",
       "      <td>0</td>\n",
       "      <td>0</td>\n",
       "      <td>0</td>\n",
       "      <td>1</td>\n",
       "      <td>0</td>\n",
       "      <td>1</td>\n",
       "      <td>0</td>\n",
       "      <td>0</td>\n",
       "      <td>0</td>\n",
       "      <td>0</td>\n",
       "    </tr>\n",
       "    <tr>\n",
       "      <th>9</th>\n",
       "      <td>163645</td>\n",
       "      <td>3.857891</td>\n",
       "      <td>Hacksaw Ridge (2016)</td>\n",
       "      <td>Drama|War</td>\n",
       "      <td>2016</td>\n",
       "      <td>0</td>\n",
       "      <td>0</td>\n",
       "      <td>0</td>\n",
       "      <td>0</td>\n",
       "      <td>0</td>\n",
       "      <td>...</td>\n",
       "      <td>0</td>\n",
       "      <td>0</td>\n",
       "      <td>0</td>\n",
       "      <td>0</td>\n",
       "      <td>0</td>\n",
       "      <td>1</td>\n",
       "      <td>1</td>\n",
       "      <td>0</td>\n",
       "      <td>0</td>\n",
       "      <td>0</td>\n",
       "    </tr>\n",
       "    <tr>\n",
       "      <th>10</th>\n",
       "      <td>179817</td>\n",
       "      <td>3.856590</td>\n",
       "      <td>Darkest Hour (2017)</td>\n",
       "      <td>Drama|War</td>\n",
       "      <td>2017</td>\n",
       "      <td>0</td>\n",
       "      <td>0</td>\n",
       "      <td>0</td>\n",
       "      <td>0</td>\n",
       "      <td>0</td>\n",
       "      <td>...</td>\n",
       "      <td>0</td>\n",
       "      <td>0</td>\n",
       "      <td>0</td>\n",
       "      <td>0</td>\n",
       "      <td>0</td>\n",
       "      <td>1</td>\n",
       "      <td>1</td>\n",
       "      <td>0</td>\n",
       "      <td>0</td>\n",
       "      <td>0</td>\n",
       "    </tr>\n",
       "    <tr>\n",
       "      <th>11</th>\n",
       "      <td>98154</td>\n",
       "      <td>3.856042</td>\n",
       "      <td>Lincoln (2012)</td>\n",
       "      <td>Drama|War</td>\n",
       "      <td>2012</td>\n",
       "      <td>0</td>\n",
       "      <td>0</td>\n",
       "      <td>0</td>\n",
       "      <td>0</td>\n",
       "      <td>0</td>\n",
       "      <td>...</td>\n",
       "      <td>0</td>\n",
       "      <td>0</td>\n",
       "      <td>0</td>\n",
       "      <td>0</td>\n",
       "      <td>0</td>\n",
       "      <td>1</td>\n",
       "      <td>1</td>\n",
       "      <td>0</td>\n",
       "      <td>0</td>\n",
       "      <td>0</td>\n",
       "    </tr>\n",
       "    <tr>\n",
       "      <th>12</th>\n",
       "      <td>1219</td>\n",
       "      <td>3.845293</td>\n",
       "      <td>Psycho (1960)</td>\n",
       "      <td>Crime|Horror</td>\n",
       "      <td>1960</td>\n",
       "      <td>0</td>\n",
       "      <td>1</td>\n",
       "      <td>0</td>\n",
       "      <td>0</td>\n",
       "      <td>0</td>\n",
       "      <td>...</td>\n",
       "      <td>0</td>\n",
       "      <td>0</td>\n",
       "      <td>1</td>\n",
       "      <td>0</td>\n",
       "      <td>0</td>\n",
       "      <td>0</td>\n",
       "      <td>0</td>\n",
       "      <td>0</td>\n",
       "      <td>0</td>\n",
       "      <td>0</td>\n",
       "    </tr>\n",
       "    <tr>\n",
       "      <th>13</th>\n",
       "      <td>187541</td>\n",
       "      <td>3.818859</td>\n",
       "      <td>Incredibles 2 (2018)</td>\n",
       "      <td>Action|Adventure|Animation|Children</td>\n",
       "      <td>2018</td>\n",
       "      <td>0</td>\n",
       "      <td>0</td>\n",
       "      <td>1</td>\n",
       "      <td>0</td>\n",
       "      <td>0</td>\n",
       "      <td>...</td>\n",
       "      <td>1</td>\n",
       "      <td>0</td>\n",
       "      <td>0</td>\n",
       "      <td>0</td>\n",
       "      <td>1</td>\n",
       "      <td>0</td>\n",
       "      <td>0</td>\n",
       "      <td>0</td>\n",
       "      <td>0</td>\n",
       "      <td>0</td>\n",
       "    </tr>\n",
       "    <tr>\n",
       "      <th>14</th>\n",
       "      <td>79132</td>\n",
       "      <td>3.816008</td>\n",
       "      <td>Inception (2010)</td>\n",
       "      <td>Action|Crime|Drama|Mystery|Sci-Fi|Thriller|IMAX</td>\n",
       "      <td>2010</td>\n",
       "      <td>1</td>\n",
       "      <td>0</td>\n",
       "      <td>1</td>\n",
       "      <td>0</td>\n",
       "      <td>0</td>\n",
       "      <td>...</td>\n",
       "      <td>0</td>\n",
       "      <td>0</td>\n",
       "      <td>1</td>\n",
       "      <td>0</td>\n",
       "      <td>0</td>\n",
       "      <td>1</td>\n",
       "      <td>0</td>\n",
       "      <td>0</td>\n",
       "      <td>0</td>\n",
       "      <td>0</td>\n",
       "    </tr>\n",
       "    <tr>\n",
       "      <th>15</th>\n",
       "      <td>161582</td>\n",
       "      <td>3.815832</td>\n",
       "      <td>Hell or High Water (2016)</td>\n",
       "      <td>Crime|Drama</td>\n",
       "      <td>2016</td>\n",
       "      <td>0</td>\n",
       "      <td>0</td>\n",
       "      <td>0</td>\n",
       "      <td>0</td>\n",
       "      <td>0</td>\n",
       "      <td>...</td>\n",
       "      <td>0</td>\n",
       "      <td>0</td>\n",
       "      <td>1</td>\n",
       "      <td>0</td>\n",
       "      <td>0</td>\n",
       "      <td>1</td>\n",
       "      <td>0</td>\n",
       "      <td>0</td>\n",
       "      <td>0</td>\n",
       "      <td>0</td>\n",
       "    </tr>\n",
       "    <tr>\n",
       "      <th>16</th>\n",
       "      <td>88125</td>\n",
       "      <td>3.814452</td>\n",
       "      <td>Harry Potter and the Deathly Hallows: Part 2 (...</td>\n",
       "      <td>Action|Adventure|Drama|Fantasy|Mystery|IMAX</td>\n",
       "      <td>2011</td>\n",
       "      <td>0</td>\n",
       "      <td>0</td>\n",
       "      <td>1</td>\n",
       "      <td>0</td>\n",
       "      <td>0</td>\n",
       "      <td>...</td>\n",
       "      <td>1</td>\n",
       "      <td>0</td>\n",
       "      <td>0</td>\n",
       "      <td>0</td>\n",
       "      <td>0</td>\n",
       "      <td>1</td>\n",
       "      <td>0</td>\n",
       "      <td>0</td>\n",
       "      <td>0</td>\n",
       "      <td>0</td>\n",
       "    </tr>\n",
       "    <tr>\n",
       "      <th>17</th>\n",
       "      <td>177593</td>\n",
       "      <td>3.814032</td>\n",
       "      <td>Three Billboards Outside Ebbing, Missouri (2017)</td>\n",
       "      <td>Crime|Drama</td>\n",
       "      <td>2017</td>\n",
       "      <td>0</td>\n",
       "      <td>0</td>\n",
       "      <td>0</td>\n",
       "      <td>0</td>\n",
       "      <td>0</td>\n",
       "      <td>...</td>\n",
       "      <td>0</td>\n",
       "      <td>0</td>\n",
       "      <td>1</td>\n",
       "      <td>0</td>\n",
       "      <td>0</td>\n",
       "      <td>1</td>\n",
       "      <td>0</td>\n",
       "      <td>0</td>\n",
       "      <td>0</td>\n",
       "      <td>0</td>\n",
       "    </tr>\n",
       "    <tr>\n",
       "      <th>18</th>\n",
       "      <td>55820</td>\n",
       "      <td>3.808601</td>\n",
       "      <td>No Country for Old Men (2007)</td>\n",
       "      <td>Crime|Drama</td>\n",
       "      <td>2007</td>\n",
       "      <td>0</td>\n",
       "      <td>0</td>\n",
       "      <td>0</td>\n",
       "      <td>0</td>\n",
       "      <td>0</td>\n",
       "      <td>...</td>\n",
       "      <td>0</td>\n",
       "      <td>0</td>\n",
       "      <td>1</td>\n",
       "      <td>0</td>\n",
       "      <td>0</td>\n",
       "      <td>1</td>\n",
       "      <td>0</td>\n",
       "      <td>0</td>\n",
       "      <td>0</td>\n",
       "      <td>0</td>\n",
       "    </tr>\n",
       "    <tr>\n",
       "      <th>19</th>\n",
       "      <td>167746</td>\n",
       "      <td>3.805871</td>\n",
       "      <td>The Lego Batman Movie (2017)</td>\n",
       "      <td>Action|Animation|Comedy</td>\n",
       "      <td>2017</td>\n",
       "      <td>0</td>\n",
       "      <td>0</td>\n",
       "      <td>1</td>\n",
       "      <td>0</td>\n",
       "      <td>1</td>\n",
       "      <td>...</td>\n",
       "      <td>0</td>\n",
       "      <td>0</td>\n",
       "      <td>0</td>\n",
       "      <td>0</td>\n",
       "      <td>1</td>\n",
       "      <td>0</td>\n",
       "      <td>0</td>\n",
       "      <td>0</td>\n",
       "      <td>0</td>\n",
       "      <td>0</td>\n",
       "    </tr>\n",
       "  </tbody>\n",
       "</table>\n",
       "<p>20 rows × 24 columns</p>\n",
       "</div>"
      ],
      "text/plain": [
       "    movieId  prediction                                              title  \\\n",
       "0     60069    4.122113                                      WALL·E (2008)   \n",
       "1    134853    4.066248                                  Inside Out (2015)   \n",
       "2    163134    4.010514                                  Your Name. (2016)   \n",
       "3     68954    3.974511                                          Up (2009)   \n",
       "4     87222    3.960470                             Kung Fu Panda 2 (2011)   \n",
       "5    152081    3.949249                                    Zootopia (2016)   \n",
       "6    108932    3.941809                              The Lego Movie (2014)   \n",
       "7    166461    3.928918                                       Moana (2016)   \n",
       "8     99114    3.893880                            Django Unchained (2012)   \n",
       "9    163645    3.857891                               Hacksaw Ridge (2016)   \n",
       "10   179817    3.856590                                Darkest Hour (2017)   \n",
       "11    98154    3.856042                                     Lincoln (2012)   \n",
       "12     1219    3.845293                                      Psycho (1960)   \n",
       "13   187541    3.818859                               Incredibles 2 (2018)   \n",
       "14    79132    3.816008                                   Inception (2010)   \n",
       "15   161582    3.815832                          Hell or High Water (2016)   \n",
       "16    88125    3.814452  Harry Potter and the Deathly Hallows: Part 2 (...   \n",
       "17   177593    3.814032   Three Billboards Outside Ebbing, Missouri (2017)   \n",
       "18    55820    3.808601                      No Country for Old Men (2007)   \n",
       "19   167746    3.805871                       The Lego Batman Movie (2017)   \n",
       "\n",
       "                                               genres  YEAR  Thriller  Horror  \\\n",
       "0         Adventure|Animation|Children|Romance|Sci-Fi  2008         0       0   \n",
       "1   Adventure|Animation|Children|Comedy|Drama|Fantasy  2015         0       0   \n",
       "2                     Animation|Drama|Fantasy|Romance  2016         0       0   \n",
       "3                  Adventure|Animation|Children|Drama  2009         0       0   \n",
       "4     Action|Adventure|Animation|Children|Comedy|IMAX  2011         0       0   \n",
       "5          Action|Adventure|Animation|Children|Comedy  2016         0       0   \n",
       "6   Action|Adventure|Animation|Children|Comedy|Fan...  2014         0       0   \n",
       "7         Adventure|Animation|Children|Comedy|Fantasy  2016         0       0   \n",
       "8                                Action|Drama|Western  2012         0       0   \n",
       "9                                           Drama|War  2016         0       0   \n",
       "10                                          Drama|War  2017         0       0   \n",
       "11                                          Drama|War  2012         0       0   \n",
       "12                                       Crime|Horror  1960         0       1   \n",
       "13                Action|Adventure|Animation|Children  2018         0       0   \n",
       "14    Action|Crime|Drama|Mystery|Sci-Fi|Thriller|IMAX  2010         1       0   \n",
       "15                                        Crime|Drama  2016         0       0   \n",
       "16        Action|Adventure|Drama|Fantasy|Mystery|IMAX  2011         0       0   \n",
       "17                                        Crime|Drama  2017         0       0   \n",
       "18                                        Crime|Drama  2007         0       0   \n",
       "19                            Action|Animation|Comedy  2017         0       0   \n",
       "\n",
       "    Action  Romance  Comedy  ...  Adventure  FilmNoir  Crime  Western  \\\n",
       "0        0        1       0  ...          1         0      0        0   \n",
       "1        0        0       1  ...          1         0      0        0   \n",
       "2        0        1       0  ...          0         0      0        0   \n",
       "3        0        0       0  ...          1         0      0        0   \n",
       "4        1        0       1  ...          1         0      0        0   \n",
       "5        1        0       1  ...          1         0      0        0   \n",
       "6        1        0       1  ...          1         0      0        0   \n",
       "7        0        0       1  ...          1         0      0        0   \n",
       "8        1        0       0  ...          0         0      0        1   \n",
       "9        0        0       0  ...          0         0      0        0   \n",
       "10       0        0       0  ...          0         0      0        0   \n",
       "11       0        0       0  ...          0         0      0        0   \n",
       "12       0        0       0  ...          0         0      1        0   \n",
       "13       1        0       0  ...          1         0      0        0   \n",
       "14       1        0       0  ...          0         0      1        0   \n",
       "15       0        0       0  ...          0         0      1        0   \n",
       "16       1        0       0  ...          1         0      0        0   \n",
       "17       0        0       0  ...          0         0      1        0   \n",
       "18       0        0       0  ...          0         0      1        0   \n",
       "19       1        0       1  ...          0         0      0        0   \n",
       "\n",
       "    Animation  Drama  War  Musical  Documentary  None  \n",
       "0           1      0    0        0            0     0  \n",
       "1           1      1    0        0            0     0  \n",
       "2           1      1    0        0            0     0  \n",
       "3           1      1    0        0            0     0  \n",
       "4           1      0    0        0            0     0  \n",
       "5           1      0    0        0            0     0  \n",
       "6           1      0    0        0            0     0  \n",
       "7           1      0    0        0            0     0  \n",
       "8           0      1    0        0            0     0  \n",
       "9           0      1    1        0            0     0  \n",
       "10          0      1    1        0            0     0  \n",
       "11          0      1    1        0            0     0  \n",
       "12          0      0    0        0            0     0  \n",
       "13          1      0    0        0            0     0  \n",
       "14          0      1    0        0            0     0  \n",
       "15          0      1    0        0            0     0  \n",
       "16          0      1    0        0            0     0  \n",
       "17          0      1    0        0            0     0  \n",
       "18          0      1    0        0            0     0  \n",
       "19          1      0    0        0            0     0  \n",
       "\n",
       "[20 rows x 24 columns]"
      ]
     },
     "execution_count": 151,
     "metadata": {},
     "output_type": "execute_result"
    }
   ],
   "source": [
    "best_movies_df"
   ]
  },
  {
   "cell_type": "code",
   "execution_count": null,
   "metadata": {
    "id": "Ce4z9gdnj52G"
   },
   "outputs": [],
   "source": []
  }
 ],
 "metadata": {
  "accelerator": "TPU",
  "colab": {
   "collapsed_sections": [
    "66ZSkT_71lLN",
    "0WmZ7m-7oy9b",
    "-zI6EJVP18aA"
   ],
   "provenance": []
  },
  "environment": {
   "kernel": "conda-root-py",
   "name": "workbench-notebooks.m111",
   "type": "gcloud",
   "uri": "gcr.io/deeplearning-platform-release/workbench-notebooks:m111"
  },
  "kernelspec": {
   "display_name": "Python 3",
   "language": "python",
   "name": "conda-root-py"
  },
  "language_info": {
   "codemirror_mode": {
    "name": "ipython",
    "version": 3
   },
   "file_extension": ".py",
   "mimetype": "text/x-python",
   "name": "python",
   "nbconvert_exporter": "python",
   "pygments_lexer": "ipython3",
   "version": "3.10.12"
  }
 },
 "nbformat": 4,
 "nbformat_minor": 4
}
