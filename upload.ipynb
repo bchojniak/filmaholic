{
 "cells": [
  {
   "cell_type": "code",
   "execution_count": 1,
   "metadata": {
    "id": "JGUgHQt5vrdv"
   },
   "outputs": [],
   "source": [
    "from google.cloud import bigquery\n",
    "from google.cloud import storage\n",
    "\n",
    "import pandas as pd\n",
    "import numpy as np\n",
    "from pathlib import Path\n",
    "import os\n",
    "import re\n",
    "import re, os, math, sklearn, datetime, pickle"
   ]
  },
  {
   "cell_type": "code",
   "execution_count": 2,
   "metadata": {
    "id": "RW_f_6C2Mr69"
   },
   "outputs": [
    {
     "name": "stderr",
     "output_type": "stream",
     "text": [
      "2023-09-14 12:39:09.733487: I tensorflow/core/platform/cpu_feature_guard.cc:182] This TensorFlow binary is optimized to use available CPU instructions in performance-critical operations.\n",
      "To enable the following instructions: AVX2 FMA, in other operations, rebuild TensorFlow with the appropriate compiler flags.\n"
     ]
    }
   ],
   "source": [
    "from tensorflow import keras\n",
    "from sklearn.svm import SVR\n",
    "from sklearn.model_selection import train_test_split, GridSearchCV\n",
    "from sklearn.preprocessing import StandardScaler\n",
    "from sklearn.pipeline import Pipeline\n",
    "from sklearn.ensemble import RandomForestRegressor\n",
    "from sklearn.metrics import classification_report\n",
    "from sklearn.utils import shuffle\n",
    "from sklearn.linear_model import LinearRegression"
   ]
  },
  {
   "cell_type": "code",
   "execution_count": 3,
   "metadata": {
    "id": "jtmjf5YESdEQ"
   },
   "outputs": [],
   "source": [
    "movies_subset = pd.read_csv('data/movies_subset.csv')\n",
    "movies_mod = pd.read_csv('data/movies_mod.csv')\n",
    "tags_subset = pd.read_csv('data/tags_subset.csv')\n",
    "ratings_subset = pd.read_csv('data/ratings_subset.csv')\n",
    "common_tags = pd.read_csv('data/common_tags.csv')\n",
    "movie_tags_df = pd.read_csv('data/final/movie_tags_df.csv')\n",
    "like_genres = pd.read_csv('data/final/like_genres.csv')\n",
    "dislike_genres = pd.read_csv('data/final/dislike_genres.csv')\n",
    "like_dislike_tags = pd.read_csv('data/final/like_dislike_tags.csv')"
   ]
  },
  {
   "cell_type": "code",
   "execution_count": 4,
   "metadata": {
    "id": "cMSsSFNJjN9U"
   },
   "outputs": [],
   "source": [
    "def upload_to_bigquery(\n",
    "    project:str,\n",
    "    dataset:str,\n",
    "    table:str,\n",
    "    df,\n",
    "    dtype=None\n",
    "    ):\n",
    "\n",
    "    t = f\"{project}.{dataset}.{table}\"\n",
    "#    df = pd.read_csv(local_path + f\"/{table}.csv\", dtype=dtype)\n",
    "\n",
    "    client = bigquery.Client()\n",
    "\n",
    "    write_mode = \"WRITE_TRUNCATE\"\n",
    "    job_config = bigquery.LoadJobConfig(write_disposition=write_mode)\n",
    "\n",
    "    job = client.load_table_from_dataframe(df, t, job_config=job_config)\n",
    "    result = job.result()"
   ]
  },
  {
   "cell_type": "code",
   "execution_count": 5,
   "metadata": {
    "colab": {
     "base_uri": "https://localhost:8080/",
     "height": 390
    },
    "id": "ruX4MJOnjmOK",
    "outputId": "c58de4d0-571f-4159-d139-e864bf731607"
   },
   "outputs": [],
   "source": [
    "upload_to_bigquery('filmaholic-398017', 'filmaholic_extended_dataset', 'movies_subset', movies_subset)\n",
    "upload_to_bigquery('filmaholic-398017', 'filmaholic_extended_dataset', 'movies_mod', movies_mod)\n",
    "upload_to_bigquery('filmaholic-398017', 'filmaholic_extended_dataset', 'tags_subset', tags_subset)\n",
    "upload_to_bigquery('filmaholic-398017', 'filmaholic_extended_dataset', 'ratings_subset', ratings_subset)\n",
    "upload_to_bigquery('filmaholic-398017', 'filmaholic_extended_dataset', 'common_tags', common_tags)\n",
    "upload_to_bigquery('filmaholic-398017', 'filmaholic_extended_dataset', 'movie_tags_df', movie_tags_df)\n",
    "upload_to_bigquery('filmaholic-398017', 'filmaholic_extended_dataset', 'like_genres', like_genres)\n",
    "upload_to_bigquery('filmaholic-398017', 'filmaholic_extended_dataset', 'dislike_genres', dislike_genres)\n",
    "upload_to_bigquery('filmaholic-398017', 'filmaholic_extended_dataset', 'like_dislike_tags', like_dislike_tags)"
   ]
  },
  {
   "cell_type": "code",
   "execution_count": null,
   "metadata": {},
   "outputs": [],
   "source": [
    "# file = keras.models.load_model(f'{file_name_local}.h5', compile=True)\n",
    "# file = pickle.load(open(f'{file_name_local}.sav', 'rb'))\n",
    "# with open(f'{file_name_local}.pkl', 'rb') as reader:\n",
    "#     file = pickle.load(reader)"
   ]
  },
  {
   "cell_type": "code",
   "execution_count": null,
   "metadata": {
    "id": "ePGTwE4-UqZW"
   },
   "outputs": [],
   "source": [
    "# def upload_to_cloud_platform(\n",
    "#     bucket:str,\n",
    "#     content,\n",
    "#     file_name_cloud:str,\n",
    "#     dtype=None\n",
    "#     ):\n",
    "\n",
    "#     client = storage.Client()\n",
    "#     bucket = client.bucket(bucket)\n",
    "#     blob = bucket.blob(file_name_cloud)\n",
    "#     blob.upload_from_string(content)"
   ]
  }
 ],
 "metadata": {
  "colab": {
   "provenance": []
  },
  "environment": {
   "kernel": "conda-root-py",
   "name": "workbench-notebooks.m111",
   "type": "gcloud",
   "uri": "gcr.io/deeplearning-platform-release/workbench-notebooks:m111"
  },
  "kernelspec": {
   "display_name": "filmaholic",
   "language": "python",
   "name": "python3"
  },
  "language_info": {
   "codemirror_mode": {
    "name": "ipython",
    "version": 3
   },
   "file_extension": ".py",
   "mimetype": "text/x-python",
   "name": "python",
   "nbconvert_exporter": "python",
   "pygments_lexer": "ipython3",
   "version": "3.10.6"
  }
 },
 "nbformat": 4,
 "nbformat_minor": 4
}
