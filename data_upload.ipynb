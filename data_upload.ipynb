{
 "cells": [
  {
   "cell_type": "code",
   "execution_count": 11,
   "metadata": {},
   "outputs": [],
   "source": [
    "from google.cloud import bigquery\n",
    "import pandas as pd"
   ]
  },
  {
   "cell_type": "code",
   "execution_count": 13,
   "metadata": {},
   "outputs": [],
   "source": [
    "PROJECT = \"filmaholic-398017\"\n",
    "DATASET = \"filmaholic\"\n",
    "TABLES = [\"genome-scores\", \"genome-tags\", \"links\", \"movies\", \"ratings\", \"tags\"]\n",
    "\n",
    "for table in TABLES:\n",
    "    t = f\"{PROJECT}.{DATASET}.raw-{table}\"\n",
    "    df = pd.read_csv(f\"raw_data/{table}.csv\", dtype=\"string\")\n",
    "    \n",
    "    client = bigquery.Client()\n",
    "    \n",
    "    write_mode = \"WRITE_TRUNCATE\"\n",
    "    job_config = bigquery.LoadJobConfig(write_disposition=write_mode)\n",
    "    \n",
    "    job = client.load_table_from_dataframe(df, t, job_config=job_config)\n",
    "    result = job.result()"
   ]
  },
  {
   "cell_type": "code",
   "execution_count": 14,
   "metadata": {},
   "outputs": [
    {
     "data": {
      "text/plain": [
       "userId       string\n",
       "movieId      string\n",
       "tag          string\n",
       "timestamp    string\n",
       "dtype: object"
      ]
     },
     "execution_count": 14,
     "metadata": {},
     "output_type": "execute_result"
    }
   ],
   "source": [
    "df.dtypes"
   ]
  },
  {
   "cell_type": "code",
   "execution_count": null,
   "metadata": {},
   "outputs": [],
   "source": []
  }
 ],
 "metadata": {
  "kernelspec": {
   "display_name": "filmaholic",
   "language": "python",
   "name": "python3"
  },
  "language_info": {
   "codemirror_mode": {
    "name": "ipython",
    "version": 3
   },
   "file_extension": ".py",
   "mimetype": "text/x-python",
   "name": "python",
   "nbconvert_exporter": "python",
   "pygments_lexer": "ipython3",
   "version": "3.10.6"
  },
  "orig_nbformat": 4
 },
 "nbformat": 4,
 "nbformat_minor": 2
}
