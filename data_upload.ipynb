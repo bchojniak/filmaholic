{
 "cells": [
  {
   "cell_type": "code",
   "execution_count": 3,
   "metadata": {},
   "outputs": [
    {
     "ename": "ValueError",
     "evalue": "table_id must be a fully-qualified ID in standard SQL format, e.g., \"project.dataset.table_id\", got filmaholic-398017.filmaholic.filmaholic-398017.filmaholic.raw-genome-scores",
     "output_type": "error",
     "traceback": [
      "\u001b[0;31m---------------------------------------------------------------------------\u001b[0m",
      "\u001b[0;31mValueError\u001b[0m                                Traceback (most recent call last)",
      "Cell \u001b[0;32mIn[3], line 17\u001b[0m\n\u001b[1;32m     14\u001b[0m write_mode \u001b[39m=\u001b[39m \u001b[39m\"\u001b[39m\u001b[39mWRITE_TRUNCATE\u001b[39m\u001b[39m\"\u001b[39m\n\u001b[1;32m     15\u001b[0m job_config \u001b[39m=\u001b[39m bigquery\u001b[39m.\u001b[39mLoadJobConfig(write_disposition\u001b[39m=\u001b[39mwrite_mode)\n\u001b[0;32m---> 17\u001b[0m job \u001b[39m=\u001b[39m client\u001b[39m.\u001b[39;49mload_table_from_dataframe(df, table, job_config\u001b[39m=\u001b[39;49mjob_config)\n\u001b[1;32m     18\u001b[0m result \u001b[39m=\u001b[39m job\u001b[39m.\u001b[39mresult()\n",
      "File \u001b[0;32m~/.pyenv/versions/3.10.6/envs/filmaholic/lib/python3.10/site-packages/google/cloud/bigquery/client.py:2734\u001b[0m, in \u001b[0;36mClient.load_table_from_dataframe\u001b[0;34m(self, dataframe, destination, num_retries, job_id, job_id_prefix, location, project, job_config, parquet_compression, timeout)\u001b[0m\n\u001b[1;32m   2732\u001b[0m     \u001b[39mwith\u001b[39;00m \u001b[39mopen\u001b[39m(tmppath, \u001b[39m\"\u001b[39m\u001b[39mrb\u001b[39m\u001b[39m\"\u001b[39m) \u001b[39mas\u001b[39;00m tmpfile:\n\u001b[1;32m   2733\u001b[0m         file_size \u001b[39m=\u001b[39m os\u001b[39m.\u001b[39mpath\u001b[39m.\u001b[39mgetsize(tmppath)\n\u001b[0;32m-> 2734\u001b[0m         \u001b[39mreturn\u001b[39;00m \u001b[39mself\u001b[39;49m\u001b[39m.\u001b[39;49mload_table_from_file(\n\u001b[1;32m   2735\u001b[0m             tmpfile,\n\u001b[1;32m   2736\u001b[0m             destination,\n\u001b[1;32m   2737\u001b[0m             num_retries\u001b[39m=\u001b[39;49mnum_retries,\n\u001b[1;32m   2738\u001b[0m             rewind\u001b[39m=\u001b[39;49m\u001b[39mTrue\u001b[39;49;00m,\n\u001b[1;32m   2739\u001b[0m             size\u001b[39m=\u001b[39;49mfile_size,\n\u001b[1;32m   2740\u001b[0m             job_id\u001b[39m=\u001b[39;49mjob_id,\n\u001b[1;32m   2741\u001b[0m             job_id_prefix\u001b[39m=\u001b[39;49mjob_id_prefix,\n\u001b[1;32m   2742\u001b[0m             location\u001b[39m=\u001b[39;49mlocation,\n\u001b[1;32m   2743\u001b[0m             project\u001b[39m=\u001b[39;49mproject,\n\u001b[1;32m   2744\u001b[0m             job_config\u001b[39m=\u001b[39;49mnew_job_config,\n\u001b[1;32m   2745\u001b[0m             timeout\u001b[39m=\u001b[39;49mtimeout,\n\u001b[1;32m   2746\u001b[0m         )\n\u001b[1;32m   2748\u001b[0m \u001b[39mfinally\u001b[39;00m:\n\u001b[1;32m   2749\u001b[0m     os\u001b[39m.\u001b[39mremove(tmppath)\n",
      "File \u001b[0;32m~/.pyenv/versions/3.10.6/envs/filmaholic/lib/python3.10/site-packages/google/cloud/bigquery/client.py:2462\u001b[0m, in \u001b[0;36mClient.load_table_from_file\u001b[0;34m(self, file_obj, destination, rewind, size, num_retries, job_id, job_id_prefix, location, project, job_config, timeout)\u001b[0m\n\u001b[1;32m   2459\u001b[0m \u001b[39mif\u001b[39;00m location \u001b[39mis\u001b[39;00m \u001b[39mNone\u001b[39;00m:\n\u001b[1;32m   2460\u001b[0m     location \u001b[39m=\u001b[39m \u001b[39mself\u001b[39m\u001b[39m.\u001b[39mlocation\n\u001b[0;32m-> 2462\u001b[0m destination \u001b[39m=\u001b[39m _table_arg_to_table_ref(destination, default_project\u001b[39m=\u001b[39;49m\u001b[39mself\u001b[39;49m\u001b[39m.\u001b[39;49mproject)\n\u001b[1;32m   2463\u001b[0m job_ref \u001b[39m=\u001b[39m job\u001b[39m.\u001b[39m_JobReference(job_id, project\u001b[39m=\u001b[39mproject, location\u001b[39m=\u001b[39mlocation)\n\u001b[1;32m   2465\u001b[0m \u001b[39mif\u001b[39;00m job_config \u001b[39mis\u001b[39;00m \u001b[39mnot\u001b[39;00m \u001b[39mNone\u001b[39;00m:\n",
      "File \u001b[0;32m~/.pyenv/versions/3.10.6/envs/filmaholic/lib/python3.10/site-packages/google/cloud/bigquery/table.py:2939\u001b[0m, in \u001b[0;36m_table_arg_to_table_ref\u001b[0;34m(value, default_project)\u001b[0m\n\u001b[1;32m   2934\u001b[0m \u001b[39m\u001b[39m\u001b[39m\"\"\"Helper to convert a string or Table to TableReference.\u001b[39;00m\n\u001b[1;32m   2935\u001b[0m \n\u001b[1;32m   2936\u001b[0m \u001b[39mThis function keeps TableReference and other kinds of objects unchanged.\u001b[39;00m\n\u001b[1;32m   2937\u001b[0m \u001b[39m\"\"\"\u001b[39;00m\n\u001b[1;32m   2938\u001b[0m \u001b[39mif\u001b[39;00m \u001b[39misinstance\u001b[39m(value, \u001b[39mstr\u001b[39m):\n\u001b[0;32m-> 2939\u001b[0m     value \u001b[39m=\u001b[39m TableReference\u001b[39m.\u001b[39;49mfrom_string(value, default_project\u001b[39m=\u001b[39;49mdefault_project)\n\u001b[1;32m   2940\u001b[0m \u001b[39mif\u001b[39;00m \u001b[39misinstance\u001b[39m(value, (Table, TableListItem)):\n\u001b[1;32m   2941\u001b[0m     value \u001b[39m=\u001b[39m value\u001b[39m.\u001b[39mreference\n",
      "File \u001b[0;32m~/.pyenv/versions/3.10.6/envs/filmaholic/lib/python3.10/site-packages/google/cloud/bigquery/table.py:262\u001b[0m, in \u001b[0;36mTableReference.from_string\u001b[0;34m(cls, table_id, default_project)\u001b[0m\n\u001b[1;32m    233\u001b[0m \u001b[39m\u001b[39m\u001b[39m\"\"\"Construct a table reference from table ID string.\u001b[39;00m\n\u001b[1;32m    234\u001b[0m \n\u001b[1;32m    235\u001b[0m \u001b[39mArgs:\u001b[39;00m\n\u001b[0;32m   (...)\u001b[0m\n\u001b[1;32m    254\u001b[0m \u001b[39m        standard SQL format.\u001b[39;00m\n\u001b[1;32m    255\u001b[0m \u001b[39m\"\"\"\u001b[39;00m\n\u001b[1;32m    256\u001b[0m \u001b[39mfrom\u001b[39;00m \u001b[39mgoogle\u001b[39;00m\u001b[39m.\u001b[39;00m\u001b[39mcloud\u001b[39;00m\u001b[39m.\u001b[39;00m\u001b[39mbigquery\u001b[39;00m\u001b[39m.\u001b[39;00m\u001b[39mdataset\u001b[39;00m \u001b[39mimport\u001b[39;00m DatasetReference\n\u001b[1;32m    258\u001b[0m (\n\u001b[1;32m    259\u001b[0m     output_project_id,\n\u001b[1;32m    260\u001b[0m     output_dataset_id,\n\u001b[1;32m    261\u001b[0m     output_table_id,\n\u001b[0;32m--> 262\u001b[0m ) \u001b[39m=\u001b[39m _helpers\u001b[39m.\u001b[39;49m_parse_3_part_id(\n\u001b[1;32m    263\u001b[0m     table_id, default_project\u001b[39m=\u001b[39;49mdefault_project, property_name\u001b[39m=\u001b[39;49m\u001b[39m\"\u001b[39;49m\u001b[39mtable_id\u001b[39;49m\u001b[39m\"\u001b[39;49m\n\u001b[1;32m    264\u001b[0m )\n\u001b[1;32m    266\u001b[0m \u001b[39mreturn\u001b[39;00m \u001b[39mcls\u001b[39m(\n\u001b[1;32m    267\u001b[0m     DatasetReference(output_project_id, output_dataset_id), output_table_id\n\u001b[1;32m    268\u001b[0m )\n",
      "File \u001b[0;32m~/.pyenv/versions/3.10.6/envs/filmaholic/lib/python3.10/site-packages/google/cloud/bigquery/_helpers.py:899\u001b[0m, in \u001b[0;36m_parse_3_part_id\u001b[0;34m(full_id, default_project, property_name)\u001b[0m\n\u001b[1;32m    896\u001b[0m parts \u001b[39m=\u001b[39m _split_id(full_id)\n\u001b[1;32m    898\u001b[0m \u001b[39mif\u001b[39;00m \u001b[39mlen\u001b[39m(parts) \u001b[39m!=\u001b[39m \u001b[39m2\u001b[39m \u001b[39mand\u001b[39;00m \u001b[39mlen\u001b[39m(parts) \u001b[39m!=\u001b[39m \u001b[39m3\u001b[39m:\n\u001b[0;32m--> 899\u001b[0m     \u001b[39mraise\u001b[39;00m \u001b[39mValueError\u001b[39;00m(\n\u001b[1;32m    900\u001b[0m         \u001b[39m\"\u001b[39m\u001b[39m{property_name}\u001b[39;00m\u001b[39m must be a fully-qualified ID in \u001b[39m\u001b[39m\"\u001b[39m\n\u001b[1;32m    901\u001b[0m         \u001b[39m'\u001b[39m\u001b[39mstandard SQL format, e.g., \u001b[39m\u001b[39m\"\u001b[39m\u001b[39mproject.dataset.\u001b[39m\u001b[39m{property_name}\u001b[39;00m\u001b[39m\"\u001b[39m\u001b[39m, \u001b[39m\u001b[39m'\u001b[39m\n\u001b[1;32m    902\u001b[0m         \u001b[39m\"\u001b[39m\u001b[39mgot \u001b[39m\u001b[39m{}\u001b[39;00m\u001b[39m\"\u001b[39m\u001b[39m.\u001b[39mformat(full_id, property_name\u001b[39m=\u001b[39mproperty_name)\n\u001b[1;32m    903\u001b[0m     )\n\u001b[1;32m    905\u001b[0m \u001b[39mif\u001b[39;00m \u001b[39mlen\u001b[39m(parts) \u001b[39m==\u001b[39m \u001b[39m2\u001b[39m \u001b[39mand\u001b[39;00m \u001b[39mnot\u001b[39;00m default_project:\n\u001b[1;32m    906\u001b[0m     \u001b[39mraise\u001b[39;00m \u001b[39mValueError\u001b[39;00m(\n\u001b[1;32m    907\u001b[0m         \u001b[39m\"\u001b[39m\u001b[39mWhen default_project is not set, \u001b[39m\u001b[39m{property_name}\u001b[39;00m\u001b[39m must be a \u001b[39m\u001b[39m\"\u001b[39m\n\u001b[1;32m    908\u001b[0m         \u001b[39m\"\u001b[39m\u001b[39mfully-qualified ID in standard SQL format, \u001b[39m\u001b[39m\"\u001b[39m\n\u001b[0;32m   (...)\u001b[0m\n\u001b[1;32m    911\u001b[0m         )\n\u001b[1;32m    912\u001b[0m     )\n",
      "\u001b[0;31mValueError\u001b[0m: table_id must be a fully-qualified ID in standard SQL format, e.g., \"project.dataset.table_id\", got filmaholic-398017.filmaholic.filmaholic-398017.filmaholic.raw-genome-scores"
     ]
    }
   ],
   "source": [
    "from google.cloud import bigquery\n",
    "import pandas as pd\n",
    "\n",
    "PROJECT = \"filmaholic-398017\"\n",
    "DATASET = \"filmaholic\"\n",
    "TABLES = [\"raw-genome-scores\", \"raw-genome-tags\", \"raw-links\", \"raw-movies\", \"raw-ratings\", \"raw-tags\"]\n",
    "\n",
    "for table in TABLES:\n",
    "    t = f\"{PROJECT}.{DATASET}.{table}\"\n",
    "    df = pd.read_csv(f\"raw_data/{table}.csv\", dtype=\"str\")\n",
    "    \n",
    "    client = bigquery.Client()\n",
    "    \n",
    "    write_mode = \"WRITE_TRUNCATE\"\n",
    "    job_config = bigquery.LoadJobConfig(write_disposition=write_mode)\n",
    "    \n",
    "    job = client.load_table_from_dataframe(df, t, job_config=job_config)\n",
    "    result = job.result()"
   ]
  },
  {
   "cell_type": "code",
   "execution_count": null,
   "metadata": {},
   "outputs": [],
   "source": []
  }
 ],
 "metadata": {
  "kernelspec": {
   "display_name": "filmaholic",
   "language": "python",
   "name": "python3"
  },
  "language_info": {
   "codemirror_mode": {
    "name": "ipython",
    "version": 3
   },
   "file_extension": ".py",
   "mimetype": "text/x-python",
   "name": "python",
   "nbconvert_exporter": "python",
   "pygments_lexer": "ipython3",
   "version": "3.10.6"
  },
  "orig_nbformat": 4
 },
 "nbformat": 4,
 "nbformat_minor": 2
}
