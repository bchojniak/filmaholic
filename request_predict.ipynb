{
 "cells": [
  {
   "cell_type": "code",
   "execution_count": 1,
   "metadata": {},
   "outputs": [
    {
     "name": "stderr",
     "output_type": "stream",
     "text": [
      "2023-09-14 16:37:32.827344: I tensorflow/core/util/port.cc:110] oneDNN custom operations are on. You may see slightly different numerical results due to floating-point round-off errors from different computation orders. To turn them off, set the environment variable `TF_ENABLE_ONEDNN_OPTS=0`.\n",
      "2023-09-14 16:37:32.854310: I tensorflow/tsl/cuda/cudart_stub.cc:28] Could not find cuda drivers on your machine, GPU will not be used.\n",
      "2023-09-14 16:37:33.126592: I tensorflow/tsl/cuda/cudart_stub.cc:28] Could not find cuda drivers on your machine, GPU will not be used.\n",
      "2023-09-14 16:37:33.129265: I tensorflow/core/platform/cpu_feature_guard.cc:182] This TensorFlow binary is optimized to use available CPU instructions in performance-critical operations.\n",
      "To enable the following instructions: AVX2 AVX512F AVX512_VNNI FMA, in other operations, rebuild TensorFlow with the appropriate compiler flags.\n",
      "2023-09-14 16:37:35.046744: W tensorflow/compiler/tf2tensorrt/utils/py_utils.cc:38] TF-TRT Warning: Could not find TensorRT\n"
     ]
    }
   ],
   "source": [
    "import requests\n",
    "from filmaholic.ml_logic.preprocessor import preprocess_genres, preprocess_tags, title_to_id\n",
    "from filmaholic.ml_logic.model import top_10_recommendations\n",
    "import pandas as pd"
   ]
  },
  {
   "cell_type": "code",
   "execution_count": 2,
   "metadata": {},
   "outputs": [],
   "source": [
    "l = ['Toy Story (1995)', 'Jumanji (1995)', 'Heat (1995)', 'GoldenEye (1995)','Casino (1995)','Ace Ventura: When Nature Calls (1995)']\n",
    "d = ['Get Shorty (1995)','Leaving Las Vegas (1995)','Twelve Monkeys (a.k.a. 12 Monkeys) (1995)','Babe (1995)','Clueless (1995)','Seven (a.k.a. Se7en) (1995)']"
   ]
  },
  {
   "cell_type": "code",
   "execution_count": 13,
   "metadata": {},
   "outputs": [
    {
     "data": {
      "text/plain": [
       "<Response [200]>"
      ]
     },
     "execution_count": 13,
     "metadata": {},
     "output_type": "execute_result"
    }
   ],
   "source": [
    "url = 'https://filmaholic-api-cogu3u3naq-uc.a.run.app/predict'\n",
    "\n",
    "params = {\n",
    "    'liked_movies': l,  \n",
    "    'disliked_movies': d\n",
    "}\n",
    "\n",
    "response = requests.post(url, json=params)\n",
    "response"
   ]
  },
  {
   "cell_type": "code",
   "execution_count": 14,
   "metadata": {},
   "outputs": [
    {
     "data": {
      "text/plain": [
       "{'0': 'Pulp Fiction (1994)',\n",
       " '1': 'Rear Window (1954)',\n",
       " '2': 'Casablanca (1942)',\n",
       " '3': 'Godfather, The (1972)',\n",
       " '4': 'Catch Me If You Can (2002)',\n",
       " '5': 'Dr. Strangelove or: How I Learned to Stop Worrying and Love the Bomb (1964)',\n",
       " '6': 'Shawshank Redemption, The (1994)',\n",
       " '7': 'Matrix, The (1999)',\n",
       " '8': 'Goodfellas (1990)',\n",
       " '9': 'Silence of the Lambs, The (1991)',\n",
       " '10': 'This Is Spinal Tap (1984)',\n",
       " '11': 'Fight Club (1999)',\n",
       " '12': 'Alien (1979)',\n",
       " '13': '12 Angry Men (1957)',\n",
       " '14': 'Up (2009)',\n",
       " '15': 'Lord of the Rings: The Fellowship of the Ring, The (2001)',\n",
       " '16': 'Raising Arizona (1987)',\n",
       " '17': 'Good Will Hunting (1997)',\n",
       " '18': 'To Kill a Mockingbird (1962)',\n",
       " '19': '2001: A Space Odyssey (1968)'}"
      ]
     },
     "execution_count": 14,
     "metadata": {},
     "output_type": "execute_result"
    }
   ],
   "source": [
    "recommendations = response.json()\n",
    "recommendations['Suggested Movies']['title']"
   ]
  },
  {
   "cell_type": "code",
   "execution_count": 15,
   "metadata": {},
   "outputs": [],
   "source": [
    "def predict(liked_movies, disliked_movies):\n",
    "\n",
    "    # model = app.state.model\n",
    "    # assert model is not None\n",
    "\n",
    "    like_genres, dislike_genres = preprocess_genres(liked_movies, disliked_movies)\n",
    "    like_dislike_tags = preprocess_tags(liked_movies, disliked_movies)\n",
    "\n",
    "    predictions, best_movies, worst_movies = top_10_recommendations(liked_movies, disliked_movies, like_genres, dislike_genres, like_dislike_tags)\n",
    "\n",
    "    return {'Suggested Movies': best_movies}"
   ]
  },
  {
   "cell_type": "code",
   "execution_count": 16,
   "metadata": {},
   "outputs": [
    {
     "name": "stderr",
     "output_type": "stream",
     "text": [
      "/home/bmcho/.pyenv/versions/3.10.6/envs/filmaholic/lib/python3.10/site-packages/sklearn/base.py:299: UserWarning: Trying to unpickle estimator DecisionTreeRegressor from version 1.2.2 when using version 1.2.1. This might lead to breaking code or invalid results. Use at your own risk. For more info please refer to:\n",
      "https://scikit-learn.org/stable/model_persistence.html#security-maintainability-limitations\n",
      "  warnings.warn(\n",
      "/home/bmcho/.pyenv/versions/3.10.6/envs/filmaholic/lib/python3.10/site-packages/sklearn/base.py:299: UserWarning: Trying to unpickle estimator RandomForestRegressor from version 1.2.2 when using version 1.2.1. This might lead to breaking code or invalid results. Use at your own risk. For more info please refer to:\n",
      "https://scikit-learn.org/stable/model_persistence.html#security-maintainability-limitations\n",
      "  warnings.warn(\n",
      "/home/bmcho/.pyenv/versions/3.10.6/envs/filmaholic/lib/python3.10/site-packages/sklearn/base.py:299: UserWarning: Trying to unpickle estimator LinearRegression from version 1.2.2 when using version 1.2.1. This might lead to breaking code or invalid results. Use at your own risk. For more info please refer to:\n",
      "https://scikit-learn.org/stable/model_persistence.html#security-maintainability-limitations\n",
      "  warnings.warn(\n"
     ]
    },
    {
     "name": "stdout",
     "output_type": "stream",
     "text": [
      "16/16 [==============================] - 1s 7ms/step\n"
     ]
    },
    {
     "name": "stderr",
     "output_type": "stream",
     "text": [
      "[Parallel(n_jobs=8)]: Using backend ThreadingBackend with 8 concurrent workers.\n",
      "[Parallel(n_jobs=8)]: Done  25 tasks      | elapsed:    0.0s\n",
      "[Parallel(n_jobs=8)]: Done 100 out of 100 | elapsed:    0.1s finished\n"
     ]
    },
    {
     "data": {
      "text/plain": [
       "{'Suggested Movies':     movieId  prediction                                              title  \\\n",
       " 0       296    4.016259                                Pulp Fiction (1994)   \n",
       " 1       904    4.005311                                 Rear Window (1954)   \n",
       " 2       912    3.999837                                  Casablanca (1942)   \n",
       " 3       858    3.992538                              Godfather, The (1972)   \n",
       " 4      5989    3.981590                         Catch Me If You Can (2002)   \n",
       " 5       750    3.974291  Dr. Strangelove or: How I Learned to Stop Worr...   \n",
       " 6       318    3.968817                   Shawshank Redemption, The (1994)   \n",
       " 7      2571    3.963343                                 Matrix, The (1999)   \n",
       " 8      1213    3.954219                                  Goodfellas (1990)   \n",
       " 9       593    3.950570                   Silence of the Lambs, The (1991)   \n",
       " 10     1288    3.946920                          This Is Spinal Tap (1984)   \n",
       " 11     2959    3.943271                                  Fight Club (1999)   \n",
       " 12     1214    3.936884                                       Alien (1979)   \n",
       " 13     1203    3.932323                                12 Angry Men (1957)   \n",
       " 14    68954    3.930498                                          Up (2009)   \n",
       " 15     4993    3.928673  Lord of the Rings: The Fellowship of the Ring,...   \n",
       " 16     1394    3.926849                             Raising Arizona (1987)   \n",
       " 17     1704    3.920158                           Good Will Hunting (1997)   \n",
       " 18     1207    3.919550                       To Kill a Mockingbird (1962)   \n",
       " 19      924    3.915900                       2001: A Space Odyssey (1968)   \n",
       " \n",
       "                                 genres  YEAR  Documentary  Romance  Musical  \\\n",
       " 0          Comedy|Crime|Drama|Thriller  1994            0        0        0   \n",
       " 1                     Mystery|Thriller  1954            0        0        0   \n",
       " 2                        Drama|Romance  1942            0        1        0   \n",
       " 3                          Crime|Drama  1972            0        0        0   \n",
       " 4                          Crime|Drama  2002            0        0        0   \n",
       " 5                           Comedy|War  1964            0        0        0   \n",
       " 6                          Crime|Drama  1994            0        0        0   \n",
       " 7               Action|Sci-Fi|Thriller  1999            0        0        0   \n",
       " 8                          Crime|Drama  1990            0        0        0   \n",
       " 9                Crime|Horror|Thriller  1991            0        0        0   \n",
       " 10                              Comedy  1984            0        0        0   \n",
       " 11         Action|Crime|Drama|Thriller  1999            0        0        0   \n",
       " 12                       Horror|Sci-Fi  1979            0        0        0   \n",
       " 13                               Drama  1957            0        0        0   \n",
       " 14  Adventure|Animation|Children|Drama  2009            0        0        0   \n",
       " 15                   Adventure|Fantasy  2001            0        0        0   \n",
       " 16                              Comedy  1987            0        0        0   \n",
       " 17                       Drama|Romance  1997            0        1        0   \n",
       " 18                               Drama  1962            0        0        0   \n",
       " 19              Adventure|Drama|Sci-Fi  1968            0        0        0   \n",
       " \n",
       "     War  Action  ...  Crime  Mystery  SciFi  Children  Adventure  Drama  \\\n",
       " 0     0       0  ...      1        0      0         0          0      1   \n",
       " 1     0       0  ...      0        1      0         0          0      0   \n",
       " 2     0       0  ...      0        0      0         0          0      1   \n",
       " 3     0       0  ...      1        0      0         0          0      1   \n",
       " 4     0       0  ...      1        0      0         0          0      1   \n",
       " 5     1       0  ...      0        0      0         0          0      0   \n",
       " 6     0       0  ...      1        0      0         0          0      1   \n",
       " 7     0       1  ...      0        0      1         0          0      0   \n",
       " 8     0       0  ...      1        0      0         0          0      1   \n",
       " 9     0       0  ...      1        0      0         0          0      0   \n",
       " 10    0       0  ...      0        0      0         0          0      0   \n",
       " 11    0       1  ...      1        0      0         0          0      1   \n",
       " 12    0       0  ...      0        0      1         0          0      0   \n",
       " 13    0       0  ...      0        0      0         0          0      1   \n",
       " 14    0       0  ...      0        0      0         1          1      1   \n",
       " 15    0       0  ...      0        0      0         0          1      0   \n",
       " 16    0       0  ...      0        0      0         0          0      0   \n",
       " 17    0       0  ...      0        0      0         0          0      1   \n",
       " 18    0       0  ...      0        0      0         0          0      1   \n",
       " 19    0       0  ...      0        0      1         0          1      1   \n",
       " \n",
       "     FilmNoir  Fantasy  Western  None  \n",
       " 0          0        0        0     0  \n",
       " 1          0        0        0     0  \n",
       " 2          0        0        0     0  \n",
       " 3          0        0        0     0  \n",
       " 4          0        0        0     0  \n",
       " 5          0        0        0     0  \n",
       " 6          0        0        0     0  \n",
       " 7          0        0        0     0  \n",
       " 8          0        0        0     0  \n",
       " 9          0        0        0     0  \n",
       " 10         0        0        0     0  \n",
       " 11         0        0        0     0  \n",
       " 12         0        0        0     0  \n",
       " 13         0        0        0     0  \n",
       " 14         0        0        0     0  \n",
       " 15         0        1        0     0  \n",
       " 16         0        0        0     0  \n",
       " 17         0        0        0     0  \n",
       " 18         0        0        0     0  \n",
       " 19         0        0        0     0  \n",
       " \n",
       " [20 rows x 24 columns]}"
      ]
     },
     "execution_count": 16,
     "metadata": {},
     "output_type": "execute_result"
    }
   ],
   "source": [
    "predict(l, d)"
   ]
  },
  {
   "cell_type": "code",
   "execution_count": null,
   "metadata": {},
   "outputs": [],
   "source": [
    "preprocess_genres(l, d)"
   ]
  }
 ],
 "metadata": {
  "kernelspec": {
   "display_name": "filmaholic",
   "language": "python",
   "name": "python3"
  },
  "language_info": {
   "codemirror_mode": {
    "name": "ipython",
    "version": 3
   },
   "file_extension": ".py",
   "mimetype": "text/x-python",
   "name": "python",
   "nbconvert_exporter": "python",
   "pygments_lexer": "ipython3",
   "version": "3.10.6"
  },
  "orig_nbformat": 4
 },
 "nbformat": 4,
 "nbformat_minor": 2
}
