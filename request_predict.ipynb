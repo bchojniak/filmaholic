{
 "cells": [
  {
   "cell_type": "code",
   "execution_count": 1,
   "metadata": {},
   "outputs": [
    {
     "name": "stderr",
     "output_type": "stream",
     "text": [
      "2023-09-16 19:45:10.000892: I tensorflow/core/util/port.cc:110] oneDNN custom operations are on. You may see slightly different numerical results due to floating-point round-off errors from different computation orders. To turn them off, set the environment variable `TF_ENABLE_ONEDNN_OPTS=0`.\n",
      "2023-09-16 19:45:10.078019: I tensorflow/tsl/cuda/cudart_stub.cc:28] Could not find cuda drivers on your machine, GPU will not be used.\n",
      "2023-09-16 19:45:10.350938: I tensorflow/tsl/cuda/cudart_stub.cc:28] Could not find cuda drivers on your machine, GPU will not be used.\n",
      "2023-09-16 19:45:10.354669: I tensorflow/core/platform/cpu_feature_guard.cc:182] This TensorFlow binary is optimized to use available CPU instructions in performance-critical operations.\n",
      "To enable the following instructions: AVX2 AVX512F AVX512_VNNI FMA, in other operations, rebuild TensorFlow with the appropriate compiler flags.\n",
      "2023-09-16 19:45:13.033197: W tensorflow/compiler/tf2tensorrt/utils/py_utils.cc:38] TF-TRT Warning: Could not find TensorRT\n"
     ]
    }
   ],
   "source": [
    "import requests\n",
    "from filmaholic.ml_logic.preprocessor import preprocess_genres, preprocess_tags, title_to_id\n",
    "from filmaholic.ml_logic.model import top_10_recommendations\n",
    "from filmaholic.params import *\n",
    "import pandas as pd"
   ]
  },
  {
   "cell_type": "code",
   "execution_count": 2,
   "metadata": {},
   "outputs": [],
   "source": [
    "l = ['Interstellar (2014)', 'Jumanji (1995)', 'Heat (1995)', 'GoldenEye (1995)','Casino (1995)','Ace Ventura: When Nature Calls (1995)']\n",
    "d = ['Get Shorty (1995)','Leaving Las Vegas (1995)','Twelve Monkeys (a.k.a. 12 Monkeys) (1995)','Babe (1995)','Clueless (1995)','Seven (a.k.a. Se7en) (1995)']"
   ]
  },
  {
   "cell_type": "code",
   "execution_count": 25,
   "metadata": {},
   "outputs": [],
   "source": [
    "# url = 'https://filmaholic-api-filmaholic-extended-dataset-cogu3u3naq-uc.a.run.app/predict'\n",
    "url = \"http://localhost:8080/predict\"\n",
    "\n",
    "params = {\n",
    "    'liked_movies': l,  \n",
    "    'disliked_movies': d\n",
    "}\n",
    "\n",
    "response = requests.post(url, json=params)"
   ]
  },
  {
   "cell_type": "code",
   "execution_count": 12,
   "metadata": {},
   "outputs": [
    {
     "ename": "JSONDecodeError",
     "evalue": "Expecting value: line 1 column 1 (char 0)",
     "output_type": "error",
     "traceback": [
      "\u001b[0;31m---------------------------------------------------------------------------\u001b[0m",
      "\u001b[0;31mJSONDecodeError\u001b[0m                           Traceback (most recent call last)",
      "File \u001b[0;32m~/.pyenv/versions/3.10.6/envs/filmaholic/lib/python3.10/site-packages/requests/models.py:971\u001b[0m, in \u001b[0;36mResponse.json\u001b[0;34m(self, **kwargs)\u001b[0m\n\u001b[1;32m    970\u001b[0m \u001b[39mtry\u001b[39;00m:\n\u001b[0;32m--> 971\u001b[0m     \u001b[39mreturn\u001b[39;00m complexjson\u001b[39m.\u001b[39;49mloads(\u001b[39mself\u001b[39;49m\u001b[39m.\u001b[39;49mtext, \u001b[39m*\u001b[39;49m\u001b[39m*\u001b[39;49mkwargs)\n\u001b[1;32m    972\u001b[0m \u001b[39mexcept\u001b[39;00m JSONDecodeError \u001b[39mas\u001b[39;00m e:\n\u001b[1;32m    973\u001b[0m     \u001b[39m# Catch JSON-related errors and raise as requests.JSONDecodeError\u001b[39;00m\n\u001b[1;32m    974\u001b[0m     \u001b[39m# This aliases json.JSONDecodeError and simplejson.JSONDecodeError\u001b[39;00m\n",
      "File \u001b[0;32m~/.pyenv/versions/3.10.6/lib/python3.10/json/__init__.py:346\u001b[0m, in \u001b[0;36mloads\u001b[0;34m(s, cls, object_hook, parse_float, parse_int, parse_constant, object_pairs_hook, **kw)\u001b[0m\n\u001b[1;32m    343\u001b[0m \u001b[39mif\u001b[39;00m (\u001b[39mcls\u001b[39m \u001b[39mis\u001b[39;00m \u001b[39mNone\u001b[39;00m \u001b[39mand\u001b[39;00m object_hook \u001b[39mis\u001b[39;00m \u001b[39mNone\u001b[39;00m \u001b[39mand\u001b[39;00m\n\u001b[1;32m    344\u001b[0m         parse_int \u001b[39mis\u001b[39;00m \u001b[39mNone\u001b[39;00m \u001b[39mand\u001b[39;00m parse_float \u001b[39mis\u001b[39;00m \u001b[39mNone\u001b[39;00m \u001b[39mand\u001b[39;00m\n\u001b[1;32m    345\u001b[0m         parse_constant \u001b[39mis\u001b[39;00m \u001b[39mNone\u001b[39;00m \u001b[39mand\u001b[39;00m object_pairs_hook \u001b[39mis\u001b[39;00m \u001b[39mNone\u001b[39;00m \u001b[39mand\u001b[39;00m \u001b[39mnot\u001b[39;00m kw):\n\u001b[0;32m--> 346\u001b[0m     \u001b[39mreturn\u001b[39;00m _default_decoder\u001b[39m.\u001b[39;49mdecode(s)\n\u001b[1;32m    347\u001b[0m \u001b[39mif\u001b[39;00m \u001b[39mcls\u001b[39m \u001b[39mis\u001b[39;00m \u001b[39mNone\u001b[39;00m:\n",
      "File \u001b[0;32m~/.pyenv/versions/3.10.6/lib/python3.10/json/decoder.py:337\u001b[0m, in \u001b[0;36mJSONDecoder.decode\u001b[0;34m(self, s, _w)\u001b[0m\n\u001b[1;32m    333\u001b[0m \u001b[39m\u001b[39m\u001b[39m\"\"\"Return the Python representation of ``s`` (a ``str`` instance\u001b[39;00m\n\u001b[1;32m    334\u001b[0m \u001b[39mcontaining a JSON document).\u001b[39;00m\n\u001b[1;32m    335\u001b[0m \n\u001b[1;32m    336\u001b[0m \u001b[39m\"\"\"\u001b[39;00m\n\u001b[0;32m--> 337\u001b[0m obj, end \u001b[39m=\u001b[39m \u001b[39mself\u001b[39;49m\u001b[39m.\u001b[39;49mraw_decode(s, idx\u001b[39m=\u001b[39;49m_w(s, \u001b[39m0\u001b[39;49m)\u001b[39m.\u001b[39;49mend())\n\u001b[1;32m    338\u001b[0m end \u001b[39m=\u001b[39m _w(s, end)\u001b[39m.\u001b[39mend()\n",
      "File \u001b[0;32m~/.pyenv/versions/3.10.6/lib/python3.10/json/decoder.py:355\u001b[0m, in \u001b[0;36mJSONDecoder.raw_decode\u001b[0;34m(self, s, idx)\u001b[0m\n\u001b[1;32m    354\u001b[0m \u001b[39mexcept\u001b[39;00m \u001b[39mStopIteration\u001b[39;00m \u001b[39mas\u001b[39;00m err:\n\u001b[0;32m--> 355\u001b[0m     \u001b[39mraise\u001b[39;00m JSONDecodeError(\u001b[39m\"\u001b[39m\u001b[39mExpecting value\u001b[39m\u001b[39m\"\u001b[39m, s, err\u001b[39m.\u001b[39mvalue) \u001b[39mfrom\u001b[39;00m \u001b[39mNone\u001b[39;00m\n\u001b[1;32m    356\u001b[0m \u001b[39mreturn\u001b[39;00m obj, end\n",
      "\u001b[0;31mJSONDecodeError\u001b[0m: Expecting value: line 1 column 1 (char 0)",
      "\nDuring handling of the above exception, another exception occurred:\n",
      "\u001b[0;31mJSONDecodeError\u001b[0m                           Traceback (most recent call last)",
      "\u001b[1;32m/home/bmcho/code/bchojniak/filmaholic/request_predict.ipynb Cell 4\u001b[0m line \u001b[0;36m1\n\u001b[0;32m----> <a href='vscode-notebook-cell://wsl%2Bubuntu/home/bmcho/code/bchojniak/filmaholic/request_predict.ipynb#W3sdnNjb2RlLXJlbW90ZQ%3D%3D?line=0'>1</a>\u001b[0m recommendations \u001b[39m=\u001b[39m response\u001b[39m.\u001b[39;49mjson()\n\u001b[1;32m      <a href='vscode-notebook-cell://wsl%2Bubuntu/home/bmcho/code/bchojniak/filmaholic/request_predict.ipynb#W3sdnNjb2RlLXJlbW90ZQ%3D%3D?line=1'>2</a>\u001b[0m recommendations[\u001b[39m'\u001b[39m\u001b[39mSuggested Movies\u001b[39m\u001b[39m'\u001b[39m][\u001b[39m'\u001b[39m\u001b[39mtitle\u001b[39m\u001b[39m'\u001b[39m]\n",
      "File \u001b[0;32m~/.pyenv/versions/3.10.6/envs/filmaholic/lib/python3.10/site-packages/requests/models.py:975\u001b[0m, in \u001b[0;36mResponse.json\u001b[0;34m(self, **kwargs)\u001b[0m\n\u001b[1;32m    971\u001b[0m     \u001b[39mreturn\u001b[39;00m complexjson\u001b[39m.\u001b[39mloads(\u001b[39mself\u001b[39m\u001b[39m.\u001b[39mtext, \u001b[39m*\u001b[39m\u001b[39m*\u001b[39mkwargs)\n\u001b[1;32m    972\u001b[0m \u001b[39mexcept\u001b[39;00m JSONDecodeError \u001b[39mas\u001b[39;00m e:\n\u001b[1;32m    973\u001b[0m     \u001b[39m# Catch JSON-related errors and raise as requests.JSONDecodeError\u001b[39;00m\n\u001b[1;32m    974\u001b[0m     \u001b[39m# This aliases json.JSONDecodeError and simplejson.JSONDecodeError\u001b[39;00m\n\u001b[0;32m--> 975\u001b[0m     \u001b[39mraise\u001b[39;00m RequestsJSONDecodeError(e\u001b[39m.\u001b[39mmsg, e\u001b[39m.\u001b[39mdoc, e\u001b[39m.\u001b[39mpos)\n",
      "\u001b[0;31mJSONDecodeError\u001b[0m: Expecting value: line 1 column 1 (char 0)"
     ]
    }
   ],
   "source": [
    "recommendations = response.json()\n",
    "recommendations['Suggested Movies']['title']"
   ]
  },
  {
   "cell_type": "code",
   "execution_count": 19,
   "metadata": {},
   "outputs": [],
   "source": [
    "def predict(liked_movies, disliked_movies):\n",
    "\n",
    "    # model = app.state.model\n",
    "    # assert model is not None\n",
    "\n",
    "    like_genres, dislike_genres = preprocess_genres(liked_movies, disliked_movies)\n",
    "    like_dislike_tags = preprocess_tags(liked_movies, disliked_movies)\n",
    "\n",
    "    predictions, best_movies, worst_movies = top_10_recommendations(liked_movies, disliked_movies, like_genres, dislike_genres, like_dislike_tags)\n",
    "\n",
    "    return {'Suggested Movies': best_movies}"
   ]
  },
  {
   "cell_type": "code",
   "execution_count": 20,
   "metadata": {},
   "outputs": [
    {
     "name": "stdout",
     "output_type": "stream",
     "text": [
      "filmaholic_extended_dataset filmaholic_extended_dataset\n"
     ]
    }
   ],
   "source": [
    "print(BQ_DATASET, BUCKET_NAME)"
   ]
  },
  {
   "cell_type": "code",
   "execution_count": 22,
   "metadata": {},
   "outputs": [
    {
     "name": "stderr",
     "output_type": "stream",
     "text": [
      "/home/bmcho/.pyenv/versions/3.10.6/envs/filmaholic/lib/python3.10/site-packages/sklearn/base.py:299: UserWarning: Trying to unpickle estimator DecisionTreeRegressor from version 1.2.2 when using version 1.2.1. This might lead to breaking code or invalid results. Use at your own risk. For more info please refer to:\n",
      "https://scikit-learn.org/stable/model_persistence.html#security-maintainability-limitations\n",
      "  warnings.warn(\n",
      "/home/bmcho/.pyenv/versions/3.10.6/envs/filmaholic/lib/python3.10/site-packages/sklearn/base.py:299: UserWarning: Trying to unpickle estimator RandomForestRegressor from version 1.2.2 when using version 1.2.1. This might lead to breaking code or invalid results. Use at your own risk. For more info please refer to:\n",
      "https://scikit-learn.org/stable/model_persistence.html#security-maintainability-limitations\n",
      "  warnings.warn(\n",
      "/home/bmcho/.pyenv/versions/3.10.6/envs/filmaholic/lib/python3.10/site-packages/sklearn/base.py:299: UserWarning: Trying to unpickle estimator LinearRegression from version 1.2.2 when using version 1.2.1. This might lead to breaking code or invalid results. Use at your own risk. For more info please refer to:\n",
      "https://scikit-learn.org/stable/model_persistence.html#security-maintainability-limitations\n",
      "  warnings.warn(\n"
     ]
    },
    {
     "name": "stdout",
     "output_type": "stream",
     "text": [
      "17/17 [==============================] - 0s 6ms/step\n"
     ]
    },
    {
     "name": "stderr",
     "output_type": "stream",
     "text": [
      "[Parallel(n_jobs=8)]: Using backend ThreadingBackend with 8 concurrent workers.\n",
      "[Parallel(n_jobs=8)]: Done  25 tasks      | elapsed:    0.0s\n",
      "[Parallel(n_jobs=8)]: Done 100 out of 100 | elapsed:    0.1s finished\n"
     ]
    },
    {
     "data": {
      "text/plain": [
       "{'Suggested Movies':     movieId  prediction                                              title  \\\n",
       " 0      1784    4.531353                          As Good as It Gets (1997)   \n",
       " 1      1222    4.527115                           Full Metal Jacket (1987)   \n",
       " 2      1214    4.520167                                       Alien (1979)   \n",
       " 3     48394    4.513088   Pan's Labyrinth (Laberinto del fauno, El) (2006)   \n",
       " 4       260    4.512331          Star Wars: Episode IV - A New Hope (1977)   \n",
       " 5      7147    4.508148                                    Big Fish (2003)   \n",
       " 6     94959    4.498048                            Moonrise Kingdom (2012)   \n",
       " 7    152077    4.491843                         10 Cloverfield Lane (2016)   \n",
       " 8    122924    4.490419                           X-Men: Apocalypse (2016)   \n",
       " 9    112290    4.489126                                     Boyhood (2014)   \n",
       " 10     2028    4.487319                         Saving Private Ryan (1998)   \n",
       " 11     1198    4.486805  Raiders of the Lost Ark (Indiana Jones and the...   \n",
       " 12   176751    4.485612                               American Made (2017)   \n",
       " 13   160954    4.484270                                       Nerve (2016)   \n",
       " 14   164909    4.482993                                  La La Land (2016)   \n",
       " 15     4878    4.482715                                Donnie Darko (2001)   \n",
       " 16     1073    4.482429         Willy Wonka & the Chocolate Factory (1971)   \n",
       " 17     2918    4.481305                    Ferris Bueller's Day Off (1986)   \n",
       " 18   115149    4.480558                                   John Wick (2014)   \n",
       " 19   112183    4.479499  Birdman: Or (The Unexpected Virtue of Ignoranc...   \n",
       " \n",
       "                              genres  YEAR  Thriller  Horror  Action  Romance  \\\n",
       " 0              Comedy|Drama|Romance  1997         0       0       0        1   \n",
       " 1                         Drama|War  1987         0       0       0        0   \n",
       " 2                     Horror|Sci-Fi  1979         0       1       0        0   \n",
       " 3            Drama|Fantasy|Thriller  2006         1       0       0        0   \n",
       " 4           Action|Adventure|Sci-Fi  1977         0       0       1        0   \n",
       " 5             Drama|Fantasy|Romance  2003         0       0       0        1   \n",
       " 6              Comedy|Drama|Romance  2012         0       0       0        1   \n",
       " 7                          Thriller  2016         1       0       0        0   \n",
       " 8   Action|Adventure|Fantasy|Sci-Fi  2016         0       0       1        0   \n",
       " 9                             Drama  2014         0       0       0        0   \n",
       " 10                 Action|Drama|War  1998         0       0       1        0   \n",
       " 11                 Action|Adventure  1981         0       0       1        0   \n",
       " 12                   Crime|Thriller  2017         1       0       0        0   \n",
       " 13                   Drama|Thriller  2016         1       0       0        0   \n",
       " 14             Comedy|Drama|Romance  2016         0       0       0        1   \n",
       " 15    Drama|Mystery|Sci-Fi|Thriller  2001         1       0       0        0   \n",
       " 16  Children|Comedy|Fantasy|Musical  1971         0       0       0        0   \n",
       " 17                           Comedy  1986         0       0       0        0   \n",
       " 18                  Action|Thriller  2014         1       0       1        0   \n",
       " 19                     Comedy|Drama  2014         0       0       0        0   \n",
       " \n",
       "     Comedy  ...  Adventure  FilmNoir  Crime  Western  Animation  Drama  War  \\\n",
       " 0        1  ...          0         0      0        0          0      1    0   \n",
       " 1        0  ...          0         0      0        0          0      1    1   \n",
       " 2        0  ...          0         0      0        0          0      0    0   \n",
       " 3        0  ...          0         0      0        0          0      1    0   \n",
       " 4        0  ...          1         0      0        0          0      0    0   \n",
       " 5        0  ...          0         0      0        0          0      1    0   \n",
       " 6        1  ...          0         0      0        0          0      1    0   \n",
       " 7        0  ...          0         0      0        0          0      0    0   \n",
       " 8        0  ...          1         0      0        0          0      0    0   \n",
       " 9        0  ...          0         0      0        0          0      1    0   \n",
       " 10       0  ...          0         0      0        0          0      1    1   \n",
       " 11       0  ...          1         0      0        0          0      0    0   \n",
       " 12       0  ...          0         0      1        0          0      0    0   \n",
       " 13       0  ...          0         0      0        0          0      1    0   \n",
       " 14       1  ...          0         0      0        0          0      1    0   \n",
       " 15       0  ...          0         0      0        0          0      1    0   \n",
       " 16       1  ...          0         0      0        0          0      0    0   \n",
       " 17       1  ...          0         0      0        0          0      0    0   \n",
       " 18       0  ...          0         0      0        0          0      0    0   \n",
       " 19       1  ...          0         0      0        0          0      1    0   \n",
       " \n",
       "     Musical  Documentary  None  \n",
       " 0         0            0     0  \n",
       " 1         0            0     0  \n",
       " 2         0            0     0  \n",
       " 3         0            0     0  \n",
       " 4         0            0     0  \n",
       " 5         0            0     0  \n",
       " 6         0            0     0  \n",
       " 7         0            0     0  \n",
       " 8         0            0     0  \n",
       " 9         0            0     0  \n",
       " 10        0            0     0  \n",
       " 11        0            0     0  \n",
       " 12        0            0     0  \n",
       " 13        0            0     0  \n",
       " 14        0            0     0  \n",
       " 15        0            0     0  \n",
       " 16        1            0     0  \n",
       " 17        0            0     0  \n",
       " 18        0            0     0  \n",
       " 19        0            0     0  \n",
       " \n",
       " [20 rows x 24 columns]}"
      ]
     },
     "execution_count": 22,
     "metadata": {},
     "output_type": "execute_result"
    }
   ],
   "source": [
    "predict(l, d)"
   ]
  },
  {
   "cell_type": "code",
   "execution_count": null,
   "metadata": {},
   "outputs": [],
   "source": [
    "preprocess_genres(l, d)"
   ]
  }
 ],
 "metadata": {
  "kernelspec": {
   "display_name": "filmaholic",
   "language": "python",
   "name": "python3"
  },
  "language_info": {
   "codemirror_mode": {
    "name": "ipython",
    "version": 3
   },
   "file_extension": ".py",
   "mimetype": "text/x-python",
   "name": "python",
   "nbconvert_exporter": "python",
   "pygments_lexer": "ipython3",
   "version": "3.10.6"
  },
  "orig_nbformat": 4
 },
 "nbformat": 4,
 "nbformat_minor": 2
}
