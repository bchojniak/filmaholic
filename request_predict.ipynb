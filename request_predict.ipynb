{
 "cells": [
  {
   "cell_type": "code",
   "execution_count": 6,
   "metadata": {},
   "outputs": [],
   "source": [
    "import requests\n",
    "from filmaholic.ml_logic.preprocessor import preprocess_genres, preprocess_tags, title_to_id\n",
    "from filmaholic.ml_logic.model import top_10_recommendations"
   ]
  },
  {
   "cell_type": "code",
   "execution_count": 7,
   "metadata": {},
   "outputs": [],
   "source": [
    "l = ['Toy Story (1995)', 'Jumanji (1995)', 'Heat (1995)', 'GoldenEye (1995)','Casino (1995)','Ace Ventura: When Nature Calls (1995)']\n",
    "d = ['Get Shorty (1995)','Leaving Las Vegas (1995)','Twelve Monkeys (a.k.a. 12 Monkeys) (1995)','Babe (1995)','Clueless (1995)','Seven (a.k.a. Se7en) (1995)']"
   ]
  },
  {
   "cell_type": "code",
   "execution_count": 8,
   "metadata": {},
   "outputs": [],
   "source": [
    "# url = 'http://localhost:8000/predict'\n",
    "\n",
    "# params = {\n",
    "#     'liked_movies': l,  \n",
    "#     'disliked_movies': d\n",
    "# }\n",
    "\n",
    "# response = requests.get(url, params=params)\n",
    "# recommendations = response.json()\n",
    "# recommendations"
   ]
  },
  {
   "cell_type": "code",
   "execution_count": 9,
   "metadata": {},
   "outputs": [],
   "source": [
    "def predict(liked_movies, disliked_movies):\n",
    "\n",
    "    # model = app.state.model\n",
    "    # assert model is not None\n",
    "\n",
    "    like_genres, dislike_genres = preprocess_genres(liked_movies, disliked_movies)\n",
    "    like_dislike_tags = preprocess_tags(liked_movies, disliked_movies)\n",
    "\n",
    "    predictions, best_movies, worst_movies = top_10_recommendations(liked_movies, disliked_movies, like_genres, dislike_genres, like_dislike_tags)\n",
    "\n",
    "    return {'Suggested Movies': best_movies}"
   ]
  },
  {
   "cell_type": "code",
   "execution_count": 10,
   "metadata": {},
   "outputs": [
    {
     "name": "stderr",
     "output_type": "stream",
     "text": [
      "/home/bmcho/.pyenv/versions/3.10.6/envs/filmaholic/lib/python3.10/site-packages/sklearn/base.py:299: UserWarning: Trying to unpickle estimator DecisionTreeRegressor from version 1.2.2 when using version 1.2.1. This might lead to breaking code or invalid results. Use at your own risk. For more info please refer to:\n",
      "https://scikit-learn.org/stable/model_persistence.html#security-maintainability-limitations\n",
      "  warnings.warn(\n",
      "/home/bmcho/.pyenv/versions/3.10.6/envs/filmaholic/lib/python3.10/site-packages/sklearn/base.py:299: UserWarning: Trying to unpickle estimator RandomForestRegressor from version 1.2.2 when using version 1.2.1. This might lead to breaking code or invalid results. Use at your own risk. For more info please refer to:\n",
      "https://scikit-learn.org/stable/model_persistence.html#security-maintainability-limitations\n",
      "  warnings.warn(\n",
      "/home/bmcho/.pyenv/versions/3.10.6/envs/filmaholic/lib/python3.10/site-packages/sklearn/base.py:299: UserWarning: Trying to unpickle estimator LinearRegression from version 1.2.2 when using version 1.2.1. This might lead to breaking code or invalid results. Use at your own risk. For more info please refer to:\n",
      "https://scikit-learn.org/stable/model_persistence.html#security-maintainability-limitations\n",
      "  warnings.warn(\n"
     ]
    },
    {
     "ename": "ValueError",
     "evalue": "Unexpected result of `predict_function` (Empty batch_outputs). Please use `Model.compile(..., run_eagerly=True)`, or `tf.config.run_functions_eagerly(True)` for more information of where went wrong, or file a issue/bug to `tf.keras`.",
     "output_type": "error",
     "traceback": [
      "\u001b[0;31m---------------------------------------------------------------------------\u001b[0m",
      "\u001b[0;31mValueError\u001b[0m                                Traceback (most recent call last)",
      "\u001b[1;32m/home/bmcho/code/bchojniak/filmaholic/request_predict.ipynb Cell 5\u001b[0m line \u001b[0;36m1\n\u001b[0;32m----> <a href='vscode-notebook-cell://wsl%2Bubuntu/home/bmcho/code/bchojniak/filmaholic/request_predict.ipynb#X10sdnNjb2RlLXJlbW90ZQ%3D%3D?line=0'>1</a>\u001b[0m predict(l, d)\n",
      "\u001b[1;32m/home/bmcho/code/bchojniak/filmaholic/request_predict.ipynb Cell 5\u001b[0m line \u001b[0;36m9\n\u001b[1;32m      <a href='vscode-notebook-cell://wsl%2Bubuntu/home/bmcho/code/bchojniak/filmaholic/request_predict.ipynb#X10sdnNjb2RlLXJlbW90ZQ%3D%3D?line=5'>6</a>\u001b[0m like_genres, dislike_genres \u001b[39m=\u001b[39m preprocess_genres(liked_movies, disliked_movies)\n\u001b[1;32m      <a href='vscode-notebook-cell://wsl%2Bubuntu/home/bmcho/code/bchojniak/filmaholic/request_predict.ipynb#X10sdnNjb2RlLXJlbW90ZQ%3D%3D?line=6'>7</a>\u001b[0m like_dislike_tags \u001b[39m=\u001b[39m preprocess_tags(liked_movies, disliked_movies)\n\u001b[0;32m----> <a href='vscode-notebook-cell://wsl%2Bubuntu/home/bmcho/code/bchojniak/filmaholic/request_predict.ipynb#X10sdnNjb2RlLXJlbW90ZQ%3D%3D?line=8'>9</a>\u001b[0m predictions, best_movies, worst_movies \u001b[39m=\u001b[39m top_10_recommendations(liked_movies, disliked_movies, like_genres, dislike_genres, like_dislike_tags)\n\u001b[1;32m     <a href='vscode-notebook-cell://wsl%2Bubuntu/home/bmcho/code/bchojniak/filmaholic/request_predict.ipynb#X10sdnNjb2RlLXJlbW90ZQ%3D%3D?line=10'>11</a>\u001b[0m \u001b[39mreturn\u001b[39;00m {\u001b[39m'\u001b[39m\u001b[39mSuggested Movies\u001b[39m\u001b[39m'\u001b[39m: best_movies}\n",
      "File \u001b[0;32m~/code/bchojniak/filmaholic/filmaholic/ml_logic/model.py:115\u001b[0m, in \u001b[0;36mtop_10_recommendations\u001b[0;34m(***failed resolving arguments***)\u001b[0m\n\u001b[1;32m    111\u001b[0m combine_model \u001b[39m=\u001b[39m get_data_cloud_platform(GCP_PROJECT, BUCKET_NAME, \u001b[39m'\u001b[39m\u001b[39mcombine_model\u001b[39m\u001b[39m'\u001b[39m, \u001b[39m'\u001b[39m\u001b[39mcombine_model\u001b[39m\u001b[39m'\u001b[39m, \u001b[39m'\u001b[39m\u001b[39m.sav\u001b[39m\u001b[39m'\u001b[39m)\n\u001b[1;32m    112\u001b[0m \u001b[39m# combine_model = pickle.load(open('models/combine_model.sav', 'rb'))\u001b[39;00m\n\u001b[1;32m    113\u001b[0m \n\u001b[1;32m    114\u001b[0m \u001b[39m# predicting with the genres and tags models\u001b[39;00m\n\u001b[0;32m--> 115\u001b[0m genres_model_predictions \u001b[39m=\u001b[39m (genres_model\u001b[39m.\u001b[39;49mpredict(x\u001b[39m=\u001b[39;49m [genres_like_input, genres_dislike_input, genres_movie_input])) \u001b[39m*\u001b[39m \u001b[39m5\u001b[39m\n\u001b[1;32m    116\u001b[0m tags_model_predictions \u001b[39m=\u001b[39m tags_model\u001b[39m.\u001b[39mpredict(tags_input)\n\u001b[1;32m    118\u001b[0m \u001b[39m# transforming the neural network prediction into a list\u001b[39;00m\n",
      "File \u001b[0;32m~/.pyenv/versions/3.10.6/envs/filmaholic/lib/python3.10/site-packages/keras/src/utils/traceback_utils.py:70\u001b[0m, in \u001b[0;36mfilter_traceback.<locals>.error_handler\u001b[0;34m(*args, **kwargs)\u001b[0m\n\u001b[1;32m     67\u001b[0m     filtered_tb \u001b[39m=\u001b[39m _process_traceback_frames(e\u001b[39m.\u001b[39m__traceback__)\n\u001b[1;32m     68\u001b[0m     \u001b[39m# To get the full stack trace, call:\u001b[39;00m\n\u001b[1;32m     69\u001b[0m     \u001b[39m# `tf.debugging.disable_traceback_filtering()`\u001b[39;00m\n\u001b[0;32m---> 70\u001b[0m     \u001b[39mraise\u001b[39;00m e\u001b[39m.\u001b[39mwith_traceback(filtered_tb) \u001b[39mfrom\u001b[39;00m \u001b[39mNone\u001b[39;00m\n\u001b[1;32m     71\u001b[0m \u001b[39mfinally\u001b[39;00m:\n\u001b[1;32m     72\u001b[0m     \u001b[39mdel\u001b[39;00m filtered_tb\n",
      "File \u001b[0;32m~/.pyenv/versions/3.10.6/envs/filmaholic/lib/python3.10/site-packages/keras/src/engine/training.py:2579\u001b[0m, in \u001b[0;36mModel.predict\u001b[0;34m(self, x, batch_size, verbose, steps, callbacks, max_queue_size, workers, use_multiprocessing)\u001b[0m\n\u001b[1;32m   2575\u001b[0m                 callbacks\u001b[39m.\u001b[39mon_predict_batch_end(\n\u001b[1;32m   2576\u001b[0m                     end_step, {\u001b[39m\"\u001b[39m\u001b[39moutputs\u001b[39m\u001b[39m\"\u001b[39m: batch_outputs}\n\u001b[1;32m   2577\u001b[0m                 )\n\u001b[1;32m   2578\u001b[0m     \u001b[39mif\u001b[39;00m batch_outputs \u001b[39mis\u001b[39;00m \u001b[39mNone\u001b[39;00m:\n\u001b[0;32m-> 2579\u001b[0m         \u001b[39mraise\u001b[39;00m \u001b[39mValueError\u001b[39;00m(\n\u001b[1;32m   2580\u001b[0m             \u001b[39m\"\u001b[39m\u001b[39mUnexpected result of `predict_function` \u001b[39m\u001b[39m\"\u001b[39m\n\u001b[1;32m   2581\u001b[0m             \u001b[39m\"\u001b[39m\u001b[39m(Empty batch_outputs). Please use \u001b[39m\u001b[39m\"\u001b[39m\n\u001b[1;32m   2582\u001b[0m             \u001b[39m\"\u001b[39m\u001b[39m`Model.compile(..., run_eagerly=True)`, or \u001b[39m\u001b[39m\"\u001b[39m\n\u001b[1;32m   2583\u001b[0m             \u001b[39m\"\u001b[39m\u001b[39m`tf.config.run_functions_eagerly(True)` for more \u001b[39m\u001b[39m\"\u001b[39m\n\u001b[1;32m   2584\u001b[0m             \u001b[39m\"\u001b[39m\u001b[39minformation of where went wrong, or file a \u001b[39m\u001b[39m\"\u001b[39m\n\u001b[1;32m   2585\u001b[0m             \u001b[39m\"\u001b[39m\u001b[39missue/bug to `tf.keras`.\u001b[39m\u001b[39m\"\u001b[39m\n\u001b[1;32m   2586\u001b[0m         )\n\u001b[1;32m   2587\u001b[0m     callbacks\u001b[39m.\u001b[39mon_predict_end()\n\u001b[1;32m   2588\u001b[0m all_outputs \u001b[39m=\u001b[39m tf\u001b[39m.\u001b[39m__internal__\u001b[39m.\u001b[39mnest\u001b[39m.\u001b[39mmap_structure_up_to(\n\u001b[1;32m   2589\u001b[0m     batch_outputs, potentially_ragged_concat, outputs\n\u001b[1;32m   2590\u001b[0m )\n",
      "\u001b[0;31mValueError\u001b[0m: Unexpected result of `predict_function` (Empty batch_outputs). Please use `Model.compile(..., run_eagerly=True)`, or `tf.config.run_functions_eagerly(True)` for more information of where went wrong, or file a issue/bug to `tf.keras`."
     ]
    }
   ],
   "source": [
    "predict(l, d)"
   ]
  },
  {
   "cell_type": "code",
   "execution_count": null,
   "metadata": {},
   "outputs": [],
   "source": [
    "title_to_id(l, d)"
   ]
  },
  {
   "cell_type": "code",
   "execution_count": null,
   "metadata": {},
   "outputs": [],
   "source": [
    "preprocess_genres(l, d)"
   ]
  }
 ],
 "metadata": {
  "kernelspec": {
   "display_name": "filmaholic",
   "language": "python",
   "name": "python3"
  },
  "language_info": {
   "codemirror_mode": {
    "name": "ipython",
    "version": 3
   },
   "file_extension": ".py",
   "mimetype": "text/x-python",
   "name": "python",
   "nbconvert_exporter": "python",
   "pygments_lexer": "ipython3",
   "version": "3.10.6"
  },
  "orig_nbformat": 4
 },
 "nbformat": 4,
 "nbformat_minor": 2
}
